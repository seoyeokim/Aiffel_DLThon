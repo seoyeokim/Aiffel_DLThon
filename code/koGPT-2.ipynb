{
 "cells": [
  {
   "cell_type": "code",
   "execution_count": 1,
   "id": "fe2fcbbd",
   "metadata": {
    "colab": {
     "base_uri": "https://localhost:8080/",
     "height": 1000
    },
    "id": "4f4b5653",
    "outputId": "e6bfb3d5-bb5d-43b2-823c-4effcc630647",
    "scrolled": true
   },
   "outputs": [
    {
     "name": "stdout",
     "output_type": "stream",
     "text": [
      "Requirement already satisfied: transformers in /opt/conda/lib/python3.9/site-packages (4.11.3)\n",
      "Requirement already satisfied: requests in /opt/conda/lib/python3.9/site-packages (from transformers) (2.26.0)\n",
      "Requirement already satisfied: regex!=2019.12.17 in /opt/conda/lib/python3.9/site-packages (from transformers) (2021.11.10)\n",
      "Requirement already satisfied: packaging>=20.0 in /opt/conda/lib/python3.9/site-packages (from transformers) (21.3)\n",
      "Requirement already satisfied: numpy>=1.17 in /opt/conda/lib/python3.9/site-packages (from transformers) (1.21.4)\n",
      "Requirement already satisfied: tokenizers<0.11,>=0.10.1 in /opt/conda/lib/python3.9/site-packages (from transformers) (0.10.3)\n",
      "Requirement already satisfied: tqdm>=4.27 in /opt/conda/lib/python3.9/site-packages (from transformers) (4.62.3)\n",
      "Requirement already satisfied: filelock in /opt/conda/lib/python3.9/site-packages (from transformers) (3.4.0)\n",
      "Requirement already satisfied: sacremoses in /opt/conda/lib/python3.9/site-packages (from transformers) (0.0.46)\n",
      "Requirement already satisfied: huggingface-hub>=0.0.17 in /opt/conda/lib/python3.9/site-packages (from transformers) (0.0.19)\n",
      "Requirement already satisfied: pyyaml>=5.1 in /opt/conda/lib/python3.9/site-packages (from transformers) (6.0)\n",
      "Requirement already satisfied: typing-extensions in /opt/conda/lib/python3.9/site-packages (from huggingface-hub>=0.0.17->transformers) (4.0.1)\n",
      "Requirement already satisfied: pyparsing!=3.0.5,>=2.0.2 in /opt/conda/lib/python3.9/site-packages (from packaging>=20.0->transformers) (3.0.6)\n",
      "Requirement already satisfied: urllib3<1.27,>=1.21.1 in /opt/conda/lib/python3.9/site-packages (from requests->transformers) (1.26.7)\n",
      "Requirement already satisfied: charset-normalizer~=2.0.0 in /opt/conda/lib/python3.9/site-packages (from requests->transformers) (2.0.8)\n",
      "Requirement already satisfied: certifi>=2017.4.17 in /opt/conda/lib/python3.9/site-packages (from requests->transformers) (2021.10.8)\n",
      "Requirement already satisfied: idna<4,>=2.5 in /opt/conda/lib/python3.9/site-packages (from requests->transformers) (2.10)\n",
      "Requirement already satisfied: joblib in /opt/conda/lib/python3.9/site-packages (from sacremoses->transformers) (1.1.0)\n",
      "Requirement already satisfied: six in /opt/conda/lib/python3.9/site-packages (from sacremoses->transformers) (1.16.0)\n",
      "Requirement already satisfied: click in /opt/conda/lib/python3.9/site-packages (from sacremoses->transformers) (8.0.3)\n",
      "\u001b[33mWARNING: Running pip as the 'root' user can result in broken permissions and conflicting behaviour with the system package manager. It is recommended to use a virtual environment instead: https://pip.pypa.io/warnings/venv\u001b[0m\n"
     ]
    }
   ],
   "source": [
    "! pip install transformers\n",
    "# ! pip install transformers<4.38\n",
    "# ! pip install tensorflow==2.11.0 keras==2.11.0"
   ]
  },
  {
   "cell_type": "code",
   "execution_count": 2,
   "id": "53e740df",
   "metadata": {
    "id": "342662f7"
   },
   "outputs": [],
   "source": [
    "import pandas as pd\n",
    "import numpy as np\n",
    "import urllib.request\n",
    "import os\n",
    "from tqdm import tqdm\n",
    "import tensorflow as tf\n",
    "from sklearn import preprocessing\n",
    "from transformers import AutoTokenizer, TFGPT2Model\n",
    "from tensorflow.keras.preprocessing.sequence import pad_sequences\n",
    "from tensorflow.keras.callbacks import EarlyStopping, ModelCheckpoint"
   ]
  },
  {
   "cell_type": "code",
   "execution_count": 4,
   "id": "61b471fc",
   "metadata": {},
   "outputs": [
    {
     "name": "stdout",
     "output_type": "stream",
     "text": [
      "Requirement already satisfied: requests in /opt/conda/lib/python3.9/site-packages (2.26.0)\n",
      "\u001b[31mERROR: Could not find a version that satisfies the requirement zipfile (from versions: none)\u001b[0m\n",
      "\u001b[31mERROR: No matching distribution found for zipfile\u001b[0m\n"
     ]
    }
   ],
   "source": [
    "! pip install requests zipfile\n"
   ]
  },
  {
   "cell_type": "code",
   "execution_count": 5,
   "id": "54f47daa",
   "metadata": {},
   "outputs": [
    {
     "name": "stdout",
     "output_type": "stream",
     "text": [
      "압축 해제 완료!\n"
     ]
    }
   ],
   "source": [
    "import requests\n",
    "import zipfile\n",
    "import os\n",
    "\n",
    "# zip 파일 URL\n",
    "zip_url = \"https://github.com/seoyeokim/Aiffel_DLThon/raw/main/data/preprocessed_train_raw.zip\"\n",
    "\n",
    "# zip 파일 다운로드\n",
    "response = requests.get(zip_url)\n",
    "zip_path = \"preprocessed_train_raw.zip\"\n",
    "\n",
    "# 다운로드한 zip 파일 저장\n",
    "with open(zip_path, \"wb\") as file:\n",
    "    file.write(response.content)\n",
    "\n",
    "# 압축 해제\n",
    "with zipfile.ZipFile(zip_path, \"r\") as zip_ref:\n",
    "    zip_ref.extractall(\"preprocessed_train_raw\")\n",
    "\n",
    "print(\"압축 해제 완료!\")"
   ]
  },
  {
   "cell_type": "code",
   "execution_count": 6,
   "id": "1d991f00",
   "metadata": {},
   "outputs": [
    {
     "data": {
      "text/html": [
       "<div>\n",
       "<style scoped>\n",
       "    .dataframe tbody tr th:only-of-type {\n",
       "        vertical-align: middle;\n",
       "    }\n",
       "\n",
       "    .dataframe tbody tr th {\n",
       "        vertical-align: top;\n",
       "    }\n",
       "\n",
       "    .dataframe thead th {\n",
       "        text-align: right;\n",
       "    }\n",
       "</style>\n",
       "<table border=\"1\" class=\"dataframe\">\n",
       "  <thead>\n",
       "    <tr style=\"text-align: right;\">\n",
       "      <th></th>\n",
       "      <th>Unnamed: 0</th>\n",
       "      <th>conversation</th>\n",
       "      <th>class</th>\n",
       "    </tr>\n",
       "  </thead>\n",
       "  <tbody>\n",
       "    <tr>\n",
       "      <th>0</th>\n",
       "      <td>0</td>\n",
       "      <td>아이가 아빠 생일이라고 그림을 그려줬어.\\n좋으시겠어요. 자녀분이 그림을 잘 그리나...</td>\n",
       "      <td>4</td>\n",
       "    </tr>\n",
       "    <tr>\n",
       "      <th>1</th>\n",
       "      <td>1</td>\n",
       "      <td>야 안녕\\n .어 안녕.\\n 나 오늘 택시비가 없는데 혹시 빌려줄 수 있어 ??\\n...</td>\n",
       "      <td>1</td>\n",
       "    </tr>\n",
       "    <tr>\n",
       "      <th>2</th>\n",
       "      <td>2</td>\n",
       "      <td>친구들이 내 결혼식장에 오면 우리 부부를 보여주는 게 용기가 나질 않아.\\n친구들에...</td>\n",
       "      <td>4</td>\n",
       "    </tr>\n",
       "    <tr>\n",
       "      <th>3</th>\n",
       "      <td>3</td>\n",
       "      <td>아들이 이번에 고등학교 졸업했어.\\n이번에 졸업을 하셨다니 졸업 축하 드려요.\\n근...</td>\n",
       "      <td>4</td>\n",
       "    </tr>\n",
       "    <tr>\n",
       "      <th>4</th>\n",
       "      <td>4</td>\n",
       "      <td>나를 괴롭히던 친구들이 전학을 갔고 안 좋은 사건들을 선생님이 해결해 주어서 기뻐....</td>\n",
       "      <td>4</td>\n",
       "    </tr>\n",
       "  </tbody>\n",
       "</table>\n",
       "</div>"
      ],
      "text/plain": [
       "   Unnamed: 0                                       conversation  class\n",
       "0           0  아이가 아빠 생일이라고 그림을 그려줬어.\\n좋으시겠어요. 자녀분이 그림을 잘 그리나...      4\n",
       "1           1  야 안녕\\n .어 안녕.\\n 나 오늘 택시비가 없는데 혹시 빌려줄 수 있어 ??\\n...      1\n",
       "2           2  친구들이 내 결혼식장에 오면 우리 부부를 보여주는 게 용기가 나질 않아.\\n친구들에...      4\n",
       "3           3  아들이 이번에 고등학교 졸업했어.\\n이번에 졸업을 하셨다니 졸업 축하 드려요.\\n근...      4\n",
       "4           4  나를 괴롭히던 친구들이 전학을 갔고 안 좋은 사건들을 선생님이 해결해 주어서 기뻐....      4"
      ]
     },
     "execution_count": 6,
     "metadata": {},
     "output_type": "execute_result"
    }
   ],
   "source": [
    "import os\n",
    "import pandas as pd\n",
    "\n",
    "# 압축 해제된 폴더 경로\n",
    "folder_path = \"preprocessed_train_raw\"\n",
    "\n",
    "# 폴더 내의 모든 파일을 확인\n",
    "csv_files = [f for f in os.listdir(folder_path) if f.endswith('.csv')]\n",
    "\n",
    "# 첫 번째 CSV 파일을 데이터프레임으로 읽기\n",
    "csv_path = os.path.join(folder_path, csv_files[0])  # 첫 번째 CSV 파일 경로\n",
    "train_data = pd.read_csv(csv_path)\n",
    "\n",
    "# 데이터프레임 출력\n",
    "train_data.head()"
   ]
  },
  {
   "cell_type": "code",
   "execution_count": 30,
   "id": "c2f1e517",
   "metadata": {},
   "outputs": [
    {
     "name": "stdout",
     "output_type": "stream",
     "text": [
      "67640\n"
     ]
    }
   ],
   "source": [
    "print(len(train_data))"
   ]
  },
  {
   "cell_type": "code",
   "execution_count": 9,
   "id": "8d20d6b2",
   "metadata": {},
   "outputs": [
    {
     "data": {
      "text/html": [
       "<div>\n",
       "<style scoped>\n",
       "    .dataframe tbody tr th:only-of-type {\n",
       "        vertical-align: middle;\n",
       "    }\n",
       "\n",
       "    .dataframe tbody tr th {\n",
       "        vertical-align: top;\n",
       "    }\n",
       "\n",
       "    .dataframe thead th {\n",
       "        text-align: right;\n",
       "    }\n",
       "</style>\n",
       "<table border=\"1\" class=\"dataframe\">\n",
       "  <thead>\n",
       "    <tr style=\"text-align: right;\">\n",
       "      <th></th>\n",
       "      <th>idx</th>\n",
       "      <th>text</th>\n",
       "    </tr>\n",
       "  </thead>\n",
       "  <tbody>\n",
       "    <tr>\n",
       "      <th>0</th>\n",
       "      <td>t_000</td>\n",
       "      <td>아가씨 담배한갑주소 네 4500원입니다 어 네 지갑어디갔지 에이 버스에서 잃어버렸나...</td>\n",
       "    </tr>\n",
       "    <tr>\n",
       "      <th>1</th>\n",
       "      <td>t_001</td>\n",
       "      <td>우리팀에서 다른팀으로 갈 사람 없나? 그럼 영지씨가 가는건 어때?  네? 제가요? ...</td>\n",
       "    </tr>\n",
       "    <tr>\n",
       "      <th>2</th>\n",
       "      <td>t_002</td>\n",
       "      <td>너 오늘 그게 뭐야 네 제가 뭘 잘못했나요.? 제대로 좀 하지 네 똑바로 좀 하지 ...</td>\n",
       "    </tr>\n",
       "    <tr>\n",
       "      <th>3</th>\n",
       "      <td>t_003</td>\n",
       "      <td>이거 들어바 와 이 노래 진짜 좋다 그치 요즘 이 것만 들어 진짜 너무 좋다 내가 ...</td>\n",
       "    </tr>\n",
       "    <tr>\n",
       "      <th>4</th>\n",
       "      <td>t_004</td>\n",
       "      <td>아무튼 앞으로 니가 내 와이파이야. .응 와이파이 온. 켰어. 반말? 주인님이라고도...</td>\n",
       "    </tr>\n",
       "  </tbody>\n",
       "</table>\n",
       "</div>"
      ],
      "text/plain": [
       "     idx                                               text\n",
       "0  t_000  아가씨 담배한갑주소 네 4500원입니다 어 네 지갑어디갔지 에이 버스에서 잃어버렸나...\n",
       "1  t_001  우리팀에서 다른팀으로 갈 사람 없나? 그럼 영지씨가 가는건 어때?  네? 제가요? ...\n",
       "2  t_002  너 오늘 그게 뭐야 네 제가 뭘 잘못했나요.? 제대로 좀 하지 네 똑바로 좀 하지 ...\n",
       "3  t_003  이거 들어바 와 이 노래 진짜 좋다 그치 요즘 이 것만 들어 진짜 너무 좋다 내가 ...\n",
       "4  t_004  아무튼 앞으로 니가 내 와이파이야. .응 와이파이 온. 켰어. 반말? 주인님이라고도..."
      ]
     },
     "execution_count": 9,
     "metadata": {},
     "output_type": "execute_result"
    }
   ],
   "source": [
    "test = \"https://raw.githubusercontent.com/seoyeokim/Aiffel_DLThon/main/data/test.csv\"\n",
    "test_data = pd.read_csv(test)\n",
    "test_data.head()"
   ]
  },
  {
   "cell_type": "code",
   "execution_count": 10,
   "id": "31c5d30b",
   "metadata": {},
   "outputs": [
    {
     "data": {
      "text/html": [
       "<div>\n",
       "<style scoped>\n",
       "    .dataframe tbody tr th:only-of-type {\n",
       "        vertical-align: middle;\n",
       "    }\n",
       "\n",
       "    .dataframe tbody tr th {\n",
       "        vertical-align: top;\n",
       "    }\n",
       "\n",
       "    .dataframe thead th {\n",
       "        text-align: right;\n",
       "    }\n",
       "</style>\n",
       "<table border=\"1\" class=\"dataframe\">\n",
       "  <thead>\n",
       "    <tr style=\"text-align: right;\">\n",
       "      <th></th>\n",
       "      <th>idx</th>\n",
       "      <th>text</th>\n",
       "    </tr>\n",
       "  </thead>\n",
       "  <tbody>\n",
       "    <tr>\n",
       "      <th>0</th>\n",
       "      <td>t_000</td>\n",
       "      <td>아가 씨 담 배 한 갑 주소 네\\n4500 원 입니다 어 네\\n지 갑 어 디 갔...</td>\n",
       "    </tr>\n",
       "    <tr>\n",
       "      <th>1</th>\n",
       "      <td>t_001</td>\n",
       "      <td>우리 팀 에서 다른 팀 으로 갈 사람 없 나 ? 그럼 영 지 씨가 가는 건 어 때...</td>\n",
       "    </tr>\n",
       "    <tr>\n",
       "      <th>2</th>\n",
       "      <td>t_002</td>\n",
       "      <td>너 오늘 그 게 뭐 야 네\\n제가  뭘\\n잘못 했\\n나요 . ? 제대로 좀\\n하지...</td>\n",
       "    </tr>\n",
       "    <tr>\n",
       "      <th>3</th>\n",
       "      <td>t_003</td>\n",
       "      <td>이 거 들어 바 와 이\\n노래 진짜 좋다\\n그\\n치\\n요즘 이 것 만 들어 진짜 ...</td>\n",
       "    </tr>\n",
       "    <tr>\n",
       "      <th>4</th>\n",
       "      <td>t_004</td>\n",
       "      <td>아무 튼 앞으로 니 가 내 와이 파이 야 . \\n. 응 와이\\n파이 온 .  켰 ...</td>\n",
       "    </tr>\n",
       "  </tbody>\n",
       "</table>\n",
       "</div>"
      ],
      "text/plain": [
       "     idx                                               text\n",
       "0  t_000    아가 씨 담 배 한 갑 주소 네\\n4500 원 입니다 어 네\\n지 갑 어 디 갔...\n",
       "1  t_001   우리 팀 에서 다른 팀 으로 갈 사람 없 나 ? 그럼 영 지 씨가 가는 건 어 때...\n",
       "2  t_002   너 오늘 그 게 뭐 야 네\\n제가  뭘\\n잘못 했\\n나요 . ? 제대로 좀\\n하지...\n",
       "3  t_003   이 거 들어 바 와 이\\n노래 진짜 좋다\\n그\\n치\\n요즘 이 것 만 들어 진짜 ...\n",
       "4  t_004   아무 튼 앞으로 니 가 내 와이 파이 야 . \\n. 응 와이\\n파이 온 .  켰 ..."
      ]
     },
     "execution_count": 10,
     "metadata": {},
     "output_type": "execute_result"
    }
   ],
   "source": [
    "# #전처리한 test data\n",
    "\n",
    "# def data_import(data_name):\n",
    "#     data_path = os.getenv('HOME')+'/aiffel/project_data/DLThon/'+data_name\n",
    "#     imported_data = pd.read_csv(data_path)\n",
    "#     return imported_data\n",
    "\n",
    "# new_test = data_import('new_test.csv')\n",
    "\n",
    "# new_test.head()"
   ]
  },
  {
   "cell_type": "code",
   "execution_count": 13,
   "id": "fd19a5f6",
   "metadata": {
    "scrolled": true
   },
   "outputs": [
    {
     "data": {
      "text/plain": [
       "'아이가 아빠 생일이라고 그림을 그려줬어.\\n좋으시겠어요. 자녀분이 그림을 잘 그리나 봐요?\\n그런 거 같아. 취미로 시작한 건데 본인이 좋아하고 또 적성에 맞나 보네.\\n그러면 계속 그림 쪽으로 진로를 계획하고 계시나요?\\n본인이 원하면 계속 도와주려고 하고 있어.\\n아이의 진로를 응원해 주는 좋은 부모님이신 거 같네요.'"
      ]
     },
     "execution_count": 13,
     "metadata": {},
     "output_type": "execute_result"
    }
   ],
   "source": [
    "train_data['conversation'][0]"
   ]
  },
  {
   "cell_type": "code",
   "execution_count": 39,
   "id": "2f30c38d",
   "metadata": {
    "id": "6393fb3e"
   },
   "outputs": [],
   "source": [
    "train_texts = train_data[\"conversation\"].to_list() # Features (not-tokenized yet)\n",
    "train_labels = train_data[\"class\"].to_list() # Labels"
   ]
  },
  {
   "cell_type": "code",
   "execution_count": 40,
   "id": "c2826366",
   "metadata": {
    "id": "abccad35"
   },
   "outputs": [],
   "source": [
    "# validation data 분리\n",
    "\n",
    "from sklearn.model_selection import train_test_split\n",
    "\n",
    "# Split Train and Validation data\n",
    "train_texts, val_texts, train_labels, val_labels = train_test_split(train_texts, train_labels, test_size=0.2, random_state=0)"
   ]
  },
  {
   "cell_type": "markdown",
   "id": "aa2bfea1",
   "metadata": {
    "id": "d9574a7b"
   },
   "source": [
    "### 토크나이저 다운로드"
   ]
  },
  {
   "cell_type": "code",
   "execution_count": 17,
   "id": "239404ce",
   "metadata": {
    "colab": {
     "base_uri": "https://localhost:8080/",
     "height": 185,
     "referenced_widgets": [
      "d9821036d15e4d208909e64b33b51284",
      "9ed59c23625e4eb7b57315688187094f",
      "6d30e31b46d2405fa72a1e15726340ae",
      "453f379e43574a338d044ae921287b87",
      "c876f97e27c9479dbd2d1353e3792bfa",
      "516f5beb270f4ec48935eb921714f7a7",
      "6b60e2c57dee478aa71dfed57aedcb4d",
      "8ef66e2572f64cfda5ddc5d806c28287",
      "6158c2b4e82a42efa6abc4c8a4716166",
      "97619092ad234cac957e46125265bb16",
      "167f6baa2d3342789a331280d1b16ce8",
      "55680bc1ec7b4fc58642839de4705093",
      "eaee60fd183f4fee90db46157ef32ceb",
      "a4a1df381cdc49a98f2c5bd5e06388f0",
      "e93f183e684b4201aef52273ee247698",
      "83b2276a73684a5ebb95ae5e41221708",
      "c7e20d1c29f646c29d099403ca46abd3",
      "026d1f3d5f9f4f63bd3c6d0f910f6260",
      "38c479e2fad34e56b3401201ff839dd2",
      "fae1fc679b6845008fc7bf0ac84682ba",
      "4f5d5348c3cc4224a1637854adac8f68",
      "aca13e6af6354768a2f81753c3f6024d"
     ]
    },
    "id": "1ed8a7b5",
    "outputId": "2079ab50-bcc4-4326-96f3-c28e6a59924d"
   },
   "outputs": [
    {
     "name": "stderr",
     "output_type": "stream",
     "text": [
      "Special tokens have been added in the vocabulary, make sure the associated word embeddings are fine-tuned or trained.\n"
     ]
    }
   ],
   "source": [
    "tokenizer = AutoTokenizer.from_pretrained('skt/kogpt2-base-v2', bos_token='<s>', eos_token='</s>', pad_token='<pad>')"
   ]
  },
  {
   "cell_type": "code",
   "execution_count": 18,
   "id": "55212e92",
   "metadata": {
    "id": "76307300"
   },
   "outputs": [],
   "source": [
    "# 시작 토큰, 종료 토큰 붙이기\n",
    "\n",
    "import numpy as np\n",
    "from tqdm import tqdm\n",
    "from tensorflow.keras.preprocessing.sequence import pad_sequences\n",
    "\n",
    "def convert_examples_to_features(sent_list, max_seq_len, tokenizer):\n",
    "    input_ids = []\n",
    "\n",
    "    for conversation in tqdm(sent_list, total=len(sent_list)):\n",
    "        bos_token = [tokenizer.bos_token]  # 시작 토큰\n",
    "        eos_token = [tokenizer.eos_token]  # 종료 토큰\n",
    "        unused_token = ['<unused0>']  # 마지막에 추가할 토큰\n",
    "\n",
    "        # '\\n'으로 문장들 분리\n",
    "        sentences = conversation.split(\"\\n\")\n",
    "\n",
    "        tokens = []  # 전체 토큰 리스트\n",
    "\n",
    "        for i, sentence in enumerate(sentences):\n",
    "            # 각 문장에 <s>와 </s> 추가\n",
    "            sentence_tokens = bos_token + tokenizer.tokenize(sentence) + eos_token\n",
    "            tokens += sentence_tokens  # 문장 뒤에 <s> 추가\n",
    "\n",
    "        # 마지막 문장 뒤에 <unused0> 추가\n",
    "        tokens += unused_token  # 마지막에 <unused0> 추가\n",
    "        tokens += eos_token  # 마지막에 종료 토큰 추가\n",
    "\n",
    "        # 정수 인코딩\n",
    "        input_id = tokenizer.convert_tokens_to_ids(tokens)\n",
    "        # 패딩 추가\n",
    "        input_id = pad_sequences([input_id], maxlen=max_seq_len, value=tokenizer.pad_token_id, padding='post')[0]\n",
    "\n",
    "        # 길이 확인\n",
    "        assert len(input_id) == max_seq_len, f\"Error with input length {len(input_id)} vs {max_seq_len}\"\n",
    "\n",
    "        # 결과 저장\n",
    "        input_ids.append(input_id)\n",
    "\n",
    "    input_ids = np.array(input_ids, dtype=int)\n",
    "\n",
    "    return input_ids\n"
   ]
  },
  {
   "cell_type": "code",
   "execution_count": 20,
   "id": "9d34ca25",
   "metadata": {},
   "outputs": [
    {
     "name": "stdout",
     "output_type": "stream",
     "text": [
      "문장길이 평균 :  188.1513712300414\n",
      "문장길이 최대 :  1091\n",
      "문장길이 표준편차 :  53.84390376602451\n",
      "pad_sequences maxlen :  295\n",
      "전체 문장의 0.9754398285038439%가 maxlen 설정값 이내에 포함됩니다. \n"
     ]
    }
   ],
   "source": [
    "# maxlen 계산하기\n",
    "\n",
    "total_data_text = list(train_texts)\n",
    "num_tokens = [len(tokens) for tokens in total_data_text]\n",
    "num_tokens = np.array(num_tokens)\n",
    "print('문장길이 평균 : ', np.mean(num_tokens))\n",
    "print('문장길이 최대 : ', np.max(num_tokens))\n",
    "print('문장길이 표준편차 : ', np.std(num_tokens))\n",
    " \n",
    "max_tokens = np.mean(num_tokens) + 2 * np.std(num_tokens)\n",
    "maxlen = int(max_tokens)\n",
    "print('pad_sequences maxlen : ', maxlen)\n",
    "print(f'전체 문장의 {np.sum(num_tokens < max_tokens) / len(num_tokens)}%가 maxlen 설정값 이내에 포함됩니다. ')"
   ]
  },
  {
   "cell_type": "code",
   "execution_count": 21,
   "id": "9dbad384",
   "metadata": {
    "colab": {
     "base_uri": "https://localhost:8080/"
    },
    "id": "2627ad09",
    "outputId": "65f17fcc-7614-47f2-b85b-1587dd1e69f8"
   },
   "outputs": [
    {
     "name": "stderr",
     "output_type": "stream",
     "text": [
      "100%|██████████| 54112/54112 [00:36<00:00, 1488.83it/s]\n"
     ]
    }
   ],
   "source": [
    "max_seq_len = 300\n",
    "\n",
    "# 학습데이터 전처리\n",
    "X_train = convert_examples_to_features(train_texts, max_seq_len=max_seq_len, tokenizer=tokenizer)"
   ]
  },
  {
   "cell_type": "code",
   "execution_count": 25,
   "id": "c71b9024",
   "metadata": {
    "colab": {
     "base_uri": "https://localhost:8080/"
    },
    "id": "64bc4371",
    "outputId": "91d1eebb-d441-4045-b660-72cc54c5781c"
   },
   "outputs": [
    {
     "name": "stdout",
     "output_type": "stream",
     "text": [
      "단어에 대한 정수 인코딩 : [    0  9245  8344 12961 24692  9106  7239 18954 12396 14493  9081 15053\n",
      " 12583  8006   389  9443 12680  7080  6889 11190  7406  8263 13656  9094\n",
      "  9183  9897 27515  7652  9668 16172 14337  8022  9327  9711 23044 10065\n",
      "  8017  8006   389     1     0  9245  8344 12961  9106  7239 18954 12396\n",
      " 14493 12474 20486  9081 15053  9586  9122  6921 25856     1     0  9769\n",
      " 15076 19319  9022 12961  7426 46439 25990  8815  8137 38492  9868  7549\n",
      "  8137 11093 31204   389  9252  7220  9022  9728 11519 31665 22601 10125\n",
      "  7372  7788 11190  7406  8263 13656 45023  9183  9897 27515 12399  9539\n",
      " 47804     1     0 15076  9868  7549  8022 18655  7481 11841 21466 15148\n",
      " 11219  7816  6921 25856     1     0 17582  9022 12396  9134 46651  9329\n",
      " 35482 12442 34019  6969   389 10099  9355  9063 15076 20164  9217 12980\n",
      " 34261 19935 13289 18050  9166  7894 10452  9024 10178 13493 12704  9934\n",
      "  9193  8263 42138  8006   389     1     0  9166 13922 21831  9024 10178\n",
      "  9076  8702 11768  9031 27511 25856  9278 10556  9266  8704 10670 11165\n",
      " 26348  6969  8084   406     1     9     1     3     3     3     3     3\n",
      "     3     3     3     3     3     3     3     3     3     3     3     3\n",
      "     3     3     3     3     3     3     3     3     3     3     3     3\n",
      "     3     3     3     3     3     3     3     3     3     3     3     3\n",
      "     3     3     3     3     3     3     3     3     3     3     3     3\n",
      "     3     3     3     3     3     3     3     3     3     3     3     3\n",
      "     3     3     3     3     3     3     3     3     3     3     3     3\n",
      "     3     3     3     3     3     3     3     3     3     3     3     3\n",
      "     3     3     3     3     3     3     3     3     3     3     3     3\n",
      "     3     3     3     3     3     3     3     3     3     3     3     3\n",
      "     3     3     3     3     3     3     3     3     3     3     3     3]\n",
      "각 인코딩의 길이 : 300\n",
      "정수 인코딩 복원 : <s> 학창 시절 나를 따돌렸던 친구에게서 연락이 왔어. 잘 지내냐고 아무렇지 않게 내 안부를 물어보는데 과거의 기억에 심장이 마구 뛰었어.</s><s> 학창 시절 따돌렸던 친구에게서 오랜만에 연락이 온 거군요.</s><s> 난 아직도 가끔 그 시절로 돌아가서 괴롭힘을 당하는 악몽을 꾸거든. 근데 그 친구는 본인의 잘못을 몰라서 아무렇지 않게 내게 안부를 물어보는 걸까?</s><s> 아직도 악몽에 시달릴 만큼 힘든 시간을 보내셨군요.</s><s> 내가 그 친구에게 뭐라고 답을 하면 좋을까. 너 때문에 나 아직도 힘들다고 솔직하게 말하고 늦었지만 진심 어린 사과를 기대해도 되는 건지 모르겠어.</s><s> 진심이 담긴 사과를 원하시는 것 같아요. 가장 마음 편한 해결법은 무엇일까요?</s><unused0></s><pad><pad><pad><pad><pad><pad><pad><pad><pad><pad><pad><pad><pad><pad><pad><pad><pad><pad><pad><pad><pad><pad><pad><pad><pad><pad><pad><pad><pad><pad><pad><pad><pad><pad><pad><pad><pad><pad><pad><pad><pad><pad><pad><pad><pad><pad><pad><pad><pad><pad><pad><pad><pad><pad><pad><pad><pad><pad><pad><pad><pad><pad><pad><pad><pad><pad><pad><pad><pad><pad><pad><pad><pad><pad><pad><pad><pad><pad><pad><pad><pad><pad><pad><pad><pad><pad><pad><pad><pad><pad><pad><pad><pad><pad><pad><pad><pad><pad><pad><pad><pad><pad><pad><pad><pad><pad><pad><pad><pad><pad><pad><pad><pad><pad><pad><pad><pad><pad><pad><pad><pad><pad><pad><pad><pad>\n"
     ]
    }
   ],
   "source": [
    "# 최대 길이: 128\n",
    "input_id = X_train[0]\n",
    "\n",
    "print('단어에 대한 정수 인코딩 :',input_id)\n",
    "print('각 인코딩의 길이 :', len(input_id))\n",
    "print('정수 인코딩 복원 :',tokenizer.decode(input_id))"
   ]
  },
  {
   "cell_type": "code",
   "execution_count": 26,
   "id": "86070bc0",
   "metadata": {
    "colab": {
     "base_uri": "https://localhost:8080/"
    },
    "id": "03e95bfe",
    "outputId": "ac458140-0364-436b-e72f-ddda97e347b8"
   },
   "outputs": [
    {
     "name": "stderr",
     "output_type": "stream",
     "text": [
      "100%|██████████| 13528/13528 [00:09<00:00, 1470.53it/s]\n"
     ]
    }
   ],
   "source": [
    "# 검증데이터 전처리\n",
    "\n",
    "X_val = convert_examples_to_features(val_texts, max_seq_len=max_seq_len, tokenizer=tokenizer)"
   ]
  },
  {
   "cell_type": "code",
   "execution_count": 28,
   "id": "a54524d8",
   "metadata": {
    "colab": {
     "base_uri": "https://localhost:8080/",
     "height": 156,
     "referenced_widgets": [
      "0f423dfe8cc340d8bcbd0ef217f531a5",
      "9b2fa2aec3594a9189cc1bfe77a89a5b",
      "1b52fda96be44c4aa88901203b6974fe",
      "bdaf92dcc9094b78bbe8a871e5c575b5",
      "1ead4b226a7c467ea7944454c50c6f61",
      "c1c4140c3a964b56aaa5b203729a152f",
      "9c030a46265845fa9bb69d491e6833f1",
      "39ed0650fddf442ca3d5830d64f51fbd",
      "8ce2c3a45c8e4b0a8d49ff95d50f885f",
      "0ce0acd299ef476ab889480740a6cc65",
      "568564ea26d9487ea7e706c919413611"
     ]
    },
    "id": "d2d81609",
    "outputId": "1f15db69-bead-4f68-e87c-c12039c22fd3",
    "scrolled": true
   },
   "outputs": [
    {
     "name": "stderr",
     "output_type": "stream",
     "text": [
      "Some weights of the PyTorch model were not used when initializing the TF 2.0 model TFGPT2Model: ['transformer.h.11.attn.masked_bias', 'transformer.h.7.attn.masked_bias', 'transformer.h.0.attn.masked_bias', 'transformer.h.4.attn.masked_bias', 'transformer.h.8.attn.masked_bias', 'transformer.h.3.attn.masked_bias', 'transformer.h.10.attn.masked_bias', 'transformer.h.6.attn.masked_bias', 'transformer.h.9.attn.masked_bias', 'transformer.h.5.attn.masked_bias', 'transformer.h.1.attn.masked_bias', 'transformer.h.2.attn.masked_bias', 'lm_head.weight']\n",
      "- This IS expected if you are initializing TFGPT2Model from a PyTorch model trained on another task or with another architecture (e.g. initializing a TFBertForSequenceClassification model from a BertForPreTraining model).\n",
      "- This IS NOT expected if you are initializing TFGPT2Model from a PyTorch model that you expect to be exactly identical (e.g. initializing a TFBertForSequenceClassification model from a BertForSequenceClassification model).\n",
      "All the weights of TFGPT2Model were initialized from the PyTorch model.\n",
      "If your task is similar to the task the model of the checkpoint was trained on, you can already use TFGPT2Model for predictions without further training.\n"
     ]
    }
   ],
   "source": [
    "# GPT 모델 불러오기\n",
    "\n",
    "model = TFGPT2Model.from_pretrained('skt/kogpt2-base-v2', from_pt=True)"
   ]
  },
  {
   "cell_type": "code",
   "execution_count": 29,
   "id": "54bc81fb",
   "metadata": {
    "id": "dde739a5"
   },
   "outputs": [],
   "source": [
    "# GPT 모델 input, output 만들기\n",
    "input_ids_layer = tf.keras.layers.Input(shape=(max_seq_len,), dtype=tf.int32)\n",
    "outputs = model([input_ids_layer])"
   ]
  },
  {
   "cell_type": "code",
   "execution_count": 31,
   "id": "c6d28bd5",
   "metadata": {
    "id": "b71e2186"
   },
   "outputs": [],
   "source": [
    "# GPT로 다중 분류 모델 만들기\n",
    "\n",
    "class TFGPT2ForSequenceClassification(tf.keras.Model):\n",
    "    def __init__(self, model_name, num_labels):\n",
    "        super(TFGPT2ForSequenceClassification, self).__init__()\n",
    "        self.gpt = TFGPT2Model.from_pretrained(model_name, from_pt=True)\n",
    "        self.classifier = tf.keras.layers.Dense(num_labels,\n",
    "                                                kernel_initializer=tf.keras.initializers.TruncatedNormal(0.02),\n",
    "                                                activation='softmax',\n",
    "                                                name='classifier')\n",
    "\n",
    "    def call(self, inputs):\n",
    "        outputs = self.gpt(input_ids=inputs)\n",
    "        cls_token = outputs[0][:, -1]\n",
    "        prediction = self.classifier(cls_token)\n",
    "\n",
    "        return prediction"
   ]
  },
  {
   "cell_type": "code",
   "execution_count": 32,
   "id": "b511a64d",
   "metadata": {
    "id": "fdf3b056"
   },
   "outputs": [],
   "source": [
    "# # TPU 작동을 위한 코드\n",
    "# resolver = tf.distribute.cluster_resolver.TPUClusterResolver(tpu='grpc://' + os.environ['COLAB_TPU_ADDR'])\n",
    "# tf.config.experimental_connect_to_cluster(resolver)\n",
    "# tf.tpu.experimental.initialize_tpu_system(resolver)\n",
    "\n",
    "# strategy = tf.distribute.experimental.TPUStrategy(resolver)"
   ]
  },
  {
   "cell_type": "code",
   "execution_count": 33,
   "id": "76660b77",
   "metadata": {
    "colab": {
     "base_uri": "https://localhost:8080/"
    },
    "id": "2a4904a7",
    "outputId": "38b2446f-9a36-4764-e0d6-1fc6c577c2c0",
    "scrolled": true
   },
   "outputs": [
    {
     "name": "stderr",
     "output_type": "stream",
     "text": [
      "Some weights of the PyTorch model were not used when initializing the TF 2.0 model TFGPT2Model: ['transformer.h.11.attn.masked_bias', 'transformer.h.7.attn.masked_bias', 'transformer.h.0.attn.masked_bias', 'transformer.h.4.attn.masked_bias', 'transformer.h.8.attn.masked_bias', 'transformer.h.3.attn.masked_bias', 'transformer.h.10.attn.masked_bias', 'transformer.h.6.attn.masked_bias', 'transformer.h.9.attn.masked_bias', 'transformer.h.5.attn.masked_bias', 'transformer.h.1.attn.masked_bias', 'transformer.h.2.attn.masked_bias', 'lm_head.weight']\n",
      "- This IS expected if you are initializing TFGPT2Model from a PyTorch model trained on another task or with another architecture (e.g. initializing a TFBertForSequenceClassification model from a BertForPreTraining model).\n",
      "- This IS NOT expected if you are initializing TFGPT2Model from a PyTorch model that you expect to be exactly identical (e.g. initializing a TFBertForSequenceClassification model from a BertForSequenceClassification model).\n",
      "All the weights of TFGPT2Model were initialized from the PyTorch model.\n",
      "If your task is similar to the task the model of the checkpoint was trained on, you can already use TFGPT2Model for predictions without further training.\n"
     ]
    }
   ],
   "source": [
    "# 모델 생성\n",
    "from tensorflow.keras.metrics import Recall\n",
    "\n",
    "model = TFGPT2ForSequenceClassification(\"skt/kogpt2-base-v2\", num_labels=5)\n",
    "optimizer = tf.keras.optimizers.Adam(learning_rate=5e-5)\n",
    "loss = tf.keras.losses.SparseCategoricalCrossentropy(from_logits=False)\n",
    "# recall_metric = Recall()\n",
    "# model.compile(optimizer=optimizer, loss=loss, metrics=['accuracy', recall_metric])\n",
    "model.compile(optimizer=optimizer, loss=loss, metrics=['accuracy'])"
   ]
  },
  {
   "cell_type": "code",
   "execution_count": 47,
   "id": "919330ed",
   "metadata": {},
   "outputs": [],
   "source": [
    "import numpy as np\n",
    "\n",
    "# train_labels와 val_labels가 리스트라면, 이를 NumPy 배열로 변환\n",
    "train_labels = np.array(train_labels)\n",
    "val_labels = np.array(val_labels)"
   ]
  },
  {
   "cell_type": "code",
   "execution_count": null,
   "id": "8ac6aa1c",
   "metadata": {
    "colab": {
     "base_uri": "https://localhost:8080/"
    },
    "id": "850e18e1",
    "outputId": "449b00c6-003f-426d-90cf-8fd7e7a63586"
   },
   "outputs": [
    {
     "name": "stdout",
     "output_type": "stream",
     "text": [
      "1084/3382 [========>.....................] - ETA: 42:41 - loss: 0.1071 - accuracy: 0.9673"
     ]
    }
   ],
   "source": [
    "model.fit(\n",
    "    X_train, train_labels, epochs=1, batch_size=16, validation_data = (X_val, val_labels)\n",
    ")"
   ]
  },
  {
   "cell_type": "code",
   "execution_count": null,
   "id": "ab8f3a47",
   "metadata": {
    "colab": {
     "base_uri": "https://localhost:8080/"
    },
    "id": "NN_Ac1PgnGyz",
    "outputId": "cf8cdb75-01b6-4974-eec3-b69f311d27a7"
   },
   "outputs": [],
   "source": [
    "# test_data 전처리 (\\n으로 구분하지 않고 대화문 통으로 하나의 문장으로 설정)\n",
    "\n",
    "def preprocess_test_data_without_newline(test_data, tokenizer, max_seq_len=128):\n",
    "    # test_data에서 conversation만 추출\n",
    "    test_texts = test_data[\"text\"].to_list()  # Features (not-tokenized yet)\n",
    "\n",
    "    # 전처리 진행\n",
    "    def convert_examples_to_features_for_test(sent_list, max_seq_len, tokenizer):\n",
    "        input_ids = []\n",
    "\n",
    "        for conversation in tqdm(sent_list, total=len(sent_list)):\n",
    "            bos_token = [tokenizer.bos_token]  # 시작 토큰\n",
    "            eos_token = [tokenizer.eos_token]  # 종료 토큰\n",
    "            unused_token = ['<unused0>']  # 마지막에 추가할 토큰\n",
    "\n",
    "            # conversation을 하나의 문장으로 간주\n",
    "            sentence = conversation.strip()\n",
    "\n",
    "            tokens = bos_token + tokenizer.tokenize(sentence) + eos_token  # 토큰화 후 <s>, </s> 추가\n",
    "\n",
    "            # 마지막에 <unused0> 추가\n",
    "            tokens += unused_token  # 마지막에 <unused0> 추가\n",
    "            tokens += eos_token  # 마지막에 종료 토큰 추가\n",
    "\n",
    "            # 정수 인코딩\n",
    "            input_id = tokenizer.convert_tokens_to_ids(tokens)\n",
    "            # 패딩 추가\n",
    "            input_id = pad_sequences([input_id], maxlen=max_seq_len, value=tokenizer.pad_token_id, padding='post')[0]\n",
    "\n",
    "            # 길이 확인\n",
    "            assert len(input_id) == max_seq_len, f\"Error with input length {len(input_id)} vs {max_seq_len}\"\n",
    "\n",
    "            # 결과 저장\n",
    "            input_ids.append(input_id)\n",
    "\n",
    "        input_ids = np.array(input_ids, dtype=int)\n",
    "\n",
    "        return input_ids\n",
    "\n",
    "    # test_data에 대해 전처리 진행\n",
    "    X_test = convert_examples_to_features_for_test(test_texts, max_seq_len, tokenizer)\n",
    "\n",
    "    return X_test\n",
    "\n",
    "# 테스트 데이터 전처리 실행\n",
    "X_test = preprocess_test_data_without_newline(test_data, tokenizer, max_seq_len=128)\n",
    "\n",
    "print(\"Test data preprocessing 완료!\")\n"
   ]
  },
  {
   "cell_type": "code",
   "execution_count": null,
   "id": "4539b808",
   "metadata": {
    "colab": {
     "base_uri": "https://localhost:8080/"
    },
    "id": "AiAonls-nIT7",
    "outputId": "1149b394-c073-4027-b7fb-b87f3ee57b4b",
    "scrolled": true
   },
   "outputs": [],
   "source": [
    "# 레이블과 정수 매핑 딕셔너리\n",
    "label_mapping = {0: 1, 1: 3, 2: 4, 3: 2, 4: 0}           # 랜덤 정수 라벨링은 캐글 기준으로 바꾸기\n",
    "\n",
    "# 예측 수행\n",
    "predictions = model.predict(X_test)\n",
    "\n",
    "# 예측 결과가 클래스 확률일 경우\n",
    "predicted_classes = np.argmax(predictions, axis=1)\n",
    "\n",
    "# 정수 값을 레이블로 변환\n",
    "predicted_labels = [label_mapping[class_id] for class_id in predicted_classes]\n",
    "\n",
    "# 예측 결과를 test 데이터프레임에 추가\n",
    "test_data['predictions'] = predicted_classes\n",
    "test_data.to_csv(\"test.csv\",index=False, encoding='utf-8-sig')\n",
    "\n",
    "\n",
    "# 결과 출력\n",
    "test_data.head()"
   ]
  },
  {
   "cell_type": "code",
   "execution_count": null,
   "id": "88b3f782",
   "metadata": {
    "id": "5nq76VnBCwLE"
   },
   "outputs": [],
   "source": [
    "test_data.sample(10)"
   ]
  },
  {
   "cell_type": "markdown",
   "id": "7281cdb9",
   "metadata": {},
   "source": [
    "생성 데이터로 다시 해보면 좋을 듯 하다"
   ]
  },
  {
   "cell_type": "code",
   "execution_count": null,
   "id": "9d59184f",
   "metadata": {},
   "outputs": [],
   "source": [
    "# submission 넣기\n",
    "\n",
    "submission = pd.DataFrame({\"idx\" : test_data.idx, \"class\" : predicted_labels})\n",
    "submission.to_csv(\"submission.csv\",index=False, encoding='utf-8-sig')\n",
    "\n",
    "submission.head()"
   ]
  },
  {
   "cell_type": "code",
   "execution_count": null,
   "id": "ecb04769",
   "metadata": {},
   "outputs": [],
   "source": []
  }
 ],
 "metadata": {
  "colab": {
   "provenance": []
  },
  "kernelspec": {
   "display_name": "Python 3 (ipykernel)",
   "language": "python",
   "name": "python3"
  },
  "language_info": {
   "codemirror_mode": {
    "name": "ipython",
    "version": 3
   },
   "file_extension": ".py",
   "mimetype": "text/x-python",
   "name": "python",
   "nbconvert_exporter": "python",
   "pygments_lexer": "ipython3",
   "version": "3.9.7"
  },
  "widgets": {
   "application/vnd.jupyter.widget-state+json": {
    "026d1f3d5f9f4f63bd3c6d0f910f6260": {
     "model_module": "@jupyter-widgets/controls",
     "model_module_version": "1.5.0",
     "model_name": "DescriptionStyleModel",
     "state": {
      "_model_module": "@jupyter-widgets/controls",
      "_model_module_version": "1.5.0",
      "_model_name": "DescriptionStyleModel",
      "_view_count": null,
      "_view_module": "@jupyter-widgets/base",
      "_view_module_version": "1.2.0",
      "_view_name": "StyleView",
      "description_width": ""
     }
    },
    "0ce0acd299ef476ab889480740a6cc65": {
     "model_module": "@jupyter-widgets/base",
     "model_module_version": "1.2.0",
     "model_name": "LayoutModel",
     "state": {
      "_model_module": "@jupyter-widgets/base",
      "_model_module_version": "1.2.0",
      "_model_name": "LayoutModel",
      "_view_count": null,
      "_view_module": "@jupyter-widgets/base",
      "_view_module_version": "1.2.0",
      "_view_name": "LayoutView",
      "align_content": null,
      "align_items": null,
      "align_self": null,
      "border": null,
      "bottom": null,
      "display": null,
      "flex": null,
      "flex_flow": null,
      "grid_area": null,
      "grid_auto_columns": null,
      "grid_auto_flow": null,
      "grid_auto_rows": null,
      "grid_column": null,
      "grid_gap": null,
      "grid_row": null,
      "grid_template_areas": null,
      "grid_template_columns": null,
      "grid_template_rows": null,
      "height": null,
      "justify_content": null,
      "justify_items": null,
      "left": null,
      "margin": null,
      "max_height": null,
      "max_width": null,
      "min_height": null,
      "min_width": null,
      "object_fit": null,
      "object_position": null,
      "order": null,
      "overflow": null,
      "overflow_x": null,
      "overflow_y": null,
      "padding": null,
      "right": null,
      "top": null,
      "visibility": null,
      "width": null
     }
    },
    "0f423dfe8cc340d8bcbd0ef217f531a5": {
     "model_module": "@jupyter-widgets/controls",
     "model_module_version": "1.5.0",
     "model_name": "HBoxModel",
     "state": {
      "_dom_classes": [],
      "_model_module": "@jupyter-widgets/controls",
      "_model_module_version": "1.5.0",
      "_model_name": "HBoxModel",
      "_view_count": null,
      "_view_module": "@jupyter-widgets/controls",
      "_view_module_version": "1.5.0",
      "_view_name": "HBoxView",
      "box_style": "",
      "children": [
       "IPY_MODEL_9b2fa2aec3594a9189cc1bfe77a89a5b",
       "IPY_MODEL_1b52fda96be44c4aa88901203b6974fe",
       "IPY_MODEL_bdaf92dcc9094b78bbe8a871e5c575b5"
      ],
      "layout": "IPY_MODEL_1ead4b226a7c467ea7944454c50c6f61"
     }
    },
    "167f6baa2d3342789a331280d1b16ce8": {
     "model_module": "@jupyter-widgets/controls",
     "model_module_version": "1.5.0",
     "model_name": "DescriptionStyleModel",
     "state": {
      "_model_module": "@jupyter-widgets/controls",
      "_model_module_version": "1.5.0",
      "_model_name": "DescriptionStyleModel",
      "_view_count": null,
      "_view_module": "@jupyter-widgets/base",
      "_view_module_version": "1.2.0",
      "_view_name": "StyleView",
      "description_width": ""
     }
    },
    "1b52fda96be44c4aa88901203b6974fe": {
     "model_module": "@jupyter-widgets/controls",
     "model_module_version": "1.5.0",
     "model_name": "FloatProgressModel",
     "state": {
      "_dom_classes": [],
      "_model_module": "@jupyter-widgets/controls",
      "_model_module_version": "1.5.0",
      "_model_name": "FloatProgressModel",
      "_view_count": null,
      "_view_module": "@jupyter-widgets/controls",
      "_view_module_version": "1.5.0",
      "_view_name": "ProgressView",
      "bar_style": "success",
      "description": "",
      "description_tooltip": null,
      "layout": "IPY_MODEL_39ed0650fddf442ca3d5830d64f51fbd",
      "max": 513302779,
      "min": 0,
      "orientation": "horizontal",
      "style": "IPY_MODEL_8ce2c3a45c8e4b0a8d49ff95d50f885f",
      "value": 513302779
     }
    },
    "1ead4b226a7c467ea7944454c50c6f61": {
     "model_module": "@jupyter-widgets/base",
     "model_module_version": "1.2.0",
     "model_name": "LayoutModel",
     "state": {
      "_model_module": "@jupyter-widgets/base",
      "_model_module_version": "1.2.0",
      "_model_name": "LayoutModel",
      "_view_count": null,
      "_view_module": "@jupyter-widgets/base",
      "_view_module_version": "1.2.0",
      "_view_name": "LayoutView",
      "align_content": null,
      "align_items": null,
      "align_self": null,
      "border": null,
      "bottom": null,
      "display": null,
      "flex": null,
      "flex_flow": null,
      "grid_area": null,
      "grid_auto_columns": null,
      "grid_auto_flow": null,
      "grid_auto_rows": null,
      "grid_column": null,
      "grid_gap": null,
      "grid_row": null,
      "grid_template_areas": null,
      "grid_template_columns": null,
      "grid_template_rows": null,
      "height": null,
      "justify_content": null,
      "justify_items": null,
      "left": null,
      "margin": null,
      "max_height": null,
      "max_width": null,
      "min_height": null,
      "min_width": null,
      "object_fit": null,
      "object_position": null,
      "order": null,
      "overflow": null,
      "overflow_x": null,
      "overflow_y": null,
      "padding": null,
      "right": null,
      "top": null,
      "visibility": null,
      "width": null
     }
    },
    "38c479e2fad34e56b3401201ff839dd2": {
     "model_module": "@jupyter-widgets/base",
     "model_module_version": "1.2.0",
     "model_name": "LayoutModel",
     "state": {
      "_model_module": "@jupyter-widgets/base",
      "_model_module_version": "1.2.0",
      "_model_name": "LayoutModel",
      "_view_count": null,
      "_view_module": "@jupyter-widgets/base",
      "_view_module_version": "1.2.0",
      "_view_name": "LayoutView",
      "align_content": null,
      "align_items": null,
      "align_self": null,
      "border": null,
      "bottom": null,
      "display": null,
      "flex": null,
      "flex_flow": null,
      "grid_area": null,
      "grid_auto_columns": null,
      "grid_auto_flow": null,
      "grid_auto_rows": null,
      "grid_column": null,
      "grid_gap": null,
      "grid_row": null,
      "grid_template_areas": null,
      "grid_template_columns": null,
      "grid_template_rows": null,
      "height": null,
      "justify_content": null,
      "justify_items": null,
      "left": null,
      "margin": null,
      "max_height": null,
      "max_width": null,
      "min_height": null,
      "min_width": null,
      "object_fit": null,
      "object_position": null,
      "order": null,
      "overflow": null,
      "overflow_x": null,
      "overflow_y": null,
      "padding": null,
      "right": null,
      "top": null,
      "visibility": null,
      "width": null
     }
    },
    "39ed0650fddf442ca3d5830d64f51fbd": {
     "model_module": "@jupyter-widgets/base",
     "model_module_version": "1.2.0",
     "model_name": "LayoutModel",
     "state": {
      "_model_module": "@jupyter-widgets/base",
      "_model_module_version": "1.2.0",
      "_model_name": "LayoutModel",
      "_view_count": null,
      "_view_module": "@jupyter-widgets/base",
      "_view_module_version": "1.2.0",
      "_view_name": "LayoutView",
      "align_content": null,
      "align_items": null,
      "align_self": null,
      "border": null,
      "bottom": null,
      "display": null,
      "flex": null,
      "flex_flow": null,
      "grid_area": null,
      "grid_auto_columns": null,
      "grid_auto_flow": null,
      "grid_auto_rows": null,
      "grid_column": null,
      "grid_gap": null,
      "grid_row": null,
      "grid_template_areas": null,
      "grid_template_columns": null,
      "grid_template_rows": null,
      "height": null,
      "justify_content": null,
      "justify_items": null,
      "left": null,
      "margin": null,
      "max_height": null,
      "max_width": null,
      "min_height": null,
      "min_width": null,
      "object_fit": null,
      "object_position": null,
      "order": null,
      "overflow": null,
      "overflow_x": null,
      "overflow_y": null,
      "padding": null,
      "right": null,
      "top": null,
      "visibility": null,
      "width": null
     }
    },
    "453f379e43574a338d044ae921287b87": {
     "model_module": "@jupyter-widgets/controls",
     "model_module_version": "1.5.0",
     "model_name": "HTMLModel",
     "state": {
      "_dom_classes": [],
      "_model_module": "@jupyter-widgets/controls",
      "_model_module_version": "1.5.0",
      "_model_name": "HTMLModel",
      "_view_count": null,
      "_view_module": "@jupyter-widgets/controls",
      "_view_module_version": "1.5.0",
      "_view_name": "HTMLView",
      "description": "",
      "description_tooltip": null,
      "layout": "IPY_MODEL_97619092ad234cac957e46125265bb16",
      "placeholder": "​",
      "style": "IPY_MODEL_167f6baa2d3342789a331280d1b16ce8",
      "value": " 1.00k/1.00k [00:00&lt;00:00, 57.1kB/s]"
     }
    },
    "4f5d5348c3cc4224a1637854adac8f68": {
     "model_module": "@jupyter-widgets/base",
     "model_module_version": "1.2.0",
     "model_name": "LayoutModel",
     "state": {
      "_model_module": "@jupyter-widgets/base",
      "_model_module_version": "1.2.0",
      "_model_name": "LayoutModel",
      "_view_count": null,
      "_view_module": "@jupyter-widgets/base",
      "_view_module_version": "1.2.0",
      "_view_name": "LayoutView",
      "align_content": null,
      "align_items": null,
      "align_self": null,
      "border": null,
      "bottom": null,
      "display": null,
      "flex": null,
      "flex_flow": null,
      "grid_area": null,
      "grid_auto_columns": null,
      "grid_auto_flow": null,
      "grid_auto_rows": null,
      "grid_column": null,
      "grid_gap": null,
      "grid_row": null,
      "grid_template_areas": null,
      "grid_template_columns": null,
      "grid_template_rows": null,
      "height": null,
      "justify_content": null,
      "justify_items": null,
      "left": null,
      "margin": null,
      "max_height": null,
      "max_width": null,
      "min_height": null,
      "min_width": null,
      "object_fit": null,
      "object_position": null,
      "order": null,
      "overflow": null,
      "overflow_x": null,
      "overflow_y": null,
      "padding": null,
      "right": null,
      "top": null,
      "visibility": null,
      "width": null
     }
    },
    "516f5beb270f4ec48935eb921714f7a7": {
     "model_module": "@jupyter-widgets/base",
     "model_module_version": "1.2.0",
     "model_name": "LayoutModel",
     "state": {
      "_model_module": "@jupyter-widgets/base",
      "_model_module_version": "1.2.0",
      "_model_name": "LayoutModel",
      "_view_count": null,
      "_view_module": "@jupyter-widgets/base",
      "_view_module_version": "1.2.0",
      "_view_name": "LayoutView",
      "align_content": null,
      "align_items": null,
      "align_self": null,
      "border": null,
      "bottom": null,
      "display": null,
      "flex": null,
      "flex_flow": null,
      "grid_area": null,
      "grid_auto_columns": null,
      "grid_auto_flow": null,
      "grid_auto_rows": null,
      "grid_column": null,
      "grid_gap": null,
      "grid_row": null,
      "grid_template_areas": null,
      "grid_template_columns": null,
      "grid_template_rows": null,
      "height": null,
      "justify_content": null,
      "justify_items": null,
      "left": null,
      "margin": null,
      "max_height": null,
      "max_width": null,
      "min_height": null,
      "min_width": null,
      "object_fit": null,
      "object_position": null,
      "order": null,
      "overflow": null,
      "overflow_x": null,
      "overflow_y": null,
      "padding": null,
      "right": null,
      "top": null,
      "visibility": null,
      "width": null
     }
    },
    "55680bc1ec7b4fc58642839de4705093": {
     "model_module": "@jupyter-widgets/controls",
     "model_module_version": "1.5.0",
     "model_name": "HBoxModel",
     "state": {
      "_dom_classes": [],
      "_model_module": "@jupyter-widgets/controls",
      "_model_module_version": "1.5.0",
      "_model_name": "HBoxModel",
      "_view_count": null,
      "_view_module": "@jupyter-widgets/controls",
      "_view_module_version": "1.5.0",
      "_view_name": "HBoxView",
      "box_style": "",
      "children": [
       "IPY_MODEL_eaee60fd183f4fee90db46157ef32ceb",
       "IPY_MODEL_a4a1df381cdc49a98f2c5bd5e06388f0",
       "IPY_MODEL_e93f183e684b4201aef52273ee247698"
      ],
      "layout": "IPY_MODEL_83b2276a73684a5ebb95ae5e41221708"
     }
    },
    "568564ea26d9487ea7e706c919413611": {
     "model_module": "@jupyter-widgets/controls",
     "model_module_version": "1.5.0",
     "model_name": "DescriptionStyleModel",
     "state": {
      "_model_module": "@jupyter-widgets/controls",
      "_model_module_version": "1.5.0",
      "_model_name": "DescriptionStyleModel",
      "_view_count": null,
      "_view_module": "@jupyter-widgets/base",
      "_view_module_version": "1.2.0",
      "_view_name": "StyleView",
      "description_width": ""
     }
    },
    "6158c2b4e82a42efa6abc4c8a4716166": {
     "model_module": "@jupyter-widgets/controls",
     "model_module_version": "1.5.0",
     "model_name": "ProgressStyleModel",
     "state": {
      "_model_module": "@jupyter-widgets/controls",
      "_model_module_version": "1.5.0",
      "_model_name": "ProgressStyleModel",
      "_view_count": null,
      "_view_module": "@jupyter-widgets/base",
      "_view_module_version": "1.2.0",
      "_view_name": "StyleView",
      "bar_color": null,
      "description_width": ""
     }
    },
    "6b60e2c57dee478aa71dfed57aedcb4d": {
     "model_module": "@jupyter-widgets/controls",
     "model_module_version": "1.5.0",
     "model_name": "DescriptionStyleModel",
     "state": {
      "_model_module": "@jupyter-widgets/controls",
      "_model_module_version": "1.5.0",
      "_model_name": "DescriptionStyleModel",
      "_view_count": null,
      "_view_module": "@jupyter-widgets/base",
      "_view_module_version": "1.2.0",
      "_view_name": "StyleView",
      "description_width": ""
     }
    },
    "6d30e31b46d2405fa72a1e15726340ae": {
     "model_module": "@jupyter-widgets/controls",
     "model_module_version": "1.5.0",
     "model_name": "FloatProgressModel",
     "state": {
      "_dom_classes": [],
      "_model_module": "@jupyter-widgets/controls",
      "_model_module_version": "1.5.0",
      "_model_name": "FloatProgressModel",
      "_view_count": null,
      "_view_module": "@jupyter-widgets/controls",
      "_view_module_version": "1.5.0",
      "_view_name": "ProgressView",
      "bar_style": "success",
      "description": "",
      "description_tooltip": null,
      "layout": "IPY_MODEL_8ef66e2572f64cfda5ddc5d806c28287",
      "max": 1000,
      "min": 0,
      "orientation": "horizontal",
      "style": "IPY_MODEL_6158c2b4e82a42efa6abc4c8a4716166",
      "value": 1000
     }
    },
    "83b2276a73684a5ebb95ae5e41221708": {
     "model_module": "@jupyter-widgets/base",
     "model_module_version": "1.2.0",
     "model_name": "LayoutModel",
     "state": {
      "_model_module": "@jupyter-widgets/base",
      "_model_module_version": "1.2.0",
      "_model_name": "LayoutModel",
      "_view_count": null,
      "_view_module": "@jupyter-widgets/base",
      "_view_module_version": "1.2.0",
      "_view_name": "LayoutView",
      "align_content": null,
      "align_items": null,
      "align_self": null,
      "border": null,
      "bottom": null,
      "display": null,
      "flex": null,
      "flex_flow": null,
      "grid_area": null,
      "grid_auto_columns": null,
      "grid_auto_flow": null,
      "grid_auto_rows": null,
      "grid_column": null,
      "grid_gap": null,
      "grid_row": null,
      "grid_template_areas": null,
      "grid_template_columns": null,
      "grid_template_rows": null,
      "height": null,
      "justify_content": null,
      "justify_items": null,
      "left": null,
      "margin": null,
      "max_height": null,
      "max_width": null,
      "min_height": null,
      "min_width": null,
      "object_fit": null,
      "object_position": null,
      "order": null,
      "overflow": null,
      "overflow_x": null,
      "overflow_y": null,
      "padding": null,
      "right": null,
      "top": null,
      "visibility": null,
      "width": null
     }
    },
    "8ce2c3a45c8e4b0a8d49ff95d50f885f": {
     "model_module": "@jupyter-widgets/controls",
     "model_module_version": "1.5.0",
     "model_name": "ProgressStyleModel",
     "state": {
      "_model_module": "@jupyter-widgets/controls",
      "_model_module_version": "1.5.0",
      "_model_name": "ProgressStyleModel",
      "_view_count": null,
      "_view_module": "@jupyter-widgets/base",
      "_view_module_version": "1.2.0",
      "_view_name": "StyleView",
      "bar_color": null,
      "description_width": ""
     }
    },
    "8ef66e2572f64cfda5ddc5d806c28287": {
     "model_module": "@jupyter-widgets/base",
     "model_module_version": "1.2.0",
     "model_name": "LayoutModel",
     "state": {
      "_model_module": "@jupyter-widgets/base",
      "_model_module_version": "1.2.0",
      "_model_name": "LayoutModel",
      "_view_count": null,
      "_view_module": "@jupyter-widgets/base",
      "_view_module_version": "1.2.0",
      "_view_name": "LayoutView",
      "align_content": null,
      "align_items": null,
      "align_self": null,
      "border": null,
      "bottom": null,
      "display": null,
      "flex": null,
      "flex_flow": null,
      "grid_area": null,
      "grid_auto_columns": null,
      "grid_auto_flow": null,
      "grid_auto_rows": null,
      "grid_column": null,
      "grid_gap": null,
      "grid_row": null,
      "grid_template_areas": null,
      "grid_template_columns": null,
      "grid_template_rows": null,
      "height": null,
      "justify_content": null,
      "justify_items": null,
      "left": null,
      "margin": null,
      "max_height": null,
      "max_width": null,
      "min_height": null,
      "min_width": null,
      "object_fit": null,
      "object_position": null,
      "order": null,
      "overflow": null,
      "overflow_x": null,
      "overflow_y": null,
      "padding": null,
      "right": null,
      "top": null,
      "visibility": null,
      "width": null
     }
    },
    "97619092ad234cac957e46125265bb16": {
     "model_module": "@jupyter-widgets/base",
     "model_module_version": "1.2.0",
     "model_name": "LayoutModel",
     "state": {
      "_model_module": "@jupyter-widgets/base",
      "_model_module_version": "1.2.0",
      "_model_name": "LayoutModel",
      "_view_count": null,
      "_view_module": "@jupyter-widgets/base",
      "_view_module_version": "1.2.0",
      "_view_name": "LayoutView",
      "align_content": null,
      "align_items": null,
      "align_self": null,
      "border": null,
      "bottom": null,
      "display": null,
      "flex": null,
      "flex_flow": null,
      "grid_area": null,
      "grid_auto_columns": null,
      "grid_auto_flow": null,
      "grid_auto_rows": null,
      "grid_column": null,
      "grid_gap": null,
      "grid_row": null,
      "grid_template_areas": null,
      "grid_template_columns": null,
      "grid_template_rows": null,
      "height": null,
      "justify_content": null,
      "justify_items": null,
      "left": null,
      "margin": null,
      "max_height": null,
      "max_width": null,
      "min_height": null,
      "min_width": null,
      "object_fit": null,
      "object_position": null,
      "order": null,
      "overflow": null,
      "overflow_x": null,
      "overflow_y": null,
      "padding": null,
      "right": null,
      "top": null,
      "visibility": null,
      "width": null
     }
    },
    "9b2fa2aec3594a9189cc1bfe77a89a5b": {
     "model_module": "@jupyter-widgets/controls",
     "model_module_version": "1.5.0",
     "model_name": "HTMLModel",
     "state": {
      "_dom_classes": [],
      "_model_module": "@jupyter-widgets/controls",
      "_model_module_version": "1.5.0",
      "_model_name": "HTMLModel",
      "_view_count": null,
      "_view_module": "@jupyter-widgets/controls",
      "_view_module_version": "1.5.0",
      "_view_name": "HTMLView",
      "description": "",
      "description_tooltip": null,
      "layout": "IPY_MODEL_c1c4140c3a964b56aaa5b203729a152f",
      "placeholder": "​",
      "style": "IPY_MODEL_9c030a46265845fa9bb69d491e6833f1",
      "value": "pytorch_model.bin: 100%"
     }
    },
    "9c030a46265845fa9bb69d491e6833f1": {
     "model_module": "@jupyter-widgets/controls",
     "model_module_version": "1.5.0",
     "model_name": "DescriptionStyleModel",
     "state": {
      "_model_module": "@jupyter-widgets/controls",
      "_model_module_version": "1.5.0",
      "_model_name": "DescriptionStyleModel",
      "_view_count": null,
      "_view_module": "@jupyter-widgets/base",
      "_view_module_version": "1.2.0",
      "_view_name": "StyleView",
      "description_width": ""
     }
    },
    "9ed59c23625e4eb7b57315688187094f": {
     "model_module": "@jupyter-widgets/controls",
     "model_module_version": "1.5.0",
     "model_name": "HTMLModel",
     "state": {
      "_dom_classes": [],
      "_model_module": "@jupyter-widgets/controls",
      "_model_module_version": "1.5.0",
      "_model_name": "HTMLModel",
      "_view_count": null,
      "_view_module": "@jupyter-widgets/controls",
      "_view_module_version": "1.5.0",
      "_view_name": "HTMLView",
      "description": "",
      "description_tooltip": null,
      "layout": "IPY_MODEL_516f5beb270f4ec48935eb921714f7a7",
      "placeholder": "​",
      "style": "IPY_MODEL_6b60e2c57dee478aa71dfed57aedcb4d",
      "value": "config.json: 100%"
     }
    },
    "a4a1df381cdc49a98f2c5bd5e06388f0": {
     "model_module": "@jupyter-widgets/controls",
     "model_module_version": "1.5.0",
     "model_name": "FloatProgressModel",
     "state": {
      "_dom_classes": [],
      "_model_module": "@jupyter-widgets/controls",
      "_model_module_version": "1.5.0",
      "_model_name": "FloatProgressModel",
      "_view_count": null,
      "_view_module": "@jupyter-widgets/controls",
      "_view_module_version": "1.5.0",
      "_view_name": "ProgressView",
      "bar_style": "success",
      "description": "",
      "description_tooltip": null,
      "layout": "IPY_MODEL_38c479e2fad34e56b3401201ff839dd2",
      "max": 2825034,
      "min": 0,
      "orientation": "horizontal",
      "style": "IPY_MODEL_fae1fc679b6845008fc7bf0ac84682ba",
      "value": 2825034
     }
    },
    "aca13e6af6354768a2f81753c3f6024d": {
     "model_module": "@jupyter-widgets/controls",
     "model_module_version": "1.5.0",
     "model_name": "DescriptionStyleModel",
     "state": {
      "_model_module": "@jupyter-widgets/controls",
      "_model_module_version": "1.5.0",
      "_model_name": "DescriptionStyleModel",
      "_view_count": null,
      "_view_module": "@jupyter-widgets/base",
      "_view_module_version": "1.2.0",
      "_view_name": "StyleView",
      "description_width": ""
     }
    },
    "bdaf92dcc9094b78bbe8a871e5c575b5": {
     "model_module": "@jupyter-widgets/controls",
     "model_module_version": "1.5.0",
     "model_name": "HTMLModel",
     "state": {
      "_dom_classes": [],
      "_model_module": "@jupyter-widgets/controls",
      "_model_module_version": "1.5.0",
      "_model_name": "HTMLModel",
      "_view_count": null,
      "_view_module": "@jupyter-widgets/controls",
      "_view_module_version": "1.5.0",
      "_view_name": "HTMLView",
      "description": "",
      "description_tooltip": null,
      "layout": "IPY_MODEL_0ce0acd299ef476ab889480740a6cc65",
      "placeholder": "​",
      "style": "IPY_MODEL_568564ea26d9487ea7e706c919413611",
      "value": " 513M/513M [00:07&lt;00:00, 82.1MB/s]"
     }
    },
    "c1c4140c3a964b56aaa5b203729a152f": {
     "model_module": "@jupyter-widgets/base",
     "model_module_version": "1.2.0",
     "model_name": "LayoutModel",
     "state": {
      "_model_module": "@jupyter-widgets/base",
      "_model_module_version": "1.2.0",
      "_model_name": "LayoutModel",
      "_view_count": null,
      "_view_module": "@jupyter-widgets/base",
      "_view_module_version": "1.2.0",
      "_view_name": "LayoutView",
      "align_content": null,
      "align_items": null,
      "align_self": null,
      "border": null,
      "bottom": null,
      "display": null,
      "flex": null,
      "flex_flow": null,
      "grid_area": null,
      "grid_auto_columns": null,
      "grid_auto_flow": null,
      "grid_auto_rows": null,
      "grid_column": null,
      "grid_gap": null,
      "grid_row": null,
      "grid_template_areas": null,
      "grid_template_columns": null,
      "grid_template_rows": null,
      "height": null,
      "justify_content": null,
      "justify_items": null,
      "left": null,
      "margin": null,
      "max_height": null,
      "max_width": null,
      "min_height": null,
      "min_width": null,
      "object_fit": null,
      "object_position": null,
      "order": null,
      "overflow": null,
      "overflow_x": null,
      "overflow_y": null,
      "padding": null,
      "right": null,
      "top": null,
      "visibility": null,
      "width": null
     }
    },
    "c7e20d1c29f646c29d099403ca46abd3": {
     "model_module": "@jupyter-widgets/base",
     "model_module_version": "1.2.0",
     "model_name": "LayoutModel",
     "state": {
      "_model_module": "@jupyter-widgets/base",
      "_model_module_version": "1.2.0",
      "_model_name": "LayoutModel",
      "_view_count": null,
      "_view_module": "@jupyter-widgets/base",
      "_view_module_version": "1.2.0",
      "_view_name": "LayoutView",
      "align_content": null,
      "align_items": null,
      "align_self": null,
      "border": null,
      "bottom": null,
      "display": null,
      "flex": null,
      "flex_flow": null,
      "grid_area": null,
      "grid_auto_columns": null,
      "grid_auto_flow": null,
      "grid_auto_rows": null,
      "grid_column": null,
      "grid_gap": null,
      "grid_row": null,
      "grid_template_areas": null,
      "grid_template_columns": null,
      "grid_template_rows": null,
      "height": null,
      "justify_content": null,
      "justify_items": null,
      "left": null,
      "margin": null,
      "max_height": null,
      "max_width": null,
      "min_height": null,
      "min_width": null,
      "object_fit": null,
      "object_position": null,
      "order": null,
      "overflow": null,
      "overflow_x": null,
      "overflow_y": null,
      "padding": null,
      "right": null,
      "top": null,
      "visibility": null,
      "width": null
     }
    },
    "c876f97e27c9479dbd2d1353e3792bfa": {
     "model_module": "@jupyter-widgets/base",
     "model_module_version": "1.2.0",
     "model_name": "LayoutModel",
     "state": {
      "_model_module": "@jupyter-widgets/base",
      "_model_module_version": "1.2.0",
      "_model_name": "LayoutModel",
      "_view_count": null,
      "_view_module": "@jupyter-widgets/base",
      "_view_module_version": "1.2.0",
      "_view_name": "LayoutView",
      "align_content": null,
      "align_items": null,
      "align_self": null,
      "border": null,
      "bottom": null,
      "display": null,
      "flex": null,
      "flex_flow": null,
      "grid_area": null,
      "grid_auto_columns": null,
      "grid_auto_flow": null,
      "grid_auto_rows": null,
      "grid_column": null,
      "grid_gap": null,
      "grid_row": null,
      "grid_template_areas": null,
      "grid_template_columns": null,
      "grid_template_rows": null,
      "height": null,
      "justify_content": null,
      "justify_items": null,
      "left": null,
      "margin": null,
      "max_height": null,
      "max_width": null,
      "min_height": null,
      "min_width": null,
      "object_fit": null,
      "object_position": null,
      "order": null,
      "overflow": null,
      "overflow_x": null,
      "overflow_y": null,
      "padding": null,
      "right": null,
      "top": null,
      "visibility": null,
      "width": null
     }
    },
    "d9821036d15e4d208909e64b33b51284": {
     "model_module": "@jupyter-widgets/controls",
     "model_module_version": "1.5.0",
     "model_name": "HBoxModel",
     "state": {
      "_dom_classes": [],
      "_model_module": "@jupyter-widgets/controls",
      "_model_module_version": "1.5.0",
      "_model_name": "HBoxModel",
      "_view_count": null,
      "_view_module": "@jupyter-widgets/controls",
      "_view_module_version": "1.5.0",
      "_view_name": "HBoxView",
      "box_style": "",
      "children": [
       "IPY_MODEL_9ed59c23625e4eb7b57315688187094f",
       "IPY_MODEL_6d30e31b46d2405fa72a1e15726340ae",
       "IPY_MODEL_453f379e43574a338d044ae921287b87"
      ],
      "layout": "IPY_MODEL_c876f97e27c9479dbd2d1353e3792bfa"
     }
    },
    "e93f183e684b4201aef52273ee247698": {
     "model_module": "@jupyter-widgets/controls",
     "model_module_version": "1.5.0",
     "model_name": "HTMLModel",
     "state": {
      "_dom_classes": [],
      "_model_module": "@jupyter-widgets/controls",
      "_model_module_version": "1.5.0",
      "_model_name": "HTMLModel",
      "_view_count": null,
      "_view_module": "@jupyter-widgets/controls",
      "_view_module_version": "1.5.0",
      "_view_name": "HTMLView",
      "description": "",
      "description_tooltip": null,
      "layout": "IPY_MODEL_4f5d5348c3cc4224a1637854adac8f68",
      "placeholder": "​",
      "style": "IPY_MODEL_aca13e6af6354768a2f81753c3f6024d",
      "value": " 2.83M/2.83M [00:00&lt;00:00, 14.3MB/s]"
     }
    },
    "eaee60fd183f4fee90db46157ef32ceb": {
     "model_module": "@jupyter-widgets/controls",
     "model_module_version": "1.5.0",
     "model_name": "HTMLModel",
     "state": {
      "_dom_classes": [],
      "_model_module": "@jupyter-widgets/controls",
      "_model_module_version": "1.5.0",
      "_model_name": "HTMLModel",
      "_view_count": null,
      "_view_module": "@jupyter-widgets/controls",
      "_view_module_version": "1.5.0",
      "_view_name": "HTMLView",
      "description": "",
      "description_tooltip": null,
      "layout": "IPY_MODEL_c7e20d1c29f646c29d099403ca46abd3",
      "placeholder": "​",
      "style": "IPY_MODEL_026d1f3d5f9f4f63bd3c6d0f910f6260",
      "value": "tokenizer.json: 100%"
     }
    },
    "fae1fc679b6845008fc7bf0ac84682ba": {
     "model_module": "@jupyter-widgets/controls",
     "model_module_version": "1.5.0",
     "model_name": "ProgressStyleModel",
     "state": {
      "_model_module": "@jupyter-widgets/controls",
      "_model_module_version": "1.5.0",
      "_model_name": "ProgressStyleModel",
      "_view_count": null,
      "_view_module": "@jupyter-widgets/base",
      "_view_module_version": "1.2.0",
      "_view_name": "StyleView",
      "bar_color": null,
      "description_width": ""
     }
    }
   }
  }
 },
 "nbformat": 4,
 "nbformat_minor": 5
}
