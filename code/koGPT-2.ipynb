{
 "cells": [
  {
   "cell_type": "code",
   "execution_count": 1,
   "id": "bee70d98",
   "metadata": {
    "colab": {
     "base_uri": "https://localhost:8080/",
     "height": 1000
    },
    "id": "4f4b5653",
    "outputId": "e6bfb3d5-bb5d-43b2-823c-4effcc630647"
   },
   "outputs": [
    {
     "name": "stdout",
     "output_type": "stream",
     "text": [
      "Requirement already satisfied: transformers in /opt/conda/lib/python3.9/site-packages (4.11.3)\n",
      "Requirement already satisfied: tqdm>=4.27 in /opt/conda/lib/python3.9/site-packages (from transformers) (4.62.3)\n",
      "Requirement already satisfied: numpy>=1.17 in /opt/conda/lib/python3.9/site-packages (from transformers) (1.21.4)\n",
      "Requirement already satisfied: huggingface-hub>=0.0.17 in /opt/conda/lib/python3.9/site-packages (from transformers) (0.0.19)\n",
      "Requirement already satisfied: packaging>=20.0 in /opt/conda/lib/python3.9/site-packages (from transformers) (21.3)\n",
      "Requirement already satisfied: regex!=2019.12.17 in /opt/conda/lib/python3.9/site-packages (from transformers) (2021.11.10)\n",
      "Requirement already satisfied: requests in /opt/conda/lib/python3.9/site-packages (from transformers) (2.26.0)\n",
      "Requirement already satisfied: filelock in /opt/conda/lib/python3.9/site-packages (from transformers) (3.4.0)\n",
      "Requirement already satisfied: pyyaml>=5.1 in /opt/conda/lib/python3.9/site-packages (from transformers) (6.0)\n",
      "Requirement already satisfied: sacremoses in /opt/conda/lib/python3.9/site-packages (from transformers) (0.0.46)\n",
      "Requirement already satisfied: tokenizers<0.11,>=0.10.1 in /opt/conda/lib/python3.9/site-packages (from transformers) (0.10.3)\n",
      "Requirement already satisfied: typing-extensions in /opt/conda/lib/python3.9/site-packages (from huggingface-hub>=0.0.17->transformers) (4.0.1)\n",
      "Requirement already satisfied: pyparsing!=3.0.5,>=2.0.2 in /opt/conda/lib/python3.9/site-packages (from packaging>=20.0->transformers) (3.0.6)\n",
      "Requirement already satisfied: certifi>=2017.4.17 in /opt/conda/lib/python3.9/site-packages (from requests->transformers) (2021.10.8)\n",
      "Requirement already satisfied: charset-normalizer~=2.0.0 in /opt/conda/lib/python3.9/site-packages (from requests->transformers) (2.0.8)\n",
      "Requirement already satisfied: idna<4,>=2.5 in /opt/conda/lib/python3.9/site-packages (from requests->transformers) (2.10)\n",
      "Requirement already satisfied: urllib3<1.27,>=1.21.1 in /opt/conda/lib/python3.9/site-packages (from requests->transformers) (1.26.7)\n",
      "Requirement already satisfied: six in /opt/conda/lib/python3.9/site-packages (from sacremoses->transformers) (1.16.0)\n",
      "Requirement already satisfied: click in /opt/conda/lib/python3.9/site-packages (from sacremoses->transformers) (8.0.3)\n",
      "Requirement already satisfied: joblib in /opt/conda/lib/python3.9/site-packages (from sacremoses->transformers) (1.1.0)\n",
      "\u001b[33mWARNING: Running pip as the 'root' user can result in broken permissions and conflicting behaviour with the system package manager. It is recommended to use a virtual environment instead: https://pip.pypa.io/warnings/venv\u001b[0m\n"
     ]
    }
   ],
   "source": [
    "! pip install transformers\n",
    "# ! pip install transformers<4.38\n",
    "# ! pip install tensorflow==2.11.0 keras==2.11.0"
   ]
  },
  {
   "cell_type": "code",
   "execution_count": 2,
   "id": "a6f88f08",
   "metadata": {
    "id": "342662f7"
   },
   "outputs": [],
   "source": [
    "import pandas as pd\n",
    "import numpy as np\n",
    "import urllib.request\n",
    "import os\n",
    "from tqdm import tqdm\n",
    "import tensorflow as tf\n",
    "from sklearn import preprocessing\n",
    "from transformers import AutoTokenizer, TFGPT2Model\n",
    "from tensorflow.keras.preprocessing.sequence import pad_sequences\n",
    "from tensorflow.keras.callbacks import EarlyStopping, ModelCheckpoint"
   ]
  },
  {
   "cell_type": "code",
   "execution_count": 3,
   "id": "9d2159ab",
   "metadata": {
    "colab": {
     "base_uri": "https://localhost:8080/",
     "height": 424
    },
    "id": "eaeae4b5",
    "outputId": "7bd97a85-80f5-459a-f89b-1789f19e019a"
   },
   "outputs": [],
   "source": [
    "# # Raw URL\n",
    "# normal = \"https://raw.githubusercontent.com/seoyeokim/Aiffel_DLThon/main/data/nomal_data.csv\"\n",
    "# train =  \"https://raw.githubusercontent.com/seoyeokim/Aiffel_DLThon/main/data/train.csv\"\n",
    "# test = \"https://raw.githubusercontent.com/seoyeokim/Aiffel_DLThon/main/data/test.csv\"\n",
    "# instagram = \"https://raw.githubusercontent.com/seoyeokim/Aiffel_DLThon/main/data/instagram.csv\"\n",
    "\n",
    "\n",
    "# # CSV 파일 읽기\n",
    "# normal_data = pd.read_csv(normal)\n",
    "# train_data = pd.read_csv(train)\n",
    "# test_data = pd.read_csv(test)\n",
    "\n",
    "# #  normal 데이터 형식 맞추기\n",
    "# normal = normal_data\n",
    "# normal.reset_index(inplace=True)\n",
    "# normal['class'] = '일반 대화'\n",
    "# normal.columns = ['idx','conversation', 'class']                                                 # 칼럼명 변경\n",
    "# normal = normal[['idx','class', 'conversation']]\n",
    "\n",
    "# # normal과 train 합치기\n",
    "# train_data = pd.concat([train_data, normal_data[:1000]], ignore_index=True)                         # nomal_data에서 1000개만 뽑아서 합치기\n",
    "# train_data = train_data.drop('idx', axis=1).sample(frac=1).reset_index(drop=True)               # index 삭제하고 데이터행 섞기\n",
    "# train_data.reset_index(inplace=True)                                                            # index 다시 붙이기\n",
    "# train_data.columns = ['idx','class', 'conversation']                                            # 칼럼명 변경\n",
    "\n",
    "# train_data                  # 일반 대화 잘 섞였는지 확인"
   ]
  },
  {
   "cell_type": "code",
   "execution_count": 4,
   "id": "df133e20",
   "metadata": {},
   "outputs": [
    {
     "data": {
      "text/html": [
       "<div>\n",
       "<style scoped>\n",
       "    .dataframe tbody tr th:only-of-type {\n",
       "        vertical-align: middle;\n",
       "    }\n",
       "\n",
       "    .dataframe tbody tr th {\n",
       "        vertical-align: top;\n",
       "    }\n",
       "\n",
       "    .dataframe thead th {\n",
       "        text-align: right;\n",
       "    }\n",
       "</style>\n",
       "<table border=\"1\" class=\"dataframe\">\n",
       "  <thead>\n",
       "    <tr style=\"text-align: right;\">\n",
       "      <th></th>\n",
       "      <th>idx</th>\n",
       "      <th>class</th>\n",
       "      <th>conversation</th>\n",
       "    </tr>\n",
       "  </thead>\n",
       "  <tbody>\n",
       "    <tr>\n",
       "      <th>0</th>\n",
       "      <td>0</td>\n",
       "      <td>협박 대화</td>\n",
       "      <td>너 돈 언제 갚을꺼야?\\n미안해. 다음달까지 기달려줘\\n벌써 6개월이나 더 기달려줬...</td>\n",
       "    </tr>\n",
       "    <tr>\n",
       "      <th>1</th>\n",
       "      <td>1</td>\n",
       "      <td>기타 괴롭힘 대화</td>\n",
       "      <td>안녕하세요 복자식당입니다.\\n 야 장난하냐?\\n네?\\n아니 배달시킨지 40분이 지나...</td>\n",
       "    </tr>\n",
       "    <tr>\n",
       "      <th>2</th>\n",
       "      <td>2</td>\n",
       "      <td>기타 괴롭힘 대화</td>\n",
       "      <td>너 이거 할 줄 알아 ?\\n당연하지 ! 나 할 수 있어 !\\n진짜로 ??? 믿음이 ...</td>\n",
       "    </tr>\n",
       "    <tr>\n",
       "      <th>3</th>\n",
       "      <td>3</td>\n",
       "      <td>협박 대화</td>\n",
       "      <td>자꾸 이렇게 나오면 나도 가만 안있을거야!\\n매번 이런식으로 나오시는데 저희도 할만...</td>\n",
       "    </tr>\n",
       "    <tr>\n",
       "      <th>4</th>\n",
       "      <td>4</td>\n",
       "      <td>협박 대화</td>\n",
       "      <td>어쩔 수 없다. 네가 죽어줘야겠다.\\n살려주십쇼 형님!\\n넌 너무 많은 걸 알고 있...</td>\n",
       "    </tr>\n",
       "  </tbody>\n",
       "</table>\n",
       "</div>"
      ],
      "text/plain": [
       "   idx      class                                       conversation\n",
       "0    0      협박 대화  너 돈 언제 갚을꺼야?\\n미안해. 다음달까지 기달려줘\\n벌써 6개월이나 더 기달려줬...\n",
       "1    1  기타 괴롭힘 대화  안녕하세요 복자식당입니다.\\n 야 장난하냐?\\n네?\\n아니 배달시킨지 40분이 지나...\n",
       "2    2  기타 괴롭힘 대화  너 이거 할 줄 알아 ?\\n당연하지 ! 나 할 수 있어 !\\n진짜로 ??? 믿음이 ...\n",
       "3    3      협박 대화  자꾸 이렇게 나오면 나도 가만 안있을거야!\\n매번 이런식으로 나오시는데 저희도 할만...\n",
       "4    4      협박 대화  어쩔 수 없다. 네가 죽어줘야겠다.\\n살려주십쇼 형님!\\n넌 너무 많은 걸 알고 있..."
      ]
     },
     "execution_count": 4,
     "metadata": {},
     "output_type": "execute_result"
    }
   ],
   "source": [
    "# Raw URL\n",
    "# normal = \"https://raw.githubusercontent.com/seoyeokim/Aiffel_DLThon/main/data/nomal_data.csv\"\n",
    "train =  \"https://raw.githubusercontent.com/seoyeokim/Aiffel_DLThon/main/data/train.csv\"\n",
    "test = \"https://raw.githubusercontent.com/seoyeokim/Aiffel_DLThon/main/data/test.csv\"\n",
    "instagram = \"https://raw.githubusercontent.com/seoyeokim/Aiffel_DLThon/main/data/instagram.csv\"\n",
    "\n",
    "\n",
    "# CSV 파일 읽기\n",
    "# normal_data = pd.read_csv(normal)\n",
    "train_data = pd.read_csv(train)\n",
    "test_data = pd.read_csv(test)\n",
    "instagram_data = pd.read_csv(instagram)\n",
    "\n",
    "train_data = pd.concat([train_data, instagram_data], ignore_index=True)  \n",
    "train_data = train_data.drop('idx', axis=1).sample(frac=1).reset_index(drop=True)               # index 삭제하고 데이터행 섞기\n",
    "train_data.reset_index(inplace=True)                                                            # index 다시 붙이기\n",
    "train_data.columns = ['idx','class', 'conversation']                                            # 칼럼명 변경\n",
    "\n",
    "train_data.head()                  # 일반 대화 잘 섞였는지 확인"
   ]
  },
  {
   "cell_type": "code",
   "execution_count": 5,
   "id": "c9da1b2c",
   "metadata": {
    "colab": {
     "base_uri": "https://localhost:8080/",
     "height": 206
    },
    "id": "940d80db",
    "outputId": "f34d3f0e-a1c2-476e-d6ff-09f79b39616b"
   },
   "outputs": [],
   "source": [
    "# label_encoder = LabelEncoder()\n",
    "# label_encoder.fit(train_data['class'])\n",
    "# num_labels = len(label_encoder.classes_)\n",
    "\n",
    "# train_data['encoded_label'] = np.asarray(label_encoder.transform(train_data['class']), dtype=np.int32)\n",
    "# train_data.head()"
   ]
  },
  {
   "cell_type": "code",
   "execution_count": 6,
   "id": "8d08c9f7",
   "metadata": {
    "id": "6393fb3e"
   },
   "outputs": [],
   "source": [
    "train_texts = train_data[\"conversation\"].to_list() # Features (not-tokenized yet)\n",
    "# train_labels = train_data[\"encoded_label\"].to_list() # Labels\n",
    "train_class = train_data[\"class\"].to_list() # Labels"
   ]
  },
  {
   "cell_type": "code",
   "execution_count": 7,
   "id": "796819f8",
   "metadata": {
    "id": "abccad35"
   },
   "outputs": [],
   "source": [
    "# validation data 분리\n",
    "\n",
    "from sklearn.model_selection import train_test_split\n",
    "\n",
    "# Split Train and Validation data\n",
    "train_texts, val_texts, train_labels, val_labels = train_test_split(train_texts, train_class, test_size=0.2, random_state=0)"
   ]
  },
  {
   "cell_type": "markdown",
   "id": "075800a4",
   "metadata": {
    "id": "d9574a7b"
   },
   "source": [
    "### 토크나이저 다운로드"
   ]
  },
  {
   "cell_type": "code",
   "execution_count": 8,
   "id": "f65596a3",
   "metadata": {
    "colab": {
     "base_uri": "https://localhost:8080/",
     "height": 185,
     "referenced_widgets": [
      "d9821036d15e4d208909e64b33b51284",
      "9ed59c23625e4eb7b57315688187094f",
      "6d30e31b46d2405fa72a1e15726340ae",
      "453f379e43574a338d044ae921287b87",
      "c876f97e27c9479dbd2d1353e3792bfa",
      "516f5beb270f4ec48935eb921714f7a7",
      "6b60e2c57dee478aa71dfed57aedcb4d",
      "8ef66e2572f64cfda5ddc5d806c28287",
      "6158c2b4e82a42efa6abc4c8a4716166",
      "97619092ad234cac957e46125265bb16",
      "167f6baa2d3342789a331280d1b16ce8",
      "55680bc1ec7b4fc58642839de4705093",
      "eaee60fd183f4fee90db46157ef32ceb",
      "a4a1df381cdc49a98f2c5bd5e06388f0",
      "e93f183e684b4201aef52273ee247698",
      "83b2276a73684a5ebb95ae5e41221708",
      "c7e20d1c29f646c29d099403ca46abd3",
      "026d1f3d5f9f4f63bd3c6d0f910f6260",
      "38c479e2fad34e56b3401201ff839dd2",
      "fae1fc679b6845008fc7bf0ac84682ba",
      "4f5d5348c3cc4224a1637854adac8f68",
      "aca13e6af6354768a2f81753c3f6024d"
     ]
    },
    "id": "1ed8a7b5",
    "outputId": "2079ab50-bcc4-4326-96f3-c28e6a59924d"
   },
   "outputs": [
    {
     "name": "stderr",
     "output_type": "stream",
     "text": [
      "Special tokens have been added in the vocabulary, make sure the associated word embeddings are fine-tuned or trained.\n"
     ]
    }
   ],
   "source": [
    "tokenizer = AutoTokenizer.from_pretrained('skt/kogpt2-base-v2', bos_token='<s>', eos_token='</s>', pad_token='<pad>')"
   ]
  },
  {
   "cell_type": "code",
   "execution_count": 9,
   "id": "4cc2f5c4",
   "metadata": {
    "id": "76307300"
   },
   "outputs": [],
   "source": [
    "# 시작 토큰, 종료 토큰 붙이기\n",
    "\n",
    "import numpy as np\n",
    "from tqdm import tqdm\n",
    "from tensorflow.keras.preprocessing.sequence import pad_sequences\n",
    "\n",
    "def convert_examples_to_features(sent_list, max_seq_len, tokenizer):\n",
    "    input_ids = []\n",
    "\n",
    "    for conversation in tqdm(sent_list, total=len(sent_list)):\n",
    "        bos_token = [tokenizer.bos_token]  # 시작 토큰\n",
    "        eos_token = [tokenizer.eos_token]  # 종료 토큰\n",
    "        unused_token = ['<unused0>']  # 마지막에 추가할 토큰\n",
    "\n",
    "        # '\\n'으로 문장들 분리\n",
    "        sentences = conversation.split(\"\\n\")\n",
    "\n",
    "        tokens = []  # 전체 토큰 리스트\n",
    "\n",
    "        for i, sentence in enumerate(sentences):\n",
    "            # 각 문장에 <s>와 </s> 추가\n",
    "            sentence_tokens = bos_token + tokenizer.tokenize(sentence) + eos_token\n",
    "            tokens += sentence_tokens  # 문장 뒤에 <s> 추가\n",
    "\n",
    "        # 마지막 문장 뒤에 <unused0> 추가\n",
    "        tokens += unused_token  # 마지막에 <unused0> 추가\n",
    "        tokens += eos_token  # 마지막에 종료 토큰 추가\n",
    "\n",
    "        # 정수 인코딩\n",
    "        input_id = tokenizer.convert_tokens_to_ids(tokens)\n",
    "        # 패딩 추가\n",
    "        input_id = pad_sequences([input_id], maxlen=max_seq_len, value=tokenizer.pad_token_id, padding='post')[0]\n",
    "\n",
    "        # 길이 확인\n",
    "        assert len(input_id) == max_seq_len, f\"Error with input length {len(input_id)} vs {max_seq_len}\"\n",
    "\n",
    "        # 결과 저장\n",
    "        input_ids.append(input_id)\n",
    "\n",
    "    input_ids = np.array(input_ids, dtype=int)\n",
    "\n",
    "    return input_ids\n"
   ]
  },
  {
   "cell_type": "code",
   "execution_count": 10,
   "id": "d8926c1f",
   "metadata": {},
   "outputs": [
    {
     "name": "stdout",
     "output_type": "stream",
     "text": [
      "문장길이 평균 :  113.78832772166105\n",
      "문장길이 최대 :  874\n",
      "문장길이 표준편차 :  140.98432257809353\n",
      "pad_sequences maxlen :  395\n",
      "전체 문장의 0.9542087542087542%가 maxlen 설정값 이내에 포함됩니다. \n"
     ]
    }
   ],
   "source": [
    "# maxlen 계산하기\n",
    "\n",
    "total_data_text = list(train_texts) + list(train_class)\n",
    "num_tokens = [len(tokens) for tokens in total_data_text]\n",
    "num_tokens = np.array(num_tokens)\n",
    "print('문장길이 평균 : ', np.mean(num_tokens))\n",
    "print('문장길이 최대 : ', np.max(num_tokens))\n",
    "print('문장길이 표준편차 : ', np.std(num_tokens))\n",
    " \n",
    "max_tokens = np.mean(num_tokens) + 2 * np.std(num_tokens)\n",
    "maxlen = int(max_tokens)\n",
    "print('pad_sequences maxlen : ', maxlen)\n",
    "print(f'전체 문장의 {np.sum(num_tokens < max_tokens) / len(num_tokens)}%가 maxlen 설정값 이내에 포함됩니다. ')"
   ]
  },
  {
   "cell_type": "code",
   "execution_count": 11,
   "id": "d6e78103",
   "metadata": {
    "colab": {
     "base_uri": "https://localhost:8080/"
    },
    "id": "2627ad09",
    "outputId": "65f17fcc-7614-47f2-b85b-1587dd1e69f8"
   },
   "outputs": [
    {
     "name": "stderr",
     "output_type": "stream",
     "text": [
      "100%|██████████| 3960/3960 [00:04<00:00, 959.15it/s] \n"
     ]
    }
   ],
   "source": [
    "max_seq_len = 330\n",
    "\n",
    "# 학습데이터 전처리\n",
    "X_train = convert_examples_to_features(train_texts, max_seq_len=max_seq_len, tokenizer=tokenizer)"
   ]
  },
  {
   "cell_type": "code",
   "execution_count": 12,
   "id": "32d53c1b",
   "metadata": {
    "colab": {
     "base_uri": "https://localhost:8080/"
    },
    "id": "64bc4371",
    "outputId": "91d1eebb-d441-4045-b660-72cc54c5781c"
   },
   "outputs": [
    {
     "name": "stdout",
     "output_type": "stream",
     "text": [
      "단어에 대한 정수 인코딩 : [    0  9367  7244  8236  8152 10721  9036 10623  9098     1     0  9050\n",
      "  9265  7162 10721  8135  9183  9109  7810  7788  8084  9435  7182  7426\n",
      " 10276 17624  6872 16913  7182     1     0 10721  8135  9183 46989  9217\n",
      "   406     1     0 42487  9367  7244  8236  8152 19844 20337 36658  9668\n",
      "  9036 10623 13023  8263     1     0  9265  9990  7312 10924 15859  9183\n",
      "  9109  7810  7788  8084     1     0 23097  9449  9046  7177  7587  7162\n",
      "  6853  6889 10721 11459  9180  9018 10721  9046 20108 22051  6853  7991\n",
      "     1     0  9078  8702  8702 10330 19844  7177 15370 11001 31896  8702\n",
      "  7895  7172  7182  9903  7469  9036 10623  9098  9367  7244  8236  8152\n",
      "     1     0 36510     1     0 10165 10721 11459  9023 17831  7791  7609\n",
      "  7285 30974 12904 10721  7235 34166 13023 17831  7235 25783 13348 13059\n",
      "  9325 11830   739  8616  8616 12097 26056     1     0 36510     1     9\n",
      "     1     3     3     3     3     3     3     3     3     3     3     3\n",
      "     3     3     3     3     3     3     3     3     3     3     3     3\n",
      "     3     3     3     3     3     3     3     3     3     3     3     3\n",
      "     3     3     3     3     3     3     3     3     3     3     3     3\n",
      "     3     3     3     3     3     3     3     3     3     3     3     3\n",
      "     3     3     3     3     3     3     3     3     3     3     3     3\n",
      "     3     3     3     3     3     3     3     3     3     3     3     3\n",
      "     3     3     3     3     3     3     3     3     3     3     3     3\n",
      "     3     3     3     3     3     3     3     3     3     3     3     3\n",
      "     3     3     3     3     3     3     3     3     3     3     3     3\n",
      "     3     3     3     3     3     3     3     3     3     3     3     3\n",
      "     3     3     3     3     3     3     3     3     3     3     3     3\n",
      "     3     3     3     3     3     3     3     3     3     3     3     3\n",
      "     3     3     3     3     3     3     3     3     3     3     3     3\n",
      "     3     3     3     3     3     3     3     3     3     3     3     3\n",
      "     3     3     3     3     3     3]\n",
      "각 인코딩의 길이 : 330\n",
      "정수 인코딩 복원 : <s> 길동주임 술 한 잔 해</s><s> 아 저는 술은 안 마셔서요 사이다로 대신 마시겠습니다</s><s> 술은 안 마신다고?</s><s> 어허 길동주임 부장님이 주시는데 한 잔 해야지</s><s> 저 종교때문에 술을 안 마셔서요</s><s> 교회가서는 주님믿는거고 술자리에서는 이 술 주님을 믿는거야</s><s> 하하하 역시 부장님 센스가 대단하십니다 얼른 한 잔 해 길동주임</s><s>.</s><s> 이런 술자리에서 인생선배들 말도 듣고 술도 마시고 해야 인생도 배우고 나중에 승진에도 힘을 팍팍 써주지</s><s>.</s><unused0></s><pad><pad><pad><pad><pad><pad><pad><pad><pad><pad><pad><pad><pad><pad><pad><pad><pad><pad><pad><pad><pad><pad><pad><pad><pad><pad><pad><pad><pad><pad><pad><pad><pad><pad><pad><pad><pad><pad><pad><pad><pad><pad><pad><pad><pad><pad><pad><pad><pad><pad><pad><pad><pad><pad><pad><pad><pad><pad><pad><pad><pad><pad><pad><pad><pad><pad><pad><pad><pad><pad><pad><pad><pad><pad><pad><pad><pad><pad><pad><pad><pad><pad><pad><pad><pad><pad><pad><pad><pad><pad><pad><pad><pad><pad><pad><pad><pad><pad><pad><pad><pad><pad><pad><pad><pad><pad><pad><pad><pad><pad><pad><pad><pad><pad><pad><pad><pad><pad><pad><pad><pad><pad><pad><pad><pad><pad><pad><pad><pad><pad><pad><pad><pad><pad><pad><pad><pad><pad><pad><pad><pad><pad><pad><pad><pad><pad><pad><pad><pad><pad><pad><pad><pad><pad><pad><pad><pad><pad><pad><pad><pad><pad><pad><pad><pad><pad><pad><pad><pad><pad><pad><pad><pad><pad><pad><pad><pad><pad><pad><pad><pad><pad><pad><pad><pad>\n"
     ]
    }
   ],
   "source": [
    "# 최대 길이: 128\n",
    "input_id = X_train[0]\n",
    "\n",
    "print('단어에 대한 정수 인코딩 :',input_id)\n",
    "print('각 인코딩의 길이 :', len(input_id))\n",
    "print('정수 인코딩 복원 :',tokenizer.decode(input_id))"
   ]
  },
  {
   "cell_type": "code",
   "execution_count": 13,
   "id": "aba8eb12",
   "metadata": {
    "colab": {
     "base_uri": "https://localhost:8080/"
    },
    "id": "03e95bfe",
    "outputId": "ac458140-0364-436b-e72f-ddda97e347b8"
   },
   "outputs": [
    {
     "name": "stderr",
     "output_type": "stream",
     "text": [
      "100%|██████████| 990/990 [00:01<00:00, 986.87it/s] \n"
     ]
    }
   ],
   "source": [
    "# 검증데이터 전처리\n",
    "\n",
    "X_val = convert_examples_to_features(val_texts, max_seq_len=max_seq_len, tokenizer=tokenizer)"
   ]
  },
  {
   "cell_type": "code",
   "execution_count": 14,
   "id": "4a1374eb",
   "metadata": {
    "colab": {
     "base_uri": "https://localhost:8080/"
    },
    "id": "21e3a35a",
    "outputId": "2a39f9b4-c21e-4fa4-8e5f-06f24088c1f7"
   },
   "outputs": [
    {
     "name": "stdout",
     "output_type": "stream",
     "text": [
      "각 레이블과 정수 : {'갈취 대화': 0, '기타 괴롭힘 대화': 1, '일상 대화': 2, '직장 내 괴롭힘 대화': 3, '협박 대화': 4}\n"
     ]
    }
   ],
   "source": [
    "# 라벨데이터 정수 라벨링\n",
    "\n",
    "train_label = train_labels\n",
    "val_label = val_labels\n",
    "\n",
    "idx_encode = preprocessing.LabelEncoder()\n",
    "idx_encode.fit(train_label)\n",
    "\n",
    "# 고유한 정수로 변환\n",
    "y_train = idx_encode.transform(train_label)\n",
    "y_val = idx_encode.transform(val_label)\n",
    "\n",
    "label_idx = dict(zip(list(idx_encode.classes_), idx_encode.transform(list(idx_encode.classes_))))\n",
    "idx_label = {value: key for key, value in label_idx.items()}\n",
    "print('각 레이블과 정수 :', label_idx)\n"
   ]
  },
  {
   "cell_type": "code",
   "execution_count": 15,
   "id": "c7593530",
   "metadata": {
    "colab": {
     "base_uri": "https://localhost:8080/",
     "height": 156,
     "referenced_widgets": [
      "0f423dfe8cc340d8bcbd0ef217f531a5",
      "9b2fa2aec3594a9189cc1bfe77a89a5b",
      "1b52fda96be44c4aa88901203b6974fe",
      "bdaf92dcc9094b78bbe8a871e5c575b5",
      "1ead4b226a7c467ea7944454c50c6f61",
      "c1c4140c3a964b56aaa5b203729a152f",
      "9c030a46265845fa9bb69d491e6833f1",
      "39ed0650fddf442ca3d5830d64f51fbd",
      "8ce2c3a45c8e4b0a8d49ff95d50f885f",
      "0ce0acd299ef476ab889480740a6cc65",
      "568564ea26d9487ea7e706c919413611"
     ]
    },
    "id": "d2d81609",
    "outputId": "1f15db69-bead-4f68-e87c-c12039c22fd3",
    "scrolled": true
   },
   "outputs": [
    {
     "name": "stderr",
     "output_type": "stream",
     "text": [
      "Some weights of the PyTorch model were not used when initializing the TF 2.0 model TFGPT2Model: ['transformer.h.6.attn.masked_bias', 'transformer.h.10.attn.masked_bias', 'transformer.h.4.attn.masked_bias', 'transformer.h.9.attn.masked_bias', 'transformer.h.5.attn.masked_bias', 'lm_head.weight', 'transformer.h.11.attn.masked_bias', 'transformer.h.8.attn.masked_bias', 'transformer.h.0.attn.masked_bias', 'transformer.h.3.attn.masked_bias', 'transformer.h.2.attn.masked_bias', 'transformer.h.1.attn.masked_bias', 'transformer.h.7.attn.masked_bias']\n",
      "- This IS expected if you are initializing TFGPT2Model from a PyTorch model trained on another task or with another architecture (e.g. initializing a TFBertForSequenceClassification model from a BertForPreTraining model).\n",
      "- This IS NOT expected if you are initializing TFGPT2Model from a PyTorch model that you expect to be exactly identical (e.g. initializing a TFBertForSequenceClassification model from a BertForSequenceClassification model).\n",
      "All the weights of TFGPT2Model were initialized from the PyTorch model.\n",
      "If your task is similar to the task the model of the checkpoint was trained on, you can already use TFGPT2Model for predictions without further training.\n"
     ]
    }
   ],
   "source": [
    "# GPT 모델 불러오기\n",
    "\n",
    "model = TFGPT2Model.from_pretrained('skt/kogpt2-base-v2', from_pt=True)"
   ]
  },
  {
   "cell_type": "code",
   "execution_count": 16,
   "id": "21833150",
   "metadata": {
    "id": "dde739a5"
   },
   "outputs": [],
   "source": [
    "# GPT 모델 input, output 만들기\n",
    "input_ids_layer = tf.keras.layers.Input(shape=(max_seq_len,), dtype=tf.int32)\n",
    "outputs = model([input_ids_layer])"
   ]
  },
  {
   "cell_type": "code",
   "execution_count": 17,
   "id": "00847f2b",
   "metadata": {
    "id": "b71e2186"
   },
   "outputs": [],
   "source": [
    "# GPT로 다중 분류 모델 만들기\n",
    "\n",
    "class TFGPT2ForSequenceClassification(tf.keras.Model):\n",
    "    def __init__(self, model_name, num_labels):\n",
    "        super(TFGPT2ForSequenceClassification, self).__init__()\n",
    "        self.gpt = TFGPT2Model.from_pretrained(model_name, from_pt=True)\n",
    "        self.classifier = tf.keras.layers.Dense(num_labels,\n",
    "                                                kernel_initializer=tf.keras.initializers.TruncatedNormal(0.02),\n",
    "                                                activation='softmax',\n",
    "                                                name='classifier')\n",
    "\n",
    "    def call(self, inputs):\n",
    "        outputs = self.gpt(input_ids=inputs)\n",
    "        cls_token = outputs[0][:, -1]\n",
    "        prediction = self.classifier(cls_token)\n",
    "\n",
    "        return prediction"
   ]
  },
  {
   "cell_type": "code",
   "execution_count": 18,
   "id": "7f0879ac",
   "metadata": {
    "id": "fdf3b056"
   },
   "outputs": [],
   "source": [
    "# # TPU 작동을 위한 코드\n",
    "# resolver = tf.distribute.cluster_resolver.TPUClusterResolver(tpu='grpc://' + os.environ['COLAB_TPU_ADDR'])\n",
    "# tf.config.experimental_connect_to_cluster(resolver)\n",
    "# tf.tpu.experimental.initialize_tpu_system(resolver)\n",
    "\n",
    "# strategy = tf.distribute.experimental.TPUStrategy(resolver)"
   ]
  },
  {
   "cell_type": "code",
   "execution_count": 19,
   "id": "a4d11c37",
   "metadata": {
    "colab": {
     "base_uri": "https://localhost:8080/"
    },
    "id": "2a4904a7",
    "outputId": "38b2446f-9a36-4764-e0d6-1fc6c577c2c0",
    "scrolled": true
   },
   "outputs": [
    {
     "name": "stderr",
     "output_type": "stream",
     "text": [
      "Some weights of the PyTorch model were not used when initializing the TF 2.0 model TFGPT2Model: ['transformer.h.6.attn.masked_bias', 'transformer.h.10.attn.masked_bias', 'transformer.h.4.attn.masked_bias', 'transformer.h.9.attn.masked_bias', 'transformer.h.5.attn.masked_bias', 'lm_head.weight', 'transformer.h.11.attn.masked_bias', 'transformer.h.8.attn.masked_bias', 'transformer.h.0.attn.masked_bias', 'transformer.h.3.attn.masked_bias', 'transformer.h.2.attn.masked_bias', 'transformer.h.1.attn.masked_bias', 'transformer.h.7.attn.masked_bias']\n",
      "- This IS expected if you are initializing TFGPT2Model from a PyTorch model trained on another task or with another architecture (e.g. initializing a TFBertForSequenceClassification model from a BertForPreTraining model).\n",
      "- This IS NOT expected if you are initializing TFGPT2Model from a PyTorch model that you expect to be exactly identical (e.g. initializing a TFBertForSequenceClassification model from a BertForSequenceClassification model).\n",
      "All the weights of TFGPT2Model were initialized from the PyTorch model.\n",
      "If your task is similar to the task the model of the checkpoint was trained on, you can already use TFGPT2Model for predictions without further training.\n"
     ]
    }
   ],
   "source": [
    "# 모델 생성\n",
    "from tensorflow.keras.metrics import Recall\n",
    "\n",
    "model = TFGPT2ForSequenceClassification(\"skt/kogpt2-base-v2\", num_labels=5)\n",
    "optimizer = tf.keras.optimizers.Adam(learning_rate=5e-5)\n",
    "loss = tf.keras.losses.SparseCategoricalCrossentropy(from_logits=False)\n",
    "# recall_metric = Recall()\n",
    "# model.compile(optimizer=optimizer, loss=loss, metrics=['accuracy', recall_metric])\n",
    "model.compile(optimizer=optimizer, loss=loss, metrics=['accuracy'])"
   ]
  },
  {
   "cell_type": "code",
   "execution_count": 20,
   "id": "19b3bc2f",
   "metadata": {},
   "outputs": [],
   "source": [
    "# y_train = tf.squeeze(y_train)  # (batch_size, 1) -> (batch_size,)\n",
    "# y_val = tf.squeeze(y_val)  # (batch_size, 1) -> (batch_size,)\n",
    "\n",
    "# print(y_train.shape)\n",
    "# print(y_val.shape)"
   ]
  },
  {
   "cell_type": "code",
   "execution_count": 21,
   "id": "84debfc8",
   "metadata": {
    "colab": {
     "base_uri": "https://localhost:8080/"
    },
    "id": "850e18e1",
    "outputId": "449b00c6-003f-426d-90cf-8fd7e7a63586"
   },
   "outputs": [
    {
     "name": "stdout",
     "output_type": "stream",
     "text": [
      "Epoch 1/2\n",
      "248/248 [==============================] - 337s 1s/step - loss: 0.9041 - accuracy: 0.6975 - val_loss: 0.4283 - val_accuracy: 0.8556\n",
      "Epoch 2/2\n",
      "248/248 [==============================] - 324s 1s/step - loss: 0.3380 - accuracy: 0.8846 - val_loss: 0.5032 - val_accuracy: 0.8495\n"
     ]
    },
    {
     "data": {
      "text/plain": [
       "<keras.callbacks.History at 0x7cfebcb17940>"
      ]
     },
     "execution_count": 21,
     "metadata": {},
     "output_type": "execute_result"
    }
   ],
   "source": [
    "model.fit(\n",
    "    X_train, y_train, epochs=2, batch_size=16, validation_data = (X_val, y_val)\n",
    ")"
   ]
  },
  {
   "cell_type": "code",
   "execution_count": 24,
   "id": "94e89d4b",
   "metadata": {
    "colab": {
     "base_uri": "https://localhost:8080/"
    },
    "id": "NN_Ac1PgnGyz",
    "outputId": "cf8cdb75-01b6-4974-eec3-b69f311d27a7"
   },
   "outputs": [
    {
     "name": "stderr",
     "output_type": "stream",
     "text": [
      "100%|██████████| 500/500 [00:00<00:00, 2044.95it/s]"
     ]
    },
    {
     "name": "stdout",
     "output_type": "stream",
     "text": [
      "Test data preprocessing 완료!\n"
     ]
    },
    {
     "name": "stderr",
     "output_type": "stream",
     "text": [
      "\n"
     ]
    }
   ],
   "source": [
    "# test_data 전처리 (\\n으로 구분하지 않고 대화문 통으로 하나의 문장으로 설정)\n",
    "\n",
    "def preprocess_test_data_without_newline(test_data, tokenizer, max_seq_len=128):\n",
    "    # test_data에서 conversation만 추출\n",
    "    test_texts = test_data[\"text\"].to_list()  # Features (not-tokenized yet)\n",
    "\n",
    "    # 전처리 진행\n",
    "    def convert_examples_to_features_for_test(sent_list, max_seq_len, tokenizer):\n",
    "        input_ids = []\n",
    "\n",
    "        for conversation in tqdm(sent_list, total=len(sent_list)):\n",
    "            bos_token = [tokenizer.bos_token]  # 시작 토큰\n",
    "            eos_token = [tokenizer.eos_token]  # 종료 토큰\n",
    "            unused_token = ['<unused0>']  # 마지막에 추가할 토큰\n",
    "\n",
    "            # conversation을 하나의 문장으로 간주\n",
    "            sentence = conversation.strip()\n",
    "\n",
    "            tokens = bos_token + tokenizer.tokenize(sentence) + eos_token  # 토큰화 후 <s>, </s> 추가\n",
    "\n",
    "            # 마지막에 <unused0> 추가\n",
    "            tokens += unused_token  # 마지막에 <unused0> 추가\n",
    "            tokens += eos_token  # 마지막에 종료 토큰 추가\n",
    "\n",
    "            # 정수 인코딩\n",
    "            input_id = tokenizer.convert_tokens_to_ids(tokens)\n",
    "            # 패딩 추가\n",
    "            input_id = pad_sequences([input_id], maxlen=max_seq_len, value=tokenizer.pad_token_id, padding='post')[0]\n",
    "\n",
    "            # 길이 확인\n",
    "            assert len(input_id) == max_seq_len, f\"Error with input length {len(input_id)} vs {max_seq_len}\"\n",
    "\n",
    "            # 결과 저장\n",
    "            input_ids.append(input_id)\n",
    "\n",
    "        input_ids = np.array(input_ids, dtype=int)\n",
    "\n",
    "        return input_ids\n",
    "\n",
    "    # test_data에 대해 전처리 진행\n",
    "    X_test = convert_examples_to_features_for_test(test_texts, max_seq_len, tokenizer)\n",
    "\n",
    "    return X_test\n",
    "\n",
    "# 테스트 데이터 전처리 실행\n",
    "X_test = preprocess_test_data_without_newline(test_data, tokenizer, max_seq_len=128)\n",
    "\n",
    "print(\"Test data preprocessing 완료!\")\n"
   ]
  },
  {
   "cell_type": "code",
   "execution_count": 25,
   "id": "842c7a06",
   "metadata": {
    "colab": {
     "base_uri": "https://localhost:8080/"
    },
    "id": "AiAonls-nIT7",
    "outputId": "1149b394-c073-4027-b7fb-b87f3ee57b4b"
   },
   "outputs": [
    {
     "data": {
      "text/html": [
       "<div>\n",
       "<style scoped>\n",
       "    .dataframe tbody tr th:only-of-type {\n",
       "        vertical-align: middle;\n",
       "    }\n",
       "\n",
       "    .dataframe tbody tr th {\n",
       "        vertical-align: top;\n",
       "    }\n",
       "\n",
       "    .dataframe thead th {\n",
       "        text-align: right;\n",
       "    }\n",
       "</style>\n",
       "<table border=\"1\" class=\"dataframe\">\n",
       "  <thead>\n",
       "    <tr style=\"text-align: right;\">\n",
       "      <th></th>\n",
       "      <th>idx</th>\n",
       "      <th>text</th>\n",
       "      <th>predictions</th>\n",
       "    </tr>\n",
       "  </thead>\n",
       "  <tbody>\n",
       "    <tr>\n",
       "      <th>0</th>\n",
       "      <td>t_000</td>\n",
       "      <td>아가씨 담배한갑주소 네 4500원입니다 어 네 지갑어디갔지 에이 버스에서 잃어버렸나...</td>\n",
       "      <td>1</td>\n",
       "    </tr>\n",
       "    <tr>\n",
       "      <th>1</th>\n",
       "      <td>t_001</td>\n",
       "      <td>우리팀에서 다른팀으로 갈 사람 없나? 그럼 영지씨가 가는건 어때?  네? 제가요? ...</td>\n",
       "      <td>2</td>\n",
       "    </tr>\n",
       "    <tr>\n",
       "      <th>2</th>\n",
       "      <td>t_002</td>\n",
       "      <td>너 오늘 그게 뭐야 네 제가 뭘 잘못했나요.? 제대로 좀 하지 네 똑바로 좀 하지 ...</td>\n",
       "      <td>2</td>\n",
       "    </tr>\n",
       "    <tr>\n",
       "      <th>3</th>\n",
       "      <td>t_003</td>\n",
       "      <td>이거 들어바 와 이 노래 진짜 좋다 그치 요즘 이 것만 들어 진짜 너무 좋다 내가 ...</td>\n",
       "      <td>3</td>\n",
       "    </tr>\n",
       "    <tr>\n",
       "      <th>4</th>\n",
       "      <td>t_004</td>\n",
       "      <td>아무튼 앞으로 니가 내 와이파이야. .응 와이파이 온. 켰어. 반말? 주인님이라고도...</td>\n",
       "      <td>3</td>\n",
       "    </tr>\n",
       "  </tbody>\n",
       "</table>\n",
       "</div>"
      ],
      "text/plain": [
       "     idx                                               text  predictions\n",
       "0  t_000  아가씨 담배한갑주소 네 4500원입니다 어 네 지갑어디갔지 에이 버스에서 잃어버렸나...            1\n",
       "1  t_001  우리팀에서 다른팀으로 갈 사람 없나? 그럼 영지씨가 가는건 어때?  네? 제가요? ...            2\n",
       "2  t_002  너 오늘 그게 뭐야 네 제가 뭘 잘못했나요.? 제대로 좀 하지 네 똑바로 좀 하지 ...            2\n",
       "3  t_003  이거 들어바 와 이 노래 진짜 좋다 그치 요즘 이 것만 들어 진짜 너무 좋다 내가 ...            3\n",
       "4  t_004  아무튼 앞으로 니가 내 와이파이야. .응 와이파이 온. 켰어. 반말? 주인님이라고도...            3"
      ]
     },
     "execution_count": 25,
     "metadata": {},
     "output_type": "execute_result"
    }
   ],
   "source": [
    "# 레이블과 정수 매핑 딕셔너리\n",
    "label_mapping = {0: 1, 1: 3, 2: 4, 3: 2, 4: 0}\n",
    "\n",
    "# 예측 수행\n",
    "predictions = model.predict(X_test)\n",
    "\n",
    "# 예측 결과가 클래스 확률일 경우\n",
    "predicted_classes = np.argmax(predictions, axis=1)\n",
    "\n",
    "# 정수 값을 레이블로 변환\n",
    "predicted_labels = [label_mapping[class_id] for class_id in predicted_classes]\n",
    "\n",
    "# 예측 결과를 test 데이터프레임에 추가\n",
    "test_data['predictions'] = predicted_labels\n",
    "test_data.to_csv(\"test.csv\",index=False, encoding='utf-8-sig')\n",
    "\n",
    "\n",
    "# 결과 출력\n",
    "test_data.head()"
   ]
  },
  {
   "cell_type": "code",
   "execution_count": 26,
   "id": "421e4358",
   "metadata": {
    "id": "5nq76VnBCwLE"
   },
   "outputs": [
    {
     "data": {
      "text/html": [
       "<div>\n",
       "<style scoped>\n",
       "    .dataframe tbody tr th:only-of-type {\n",
       "        vertical-align: middle;\n",
       "    }\n",
       "\n",
       "    .dataframe tbody tr th {\n",
       "        vertical-align: top;\n",
       "    }\n",
       "\n",
       "    .dataframe thead th {\n",
       "        text-align: right;\n",
       "    }\n",
       "</style>\n",
       "<table border=\"1\" class=\"dataframe\">\n",
       "  <thead>\n",
       "    <tr style=\"text-align: right;\">\n",
       "      <th></th>\n",
       "      <th>idx</th>\n",
       "      <th>text</th>\n",
       "      <th>predictions</th>\n",
       "    </tr>\n",
       "  </thead>\n",
       "  <tbody>\n",
       "    <tr>\n",
       "      <th>232</th>\n",
       "      <td>t_232</td>\n",
       "      <td>아 진짜 못참겠네 왜그래 저번부터 그냥 거슬린다 아니 뭘 잘못했는데 맞자 일단 어디...</td>\n",
       "      <td>3</td>\n",
       "    </tr>\n",
       "    <tr>\n",
       "      <th>129</th>\n",
       "      <td>t_129</td>\n",
       "      <td>야 내꺼 겁나 맛없어 내거도 그래 여기 개별로다 그니까 여기 리뷰 안좋은 이유가 있...</td>\n",
       "      <td>3</td>\n",
       "    </tr>\n",
       "    <tr>\n",
       "      <th>414</th>\n",
       "      <td>t_414</td>\n",
       "      <td>지은씨 이번 주말에 뭐 해요 저 약속은 없어요 그러면 같이 영화볼래요 요즘 재미있는...</td>\n",
       "      <td>2</td>\n",
       "    </tr>\n",
       "    <tr>\n",
       "      <th>41</th>\n",
       "      <td>t_041</td>\n",
       "      <td>야 거기 이 골목 지나려면 통행비 5만원이다. 그딴게 어딨어요? 오늘부터다 시발롬아...</td>\n",
       "      <td>1</td>\n",
       "    </tr>\n",
       "    <tr>\n",
       "      <th>483</th>\n",
       "      <td>t_483</td>\n",
       "      <td>이거 왜 이렇게 놔! 똑바로 놓으라고 했지? 아침부터 왜 그러냐. 아니 수저통 똑바...</td>\n",
       "      <td>3</td>\n",
       "    </tr>\n",
       "    <tr>\n",
       "      <th>172</th>\n",
       "      <td>t_172</td>\n",
       "      <td>이거 재연씨 아이디어인가? 네 그렇습니다. 아니지 아니지. 무슨 말씀이신지? 지금부...</td>\n",
       "      <td>2</td>\n",
       "    </tr>\n",
       "    <tr>\n",
       "      <th>389</th>\n",
       "      <td>t_389</td>\n",
       "      <td>담배 한갑줘  손님 죄송하지만 마스크 착용 부탁드립니다  나 없는데 마스크  그럼 ...</td>\n",
       "      <td>1</td>\n",
       "    </tr>\n",
       "    <tr>\n",
       "      <th>332</th>\n",
       "      <td>t_332</td>\n",
       "      <td>온가족이 한날한시에 함께 죽으면 외롭지는 않겠네 저희 가족들한테까지 왜 그러십니까....</td>\n",
       "      <td>0</td>\n",
       "    </tr>\n",
       "    <tr>\n",
       "      <th>36</th>\n",
       "      <td>t_036</td>\n",
       "      <td>저기요 번호 주세요 네? 죄송합니다. 머라고요? 내가 누군줄 알아요? 아. 네 당연...</td>\n",
       "      <td>1</td>\n",
       "    </tr>\n",
       "    <tr>\n",
       "      <th>482</th>\n",
       "      <td>t_482</td>\n",
       "      <td>아가씨 이쁜데 왜 이러세요 우리랑 좀 놀까? 싫어요. 그럼 돈 좀 빌려주던가 얼마나...</td>\n",
       "      <td>1</td>\n",
       "    </tr>\n",
       "  </tbody>\n",
       "</table>\n",
       "</div>"
      ],
      "text/plain": [
       "       idx                                               text  predictions\n",
       "232  t_232  아 진짜 못참겠네 왜그래 저번부터 그냥 거슬린다 아니 뭘 잘못했는데 맞자 일단 어디...            3\n",
       "129  t_129  야 내꺼 겁나 맛없어 내거도 그래 여기 개별로다 그니까 여기 리뷰 안좋은 이유가 있...            3\n",
       "414  t_414  지은씨 이번 주말에 뭐 해요 저 약속은 없어요 그러면 같이 영화볼래요 요즘 재미있는...            2\n",
       "41   t_041  야 거기 이 골목 지나려면 통행비 5만원이다. 그딴게 어딨어요? 오늘부터다 시발롬아...            1\n",
       "483  t_483  이거 왜 이렇게 놔! 똑바로 놓으라고 했지? 아침부터 왜 그러냐. 아니 수저통 똑바...            3\n",
       "172  t_172  이거 재연씨 아이디어인가? 네 그렇습니다. 아니지 아니지. 무슨 말씀이신지? 지금부...            2\n",
       "389  t_389  담배 한갑줘  손님 죄송하지만 마스크 착용 부탁드립니다  나 없는데 마스크  그럼 ...            1\n",
       "332  t_332  온가족이 한날한시에 함께 죽으면 외롭지는 않겠네 저희 가족들한테까지 왜 그러십니까....            0\n",
       "36   t_036  저기요 번호 주세요 네? 죄송합니다. 머라고요? 내가 누군줄 알아요? 아. 네 당연...            1\n",
       "482  t_482  아가씨 이쁜데 왜 이러세요 우리랑 좀 놀까? 싫어요. 그럼 돈 좀 빌려주던가 얼마나...            1"
      ]
     },
     "execution_count": 26,
     "metadata": {},
     "output_type": "execute_result"
    }
   ],
   "source": [
    "test_data.sample(10)"
   ]
  },
  {
   "cell_type": "code",
   "execution_count": 28,
   "id": "2a2d24c6",
   "metadata": {},
   "outputs": [
    {
     "data": {
      "text/html": [
       "<div>\n",
       "<style scoped>\n",
       "    .dataframe tbody tr th:only-of-type {\n",
       "        vertical-align: middle;\n",
       "    }\n",
       "\n",
       "    .dataframe tbody tr th {\n",
       "        vertical-align: top;\n",
       "    }\n",
       "\n",
       "    .dataframe thead th {\n",
       "        text-align: right;\n",
       "    }\n",
       "</style>\n",
       "<table border=\"1\" class=\"dataframe\">\n",
       "  <thead>\n",
       "    <tr style=\"text-align: right;\">\n",
       "      <th></th>\n",
       "      <th>idx</th>\n",
       "      <th>class</th>\n",
       "    </tr>\n",
       "  </thead>\n",
       "  <tbody>\n",
       "    <tr>\n",
       "      <th>0</th>\n",
       "      <td>t_000</td>\n",
       "      <td>1</td>\n",
       "    </tr>\n",
       "    <tr>\n",
       "      <th>1</th>\n",
       "      <td>t_001</td>\n",
       "      <td>2</td>\n",
       "    </tr>\n",
       "    <tr>\n",
       "      <th>2</th>\n",
       "      <td>t_002</td>\n",
       "      <td>2</td>\n",
       "    </tr>\n",
       "    <tr>\n",
       "      <th>3</th>\n",
       "      <td>t_003</td>\n",
       "      <td>3</td>\n",
       "    </tr>\n",
       "    <tr>\n",
       "      <th>4</th>\n",
       "      <td>t_004</td>\n",
       "      <td>3</td>\n",
       "    </tr>\n",
       "  </tbody>\n",
       "</table>\n",
       "</div>"
      ],
      "text/plain": [
       "     idx  class\n",
       "0  t_000      1\n",
       "1  t_001      2\n",
       "2  t_002      2\n",
       "3  t_003      3\n",
       "4  t_004      3"
      ]
     },
     "execution_count": 28,
     "metadata": {},
     "output_type": "execute_result"
    }
   ],
   "source": [
    "# submission 넣기\n",
    "\n",
    "# submission = \"https://raw.githubusercontent.com/seoyeokim/Aiffel_DLThon/main/data/submission.csv\"\n",
    "\n",
    "# submission_data = pd.read_csv(submission)\n",
    "\n",
    "\n",
    "submission = pd.DataFrame({\"idx\" : test_data.idx, \"class\" : predicted_labels})\n",
    "submission.to_csv(\"submission.csv\",index=False, encoding='utf-8-sig')\n",
    "\n",
    "submission.head()"
   ]
  }
 ],
 "metadata": {
  "colab": {
   "provenance": []
  },
  "kernelspec": {
   "display_name": "Python 3 (ipykernel)",
   "language": "python",
   "name": "python3"
  },
  "language_info": {
   "codemirror_mode": {
    "name": "ipython",
    "version": 3
   },
   "file_extension": ".py",
   "mimetype": "text/x-python",
   "name": "python",
   "nbconvert_exporter": "python",
   "pygments_lexer": "ipython3",
   "version": "3.9.7"
  },
  "widgets": {
   "application/vnd.jupyter.widget-state+json": {
    "026d1f3d5f9f4f63bd3c6d0f910f6260": {
     "model_module": "@jupyter-widgets/controls",
     "model_module_version": "1.5.0",
     "model_name": "DescriptionStyleModel",
     "state": {
      "_model_module": "@jupyter-widgets/controls",
      "_model_module_version": "1.5.0",
      "_model_name": "DescriptionStyleModel",
      "_view_count": null,
      "_view_module": "@jupyter-widgets/base",
      "_view_module_version": "1.2.0",
      "_view_name": "StyleView",
      "description_width": ""
     }
    },
    "0ce0acd299ef476ab889480740a6cc65": {
     "model_module": "@jupyter-widgets/base",
     "model_module_version": "1.2.0",
     "model_name": "LayoutModel",
     "state": {
      "_model_module": "@jupyter-widgets/base",
      "_model_module_version": "1.2.0",
      "_model_name": "LayoutModel",
      "_view_count": null,
      "_view_module": "@jupyter-widgets/base",
      "_view_module_version": "1.2.0",
      "_view_name": "LayoutView",
      "align_content": null,
      "align_items": null,
      "align_self": null,
      "border": null,
      "bottom": null,
      "display": null,
      "flex": null,
      "flex_flow": null,
      "grid_area": null,
      "grid_auto_columns": null,
      "grid_auto_flow": null,
      "grid_auto_rows": null,
      "grid_column": null,
      "grid_gap": null,
      "grid_row": null,
      "grid_template_areas": null,
      "grid_template_columns": null,
      "grid_template_rows": null,
      "height": null,
      "justify_content": null,
      "justify_items": null,
      "left": null,
      "margin": null,
      "max_height": null,
      "max_width": null,
      "min_height": null,
      "min_width": null,
      "object_fit": null,
      "object_position": null,
      "order": null,
      "overflow": null,
      "overflow_x": null,
      "overflow_y": null,
      "padding": null,
      "right": null,
      "top": null,
      "visibility": null,
      "width": null
     }
    },
    "0f423dfe8cc340d8bcbd0ef217f531a5": {
     "model_module": "@jupyter-widgets/controls",
     "model_module_version": "1.5.0",
     "model_name": "HBoxModel",
     "state": {
      "_dom_classes": [],
      "_model_module": "@jupyter-widgets/controls",
      "_model_module_version": "1.5.0",
      "_model_name": "HBoxModel",
      "_view_count": null,
      "_view_module": "@jupyter-widgets/controls",
      "_view_module_version": "1.5.0",
      "_view_name": "HBoxView",
      "box_style": "",
      "children": [
       "IPY_MODEL_9b2fa2aec3594a9189cc1bfe77a89a5b",
       "IPY_MODEL_1b52fda96be44c4aa88901203b6974fe",
       "IPY_MODEL_bdaf92dcc9094b78bbe8a871e5c575b5"
      ],
      "layout": "IPY_MODEL_1ead4b226a7c467ea7944454c50c6f61"
     }
    },
    "167f6baa2d3342789a331280d1b16ce8": {
     "model_module": "@jupyter-widgets/controls",
     "model_module_version": "1.5.0",
     "model_name": "DescriptionStyleModel",
     "state": {
      "_model_module": "@jupyter-widgets/controls",
      "_model_module_version": "1.5.0",
      "_model_name": "DescriptionStyleModel",
      "_view_count": null,
      "_view_module": "@jupyter-widgets/base",
      "_view_module_version": "1.2.0",
      "_view_name": "StyleView",
      "description_width": ""
     }
    },
    "1b52fda96be44c4aa88901203b6974fe": {
     "model_module": "@jupyter-widgets/controls",
     "model_module_version": "1.5.0",
     "model_name": "FloatProgressModel",
     "state": {
      "_dom_classes": [],
      "_model_module": "@jupyter-widgets/controls",
      "_model_module_version": "1.5.0",
      "_model_name": "FloatProgressModel",
      "_view_count": null,
      "_view_module": "@jupyter-widgets/controls",
      "_view_module_version": "1.5.0",
      "_view_name": "ProgressView",
      "bar_style": "success",
      "description": "",
      "description_tooltip": null,
      "layout": "IPY_MODEL_39ed0650fddf442ca3d5830d64f51fbd",
      "max": 513302779,
      "min": 0,
      "orientation": "horizontal",
      "style": "IPY_MODEL_8ce2c3a45c8e4b0a8d49ff95d50f885f",
      "value": 513302779
     }
    },
    "1ead4b226a7c467ea7944454c50c6f61": {
     "model_module": "@jupyter-widgets/base",
     "model_module_version": "1.2.0",
     "model_name": "LayoutModel",
     "state": {
      "_model_module": "@jupyter-widgets/base",
      "_model_module_version": "1.2.0",
      "_model_name": "LayoutModel",
      "_view_count": null,
      "_view_module": "@jupyter-widgets/base",
      "_view_module_version": "1.2.0",
      "_view_name": "LayoutView",
      "align_content": null,
      "align_items": null,
      "align_self": null,
      "border": null,
      "bottom": null,
      "display": null,
      "flex": null,
      "flex_flow": null,
      "grid_area": null,
      "grid_auto_columns": null,
      "grid_auto_flow": null,
      "grid_auto_rows": null,
      "grid_column": null,
      "grid_gap": null,
      "grid_row": null,
      "grid_template_areas": null,
      "grid_template_columns": null,
      "grid_template_rows": null,
      "height": null,
      "justify_content": null,
      "justify_items": null,
      "left": null,
      "margin": null,
      "max_height": null,
      "max_width": null,
      "min_height": null,
      "min_width": null,
      "object_fit": null,
      "object_position": null,
      "order": null,
      "overflow": null,
      "overflow_x": null,
      "overflow_y": null,
      "padding": null,
      "right": null,
      "top": null,
      "visibility": null,
      "width": null
     }
    },
    "38c479e2fad34e56b3401201ff839dd2": {
     "model_module": "@jupyter-widgets/base",
     "model_module_version": "1.2.0",
     "model_name": "LayoutModel",
     "state": {
      "_model_module": "@jupyter-widgets/base",
      "_model_module_version": "1.2.0",
      "_model_name": "LayoutModel",
      "_view_count": null,
      "_view_module": "@jupyter-widgets/base",
      "_view_module_version": "1.2.0",
      "_view_name": "LayoutView",
      "align_content": null,
      "align_items": null,
      "align_self": null,
      "border": null,
      "bottom": null,
      "display": null,
      "flex": null,
      "flex_flow": null,
      "grid_area": null,
      "grid_auto_columns": null,
      "grid_auto_flow": null,
      "grid_auto_rows": null,
      "grid_column": null,
      "grid_gap": null,
      "grid_row": null,
      "grid_template_areas": null,
      "grid_template_columns": null,
      "grid_template_rows": null,
      "height": null,
      "justify_content": null,
      "justify_items": null,
      "left": null,
      "margin": null,
      "max_height": null,
      "max_width": null,
      "min_height": null,
      "min_width": null,
      "object_fit": null,
      "object_position": null,
      "order": null,
      "overflow": null,
      "overflow_x": null,
      "overflow_y": null,
      "padding": null,
      "right": null,
      "top": null,
      "visibility": null,
      "width": null
     }
    },
    "39ed0650fddf442ca3d5830d64f51fbd": {
     "model_module": "@jupyter-widgets/base",
     "model_module_version": "1.2.0",
     "model_name": "LayoutModel",
     "state": {
      "_model_module": "@jupyter-widgets/base",
      "_model_module_version": "1.2.0",
      "_model_name": "LayoutModel",
      "_view_count": null,
      "_view_module": "@jupyter-widgets/base",
      "_view_module_version": "1.2.0",
      "_view_name": "LayoutView",
      "align_content": null,
      "align_items": null,
      "align_self": null,
      "border": null,
      "bottom": null,
      "display": null,
      "flex": null,
      "flex_flow": null,
      "grid_area": null,
      "grid_auto_columns": null,
      "grid_auto_flow": null,
      "grid_auto_rows": null,
      "grid_column": null,
      "grid_gap": null,
      "grid_row": null,
      "grid_template_areas": null,
      "grid_template_columns": null,
      "grid_template_rows": null,
      "height": null,
      "justify_content": null,
      "justify_items": null,
      "left": null,
      "margin": null,
      "max_height": null,
      "max_width": null,
      "min_height": null,
      "min_width": null,
      "object_fit": null,
      "object_position": null,
      "order": null,
      "overflow": null,
      "overflow_x": null,
      "overflow_y": null,
      "padding": null,
      "right": null,
      "top": null,
      "visibility": null,
      "width": null
     }
    },
    "453f379e43574a338d044ae921287b87": {
     "model_module": "@jupyter-widgets/controls",
     "model_module_version": "1.5.0",
     "model_name": "HTMLModel",
     "state": {
      "_dom_classes": [],
      "_model_module": "@jupyter-widgets/controls",
      "_model_module_version": "1.5.0",
      "_model_name": "HTMLModel",
      "_view_count": null,
      "_view_module": "@jupyter-widgets/controls",
      "_view_module_version": "1.5.0",
      "_view_name": "HTMLView",
      "description": "",
      "description_tooltip": null,
      "layout": "IPY_MODEL_97619092ad234cac957e46125265bb16",
      "placeholder": "​",
      "style": "IPY_MODEL_167f6baa2d3342789a331280d1b16ce8",
      "value": " 1.00k/1.00k [00:00&lt;00:00, 57.1kB/s]"
     }
    },
    "4f5d5348c3cc4224a1637854adac8f68": {
     "model_module": "@jupyter-widgets/base",
     "model_module_version": "1.2.0",
     "model_name": "LayoutModel",
     "state": {
      "_model_module": "@jupyter-widgets/base",
      "_model_module_version": "1.2.0",
      "_model_name": "LayoutModel",
      "_view_count": null,
      "_view_module": "@jupyter-widgets/base",
      "_view_module_version": "1.2.0",
      "_view_name": "LayoutView",
      "align_content": null,
      "align_items": null,
      "align_self": null,
      "border": null,
      "bottom": null,
      "display": null,
      "flex": null,
      "flex_flow": null,
      "grid_area": null,
      "grid_auto_columns": null,
      "grid_auto_flow": null,
      "grid_auto_rows": null,
      "grid_column": null,
      "grid_gap": null,
      "grid_row": null,
      "grid_template_areas": null,
      "grid_template_columns": null,
      "grid_template_rows": null,
      "height": null,
      "justify_content": null,
      "justify_items": null,
      "left": null,
      "margin": null,
      "max_height": null,
      "max_width": null,
      "min_height": null,
      "min_width": null,
      "object_fit": null,
      "object_position": null,
      "order": null,
      "overflow": null,
      "overflow_x": null,
      "overflow_y": null,
      "padding": null,
      "right": null,
      "top": null,
      "visibility": null,
      "width": null
     }
    },
    "516f5beb270f4ec48935eb921714f7a7": {
     "model_module": "@jupyter-widgets/base",
     "model_module_version": "1.2.0",
     "model_name": "LayoutModel",
     "state": {
      "_model_module": "@jupyter-widgets/base",
      "_model_module_version": "1.2.0",
      "_model_name": "LayoutModel",
      "_view_count": null,
      "_view_module": "@jupyter-widgets/base",
      "_view_module_version": "1.2.0",
      "_view_name": "LayoutView",
      "align_content": null,
      "align_items": null,
      "align_self": null,
      "border": null,
      "bottom": null,
      "display": null,
      "flex": null,
      "flex_flow": null,
      "grid_area": null,
      "grid_auto_columns": null,
      "grid_auto_flow": null,
      "grid_auto_rows": null,
      "grid_column": null,
      "grid_gap": null,
      "grid_row": null,
      "grid_template_areas": null,
      "grid_template_columns": null,
      "grid_template_rows": null,
      "height": null,
      "justify_content": null,
      "justify_items": null,
      "left": null,
      "margin": null,
      "max_height": null,
      "max_width": null,
      "min_height": null,
      "min_width": null,
      "object_fit": null,
      "object_position": null,
      "order": null,
      "overflow": null,
      "overflow_x": null,
      "overflow_y": null,
      "padding": null,
      "right": null,
      "top": null,
      "visibility": null,
      "width": null
     }
    },
    "55680bc1ec7b4fc58642839de4705093": {
     "model_module": "@jupyter-widgets/controls",
     "model_module_version": "1.5.0",
     "model_name": "HBoxModel",
     "state": {
      "_dom_classes": [],
      "_model_module": "@jupyter-widgets/controls",
      "_model_module_version": "1.5.0",
      "_model_name": "HBoxModel",
      "_view_count": null,
      "_view_module": "@jupyter-widgets/controls",
      "_view_module_version": "1.5.0",
      "_view_name": "HBoxView",
      "box_style": "",
      "children": [
       "IPY_MODEL_eaee60fd183f4fee90db46157ef32ceb",
       "IPY_MODEL_a4a1df381cdc49a98f2c5bd5e06388f0",
       "IPY_MODEL_e93f183e684b4201aef52273ee247698"
      ],
      "layout": "IPY_MODEL_83b2276a73684a5ebb95ae5e41221708"
     }
    },
    "568564ea26d9487ea7e706c919413611": {
     "model_module": "@jupyter-widgets/controls",
     "model_module_version": "1.5.0",
     "model_name": "DescriptionStyleModel",
     "state": {
      "_model_module": "@jupyter-widgets/controls",
      "_model_module_version": "1.5.0",
      "_model_name": "DescriptionStyleModel",
      "_view_count": null,
      "_view_module": "@jupyter-widgets/base",
      "_view_module_version": "1.2.0",
      "_view_name": "StyleView",
      "description_width": ""
     }
    },
    "6158c2b4e82a42efa6abc4c8a4716166": {
     "model_module": "@jupyter-widgets/controls",
     "model_module_version": "1.5.0",
     "model_name": "ProgressStyleModel",
     "state": {
      "_model_module": "@jupyter-widgets/controls",
      "_model_module_version": "1.5.0",
      "_model_name": "ProgressStyleModel",
      "_view_count": null,
      "_view_module": "@jupyter-widgets/base",
      "_view_module_version": "1.2.0",
      "_view_name": "StyleView",
      "bar_color": null,
      "description_width": ""
     }
    },
    "6b60e2c57dee478aa71dfed57aedcb4d": {
     "model_module": "@jupyter-widgets/controls",
     "model_module_version": "1.5.0",
     "model_name": "DescriptionStyleModel",
     "state": {
      "_model_module": "@jupyter-widgets/controls",
      "_model_module_version": "1.5.0",
      "_model_name": "DescriptionStyleModel",
      "_view_count": null,
      "_view_module": "@jupyter-widgets/base",
      "_view_module_version": "1.2.0",
      "_view_name": "StyleView",
      "description_width": ""
     }
    },
    "6d30e31b46d2405fa72a1e15726340ae": {
     "model_module": "@jupyter-widgets/controls",
     "model_module_version": "1.5.0",
     "model_name": "FloatProgressModel",
     "state": {
      "_dom_classes": [],
      "_model_module": "@jupyter-widgets/controls",
      "_model_module_version": "1.5.0",
      "_model_name": "FloatProgressModel",
      "_view_count": null,
      "_view_module": "@jupyter-widgets/controls",
      "_view_module_version": "1.5.0",
      "_view_name": "ProgressView",
      "bar_style": "success",
      "description": "",
      "description_tooltip": null,
      "layout": "IPY_MODEL_8ef66e2572f64cfda5ddc5d806c28287",
      "max": 1000,
      "min": 0,
      "orientation": "horizontal",
      "style": "IPY_MODEL_6158c2b4e82a42efa6abc4c8a4716166",
      "value": 1000
     }
    },
    "83b2276a73684a5ebb95ae5e41221708": {
     "model_module": "@jupyter-widgets/base",
     "model_module_version": "1.2.0",
     "model_name": "LayoutModel",
     "state": {
      "_model_module": "@jupyter-widgets/base",
      "_model_module_version": "1.2.0",
      "_model_name": "LayoutModel",
      "_view_count": null,
      "_view_module": "@jupyter-widgets/base",
      "_view_module_version": "1.2.0",
      "_view_name": "LayoutView",
      "align_content": null,
      "align_items": null,
      "align_self": null,
      "border": null,
      "bottom": null,
      "display": null,
      "flex": null,
      "flex_flow": null,
      "grid_area": null,
      "grid_auto_columns": null,
      "grid_auto_flow": null,
      "grid_auto_rows": null,
      "grid_column": null,
      "grid_gap": null,
      "grid_row": null,
      "grid_template_areas": null,
      "grid_template_columns": null,
      "grid_template_rows": null,
      "height": null,
      "justify_content": null,
      "justify_items": null,
      "left": null,
      "margin": null,
      "max_height": null,
      "max_width": null,
      "min_height": null,
      "min_width": null,
      "object_fit": null,
      "object_position": null,
      "order": null,
      "overflow": null,
      "overflow_x": null,
      "overflow_y": null,
      "padding": null,
      "right": null,
      "top": null,
      "visibility": null,
      "width": null
     }
    },
    "8ce2c3a45c8e4b0a8d49ff95d50f885f": {
     "model_module": "@jupyter-widgets/controls",
     "model_module_version": "1.5.0",
     "model_name": "ProgressStyleModel",
     "state": {
      "_model_module": "@jupyter-widgets/controls",
      "_model_module_version": "1.5.0",
      "_model_name": "ProgressStyleModel",
      "_view_count": null,
      "_view_module": "@jupyter-widgets/base",
      "_view_module_version": "1.2.0",
      "_view_name": "StyleView",
      "bar_color": null,
      "description_width": ""
     }
    },
    "8ef66e2572f64cfda5ddc5d806c28287": {
     "model_module": "@jupyter-widgets/base",
     "model_module_version": "1.2.0",
     "model_name": "LayoutModel",
     "state": {
      "_model_module": "@jupyter-widgets/base",
      "_model_module_version": "1.2.0",
      "_model_name": "LayoutModel",
      "_view_count": null,
      "_view_module": "@jupyter-widgets/base",
      "_view_module_version": "1.2.0",
      "_view_name": "LayoutView",
      "align_content": null,
      "align_items": null,
      "align_self": null,
      "border": null,
      "bottom": null,
      "display": null,
      "flex": null,
      "flex_flow": null,
      "grid_area": null,
      "grid_auto_columns": null,
      "grid_auto_flow": null,
      "grid_auto_rows": null,
      "grid_column": null,
      "grid_gap": null,
      "grid_row": null,
      "grid_template_areas": null,
      "grid_template_columns": null,
      "grid_template_rows": null,
      "height": null,
      "justify_content": null,
      "justify_items": null,
      "left": null,
      "margin": null,
      "max_height": null,
      "max_width": null,
      "min_height": null,
      "min_width": null,
      "object_fit": null,
      "object_position": null,
      "order": null,
      "overflow": null,
      "overflow_x": null,
      "overflow_y": null,
      "padding": null,
      "right": null,
      "top": null,
      "visibility": null,
      "width": null
     }
    },
    "97619092ad234cac957e46125265bb16": {
     "model_module": "@jupyter-widgets/base",
     "model_module_version": "1.2.0",
     "model_name": "LayoutModel",
     "state": {
      "_model_module": "@jupyter-widgets/base",
      "_model_module_version": "1.2.0",
      "_model_name": "LayoutModel",
      "_view_count": null,
      "_view_module": "@jupyter-widgets/base",
      "_view_module_version": "1.2.0",
      "_view_name": "LayoutView",
      "align_content": null,
      "align_items": null,
      "align_self": null,
      "border": null,
      "bottom": null,
      "display": null,
      "flex": null,
      "flex_flow": null,
      "grid_area": null,
      "grid_auto_columns": null,
      "grid_auto_flow": null,
      "grid_auto_rows": null,
      "grid_column": null,
      "grid_gap": null,
      "grid_row": null,
      "grid_template_areas": null,
      "grid_template_columns": null,
      "grid_template_rows": null,
      "height": null,
      "justify_content": null,
      "justify_items": null,
      "left": null,
      "margin": null,
      "max_height": null,
      "max_width": null,
      "min_height": null,
      "min_width": null,
      "object_fit": null,
      "object_position": null,
      "order": null,
      "overflow": null,
      "overflow_x": null,
      "overflow_y": null,
      "padding": null,
      "right": null,
      "top": null,
      "visibility": null,
      "width": null
     }
    },
    "9b2fa2aec3594a9189cc1bfe77a89a5b": {
     "model_module": "@jupyter-widgets/controls",
     "model_module_version": "1.5.0",
     "model_name": "HTMLModel",
     "state": {
      "_dom_classes": [],
      "_model_module": "@jupyter-widgets/controls",
      "_model_module_version": "1.5.0",
      "_model_name": "HTMLModel",
      "_view_count": null,
      "_view_module": "@jupyter-widgets/controls",
      "_view_module_version": "1.5.0",
      "_view_name": "HTMLView",
      "description": "",
      "description_tooltip": null,
      "layout": "IPY_MODEL_c1c4140c3a964b56aaa5b203729a152f",
      "placeholder": "​",
      "style": "IPY_MODEL_9c030a46265845fa9bb69d491e6833f1",
      "value": "pytorch_model.bin: 100%"
     }
    },
    "9c030a46265845fa9bb69d491e6833f1": {
     "model_module": "@jupyter-widgets/controls",
     "model_module_version": "1.5.0",
     "model_name": "DescriptionStyleModel",
     "state": {
      "_model_module": "@jupyter-widgets/controls",
      "_model_module_version": "1.5.0",
      "_model_name": "DescriptionStyleModel",
      "_view_count": null,
      "_view_module": "@jupyter-widgets/base",
      "_view_module_version": "1.2.0",
      "_view_name": "StyleView",
      "description_width": ""
     }
    },
    "9ed59c23625e4eb7b57315688187094f": {
     "model_module": "@jupyter-widgets/controls",
     "model_module_version": "1.5.0",
     "model_name": "HTMLModel",
     "state": {
      "_dom_classes": [],
      "_model_module": "@jupyter-widgets/controls",
      "_model_module_version": "1.5.0",
      "_model_name": "HTMLModel",
      "_view_count": null,
      "_view_module": "@jupyter-widgets/controls",
      "_view_module_version": "1.5.0",
      "_view_name": "HTMLView",
      "description": "",
      "description_tooltip": null,
      "layout": "IPY_MODEL_516f5beb270f4ec48935eb921714f7a7",
      "placeholder": "​",
      "style": "IPY_MODEL_6b60e2c57dee478aa71dfed57aedcb4d",
      "value": "config.json: 100%"
     }
    },
    "a4a1df381cdc49a98f2c5bd5e06388f0": {
     "model_module": "@jupyter-widgets/controls",
     "model_module_version": "1.5.0",
     "model_name": "FloatProgressModel",
     "state": {
      "_dom_classes": [],
      "_model_module": "@jupyter-widgets/controls",
      "_model_module_version": "1.5.0",
      "_model_name": "FloatProgressModel",
      "_view_count": null,
      "_view_module": "@jupyter-widgets/controls",
      "_view_module_version": "1.5.0",
      "_view_name": "ProgressView",
      "bar_style": "success",
      "description": "",
      "description_tooltip": null,
      "layout": "IPY_MODEL_38c479e2fad34e56b3401201ff839dd2",
      "max": 2825034,
      "min": 0,
      "orientation": "horizontal",
      "style": "IPY_MODEL_fae1fc679b6845008fc7bf0ac84682ba",
      "value": 2825034
     }
    },
    "aca13e6af6354768a2f81753c3f6024d": {
     "model_module": "@jupyter-widgets/controls",
     "model_module_version": "1.5.0",
     "model_name": "DescriptionStyleModel",
     "state": {
      "_model_module": "@jupyter-widgets/controls",
      "_model_module_version": "1.5.0",
      "_model_name": "DescriptionStyleModel",
      "_view_count": null,
      "_view_module": "@jupyter-widgets/base",
      "_view_module_version": "1.2.0",
      "_view_name": "StyleView",
      "description_width": ""
     }
    },
    "bdaf92dcc9094b78bbe8a871e5c575b5": {
     "model_module": "@jupyter-widgets/controls",
     "model_module_version": "1.5.0",
     "model_name": "HTMLModel",
     "state": {
      "_dom_classes": [],
      "_model_module": "@jupyter-widgets/controls",
      "_model_module_version": "1.5.0",
      "_model_name": "HTMLModel",
      "_view_count": null,
      "_view_module": "@jupyter-widgets/controls",
      "_view_module_version": "1.5.0",
      "_view_name": "HTMLView",
      "description": "",
      "description_tooltip": null,
      "layout": "IPY_MODEL_0ce0acd299ef476ab889480740a6cc65",
      "placeholder": "​",
      "style": "IPY_MODEL_568564ea26d9487ea7e706c919413611",
      "value": " 513M/513M [00:07&lt;00:00, 82.1MB/s]"
     }
    },
    "c1c4140c3a964b56aaa5b203729a152f": {
     "model_module": "@jupyter-widgets/base",
     "model_module_version": "1.2.0",
     "model_name": "LayoutModel",
     "state": {
      "_model_module": "@jupyter-widgets/base",
      "_model_module_version": "1.2.0",
      "_model_name": "LayoutModel",
      "_view_count": null,
      "_view_module": "@jupyter-widgets/base",
      "_view_module_version": "1.2.0",
      "_view_name": "LayoutView",
      "align_content": null,
      "align_items": null,
      "align_self": null,
      "border": null,
      "bottom": null,
      "display": null,
      "flex": null,
      "flex_flow": null,
      "grid_area": null,
      "grid_auto_columns": null,
      "grid_auto_flow": null,
      "grid_auto_rows": null,
      "grid_column": null,
      "grid_gap": null,
      "grid_row": null,
      "grid_template_areas": null,
      "grid_template_columns": null,
      "grid_template_rows": null,
      "height": null,
      "justify_content": null,
      "justify_items": null,
      "left": null,
      "margin": null,
      "max_height": null,
      "max_width": null,
      "min_height": null,
      "min_width": null,
      "object_fit": null,
      "object_position": null,
      "order": null,
      "overflow": null,
      "overflow_x": null,
      "overflow_y": null,
      "padding": null,
      "right": null,
      "top": null,
      "visibility": null,
      "width": null
     }
    },
    "c7e20d1c29f646c29d099403ca46abd3": {
     "model_module": "@jupyter-widgets/base",
     "model_module_version": "1.2.0",
     "model_name": "LayoutModel",
     "state": {
      "_model_module": "@jupyter-widgets/base",
      "_model_module_version": "1.2.0",
      "_model_name": "LayoutModel",
      "_view_count": null,
      "_view_module": "@jupyter-widgets/base",
      "_view_module_version": "1.2.0",
      "_view_name": "LayoutView",
      "align_content": null,
      "align_items": null,
      "align_self": null,
      "border": null,
      "bottom": null,
      "display": null,
      "flex": null,
      "flex_flow": null,
      "grid_area": null,
      "grid_auto_columns": null,
      "grid_auto_flow": null,
      "grid_auto_rows": null,
      "grid_column": null,
      "grid_gap": null,
      "grid_row": null,
      "grid_template_areas": null,
      "grid_template_columns": null,
      "grid_template_rows": null,
      "height": null,
      "justify_content": null,
      "justify_items": null,
      "left": null,
      "margin": null,
      "max_height": null,
      "max_width": null,
      "min_height": null,
      "min_width": null,
      "object_fit": null,
      "object_position": null,
      "order": null,
      "overflow": null,
      "overflow_x": null,
      "overflow_y": null,
      "padding": null,
      "right": null,
      "top": null,
      "visibility": null,
      "width": null
     }
    },
    "c876f97e27c9479dbd2d1353e3792bfa": {
     "model_module": "@jupyter-widgets/base",
     "model_module_version": "1.2.0",
     "model_name": "LayoutModel",
     "state": {
      "_model_module": "@jupyter-widgets/base",
      "_model_module_version": "1.2.0",
      "_model_name": "LayoutModel",
      "_view_count": null,
      "_view_module": "@jupyter-widgets/base",
      "_view_module_version": "1.2.0",
      "_view_name": "LayoutView",
      "align_content": null,
      "align_items": null,
      "align_self": null,
      "border": null,
      "bottom": null,
      "display": null,
      "flex": null,
      "flex_flow": null,
      "grid_area": null,
      "grid_auto_columns": null,
      "grid_auto_flow": null,
      "grid_auto_rows": null,
      "grid_column": null,
      "grid_gap": null,
      "grid_row": null,
      "grid_template_areas": null,
      "grid_template_columns": null,
      "grid_template_rows": null,
      "height": null,
      "justify_content": null,
      "justify_items": null,
      "left": null,
      "margin": null,
      "max_height": null,
      "max_width": null,
      "min_height": null,
      "min_width": null,
      "object_fit": null,
      "object_position": null,
      "order": null,
      "overflow": null,
      "overflow_x": null,
      "overflow_y": null,
      "padding": null,
      "right": null,
      "top": null,
      "visibility": null,
      "width": null
     }
    },
    "d9821036d15e4d208909e64b33b51284": {
     "model_module": "@jupyter-widgets/controls",
     "model_module_version": "1.5.0",
     "model_name": "HBoxModel",
     "state": {
      "_dom_classes": [],
      "_model_module": "@jupyter-widgets/controls",
      "_model_module_version": "1.5.0",
      "_model_name": "HBoxModel",
      "_view_count": null,
      "_view_module": "@jupyter-widgets/controls",
      "_view_module_version": "1.5.0",
      "_view_name": "HBoxView",
      "box_style": "",
      "children": [
       "IPY_MODEL_9ed59c23625e4eb7b57315688187094f",
       "IPY_MODEL_6d30e31b46d2405fa72a1e15726340ae",
       "IPY_MODEL_453f379e43574a338d044ae921287b87"
      ],
      "layout": "IPY_MODEL_c876f97e27c9479dbd2d1353e3792bfa"
     }
    },
    "e93f183e684b4201aef52273ee247698": {
     "model_module": "@jupyter-widgets/controls",
     "model_module_version": "1.5.0",
     "model_name": "HTMLModel",
     "state": {
      "_dom_classes": [],
      "_model_module": "@jupyter-widgets/controls",
      "_model_module_version": "1.5.0",
      "_model_name": "HTMLModel",
      "_view_count": null,
      "_view_module": "@jupyter-widgets/controls",
      "_view_module_version": "1.5.0",
      "_view_name": "HTMLView",
      "description": "",
      "description_tooltip": null,
      "layout": "IPY_MODEL_4f5d5348c3cc4224a1637854adac8f68",
      "placeholder": "​",
      "style": "IPY_MODEL_aca13e6af6354768a2f81753c3f6024d",
      "value": " 2.83M/2.83M [00:00&lt;00:00, 14.3MB/s]"
     }
    },
    "eaee60fd183f4fee90db46157ef32ceb": {
     "model_module": "@jupyter-widgets/controls",
     "model_module_version": "1.5.0",
     "model_name": "HTMLModel",
     "state": {
      "_dom_classes": [],
      "_model_module": "@jupyter-widgets/controls",
      "_model_module_version": "1.5.0",
      "_model_name": "HTMLModel",
      "_view_count": null,
      "_view_module": "@jupyter-widgets/controls",
      "_view_module_version": "1.5.0",
      "_view_name": "HTMLView",
      "description": "",
      "description_tooltip": null,
      "layout": "IPY_MODEL_c7e20d1c29f646c29d099403ca46abd3",
      "placeholder": "​",
      "style": "IPY_MODEL_026d1f3d5f9f4f63bd3c6d0f910f6260",
      "value": "tokenizer.json: 100%"
     }
    },
    "fae1fc679b6845008fc7bf0ac84682ba": {
     "model_module": "@jupyter-widgets/controls",
     "model_module_version": "1.5.0",
     "model_name": "ProgressStyleModel",
     "state": {
      "_model_module": "@jupyter-widgets/controls",
      "_model_module_version": "1.5.0",
      "_model_name": "ProgressStyleModel",
      "_view_count": null,
      "_view_module": "@jupyter-widgets/base",
      "_view_module_version": "1.2.0",
      "_view_name": "StyleView",
      "bar_color": null,
      "description_width": ""
     }
    }
   }
  }
 },
 "nbformat": 4,
 "nbformat_minor": 5
}
