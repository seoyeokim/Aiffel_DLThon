{
 "cells": [
  {
   "cell_type": "code",
   "execution_count": 1,
   "id": "5fa94372",
   "metadata": {
    "colab": {
     "base_uri": "https://localhost:8080/",
     "height": 1000
    },
    "id": "4f4b5653",
    "outputId": "e6bfb3d5-bb5d-43b2-823c-4effcc630647",
    "scrolled": true
   },
   "outputs": [
    {
     "name": "stdout",
     "output_type": "stream",
     "text": [
      "Requirement already satisfied: transformers in /opt/conda/lib/python3.9/site-packages (4.11.3)\n",
      "Requirement already satisfied: requests in /opt/conda/lib/python3.9/site-packages (from transformers) (2.26.0)\n",
      "Requirement already satisfied: regex!=2019.12.17 in /opt/conda/lib/python3.9/site-packages (from transformers) (2021.11.10)\n",
      "Requirement already satisfied: packaging>=20.0 in /opt/conda/lib/python3.9/site-packages (from transformers) (21.3)\n",
      "Requirement already satisfied: numpy>=1.17 in /opt/conda/lib/python3.9/site-packages (from transformers) (1.21.4)\n",
      "Requirement already satisfied: tokenizers<0.11,>=0.10.1 in /opt/conda/lib/python3.9/site-packages (from transformers) (0.10.3)\n",
      "Requirement already satisfied: tqdm>=4.27 in /opt/conda/lib/python3.9/site-packages (from transformers) (4.62.3)\n",
      "Requirement already satisfied: filelock in /opt/conda/lib/python3.9/site-packages (from transformers) (3.4.0)\n",
      "Requirement already satisfied: sacremoses in /opt/conda/lib/python3.9/site-packages (from transformers) (0.0.46)\n",
      "Requirement already satisfied: huggingface-hub>=0.0.17 in /opt/conda/lib/python3.9/site-packages (from transformers) (0.0.19)\n",
      "Requirement already satisfied: pyyaml>=5.1 in /opt/conda/lib/python3.9/site-packages (from transformers) (6.0)\n",
      "Requirement already satisfied: typing-extensions in /opt/conda/lib/python3.9/site-packages (from huggingface-hub>=0.0.17->transformers) (4.0.1)\n",
      "Requirement already satisfied: pyparsing!=3.0.5,>=2.0.2 in /opt/conda/lib/python3.9/site-packages (from packaging>=20.0->transformers) (3.0.6)\n",
      "Requirement already satisfied: urllib3<1.27,>=1.21.1 in /opt/conda/lib/python3.9/site-packages (from requests->transformers) (1.26.7)\n",
      "Requirement already satisfied: charset-normalizer~=2.0.0 in /opt/conda/lib/python3.9/site-packages (from requests->transformers) (2.0.8)\n",
      "Requirement already satisfied: certifi>=2017.4.17 in /opt/conda/lib/python3.9/site-packages (from requests->transformers) (2021.10.8)\n",
      "Requirement already satisfied: idna<4,>=2.5 in /opt/conda/lib/python3.9/site-packages (from requests->transformers) (2.10)\n",
      "Requirement already satisfied: joblib in /opt/conda/lib/python3.9/site-packages (from sacremoses->transformers) (1.1.0)\n",
      "Requirement already satisfied: six in /opt/conda/lib/python3.9/site-packages (from sacremoses->transformers) (1.16.0)\n",
      "Requirement already satisfied: click in /opt/conda/lib/python3.9/site-packages (from sacremoses->transformers) (8.0.3)\n",
      "\u001b[33mWARNING: Running pip as the 'root' user can result in broken permissions and conflicting behaviour with the system package manager. It is recommended to use a virtual environment instead: https://pip.pypa.io/warnings/venv\u001b[0m\n"
     ]
    }
   ],
   "source": [
    "! pip install transformers\n",
    "# ! pip install transformers<4.38\n",
    "# ! pip install tensorflow==2.11.0 keras==2.11.0"
   ]
  },
  {
   "cell_type": "code",
   "execution_count": 2,
   "id": "07c2aa55",
   "metadata": {},
   "outputs": [
    {
     "name": "stdout",
     "output_type": "stream",
     "text": [
      "Requirement already satisfied: requests in /opt/conda/lib/python3.9/site-packages (2.26.0)\n",
      "\u001b[31mERROR: Could not find a version that satisfies the requirement zipfile (from versions: none)\u001b[0m\n",
      "\u001b[31mERROR: No matching distribution found for zipfile\u001b[0m\n"
     ]
    }
   ],
   "source": [
    "! pip install requests zipfile"
   ]
  },
  {
   "cell_type": "code",
   "execution_count": 22,
   "id": "8aa994bb",
   "metadata": {
    "id": "342662f7"
   },
   "outputs": [],
   "source": [
    "import os\n",
    "import re\n",
    "import json\n",
    "import random\n",
    "import zipfile\n",
    "import requests\n",
    "import numpy as np\n",
    "import pandas as pd\n",
    "import urllib.request\n",
    "from tqdm import tqdm\n",
    "import tensorflow as tf\n",
    "from bs4 import BeautifulSoup\n",
    "import matplotlib.pyplot as plt\n",
    "from sklearn import preprocessing\n",
    "from tensorflow.keras.optimizers import Adam\n",
    "from sklearn.model_selection import train_test_split\n",
    "from transformers import AutoTokenizer, TFGPT2Model, TFAutoModel\n",
    "from tensorflow.keras.preprocessing.sequence import pad_sequences\n",
    "from tensorflow.keras.callbacks import EarlyStopping, ModelCheckpoint"
   ]
  },
  {
   "cell_type": "code",
   "execution_count": 40,
   "id": "915ebfb5",
   "metadata": {},
   "outputs": [],
   "source": [
    "def data_import(data_name):\n",
    "    data_path = os.getenv('HOME')+'/aiffel/project_data/dlthon/'+data_name\n",
    "    imported_data = pd.read_csv(data_path)\n",
    "    return imported_data\n",
    "\n",
    "def convert_label(data):\n",
    "    label_map = {'협박 대화': 0, '갈취 대화': 1, '직장 내 괴롭힘 대화': 2, '기타 괴롭힘 대화': 3, '일반 대화': 4}\n",
    "    \n",
    "    data['class'] = data['class'].map(label_map)\n",
    "    return data"
   ]
  },
  {
   "cell_type": "code",
   "execution_count": 10,
   "id": "833680ff",
   "metadata": {},
   "outputs": [],
   "source": [
    "violent_data = data_import('train_arg.csv')\n",
    "violent_data = violent_data.drop('idx', axis=1)\n",
    "aug_data_a = violent_data[violent_data['data_type'] == '증강 데이터'].drop('data_type', axis=1)\n",
    "train_data = violent_data[violent_data['data_type'] == '원본 데이터'].drop('data_type', axis=1)\n",
    "nomal_data = data_import('preprocessed_train_raw.csv')\n",
    "nomal_data = nomal_data[nomal_data['class'] == 4]\n",
    "nomal_data['class'] = nomal_data['class'].map({4 : '일반 대화'})\n",
    "nomal_data = nomal_data.sample(20000)\n",
    "nomal_data = nomal_data.drop('Unnamed: 0', axis=1)\n",
    "nomal_data = nomal_data[['class', 'conversation']]"
   ]
  },
  {
   "cell_type": "code",
   "execution_count": 11,
   "id": "0c07d96e",
   "metadata": {},
   "outputs": [
    {
     "data": {
      "text/html": [
       "<div>\n",
       "<style scoped>\n",
       "    .dataframe tbody tr th:only-of-type {\n",
       "        vertical-align: middle;\n",
       "    }\n",
       "\n",
       "    .dataframe tbody tr th {\n",
       "        vertical-align: top;\n",
       "    }\n",
       "\n",
       "    .dataframe thead th {\n",
       "        text-align: right;\n",
       "    }\n",
       "</style>\n",
       "<table border=\"1\" class=\"dataframe\">\n",
       "  <thead>\n",
       "    <tr style=\"text-align: right;\">\n",
       "      <th></th>\n",
       "      <th>class</th>\n",
       "      <th>conversation</th>\n",
       "      <th>data_type</th>\n",
       "    </tr>\n",
       "  </thead>\n",
       "  <tbody>\n",
       "    <tr>\n",
       "      <th>0</th>\n",
       "      <td>협박 대화</td>\n",
       "      <td>지금 너 스스로를 죽여달라고 애원하는 것인가?\\n 아닙니다. 죄송합니다.\\n 죽을 ...</td>\n",
       "      <td>원본 데이터</td>\n",
       "    </tr>\n",
       "    <tr>\n",
       "      <th>1</th>\n",
       "      <td>협박 대화</td>\n",
       "      <td>길동경찰서입니다.\\n9시 40분 마트에 폭발물을 설치할거다.\\n네?\\n똑바로 들어 ...</td>\n",
       "      <td>원본 데이터</td>\n",
       "    </tr>\n",
       "    <tr>\n",
       "      <th>2</th>\n",
       "      <td>기타 괴롭힘 대화</td>\n",
       "      <td>너 되게 귀여운거 알지? 나보다 작은 남자는 첨봤어.\\n그만해. 니들 놀리는거 재미...</td>\n",
       "      <td>원본 데이터</td>\n",
       "    </tr>\n",
       "    <tr>\n",
       "      <th>3</th>\n",
       "      <td>갈취 대화</td>\n",
       "      <td>어이 거기\\n예??\\n너 말이야 너. 이리 오라고\\n무슨 일.\\n너 옷 좋아보인다?...</td>\n",
       "      <td>원본 데이터</td>\n",
       "    </tr>\n",
       "    <tr>\n",
       "      <th>4</th>\n",
       "      <td>갈취 대화</td>\n",
       "      <td>저기요 혹시 날이 너무 뜨겁잖아요? 저희 회사에서 이 선크림 파는데 한 번 손등에 ...</td>\n",
       "      <td>원본 데이터</td>\n",
       "    </tr>\n",
       "    <tr>\n",
       "      <th>...</th>\n",
       "      <td>...</td>\n",
       "      <td>...</td>\n",
       "      <td>...</td>\n",
       "    </tr>\n",
       "    <tr>\n",
       "      <th>11825</th>\n",
       "      <td>직장 내 괴롭힘 대화</td>\n",
       "      <td>씨\\n네 과장님!\\n연차를 쓸거면 육하원칙에\\n예?\\n언제 몰라요? 어디서 써야할거...</td>\n",
       "      <td>증강 데이터</td>\n",
       "    </tr>\n",
       "    <tr>\n",
       "      <th>11826</th>\n",
       "      <td>직장 내 괴롭힘 대화</td>\n",
       "      <td>했어? 정희씨 시킨 내가\\n아니요 잠시 일좀\\n무슨일?\\n부탁해서요 기획팀에서 확인...</td>\n",
       "      <td>증강 데이터</td>\n",
       "    </tr>\n",
       "    <tr>\n",
       "      <th>11827</th>\n",
       "      <td>직장 내 괴롭힘 대화</td>\n",
       "      <td>있어요? 내일에 지연씨 약속\\n없습니다.\\n잘됐네. 연차 나랑 내일\\n때 다녀올 생...</td>\n",
       "      <td>증강 데이터</td>\n",
       "    </tr>\n",
       "    <tr>\n",
       "      <th>11828</th>\n",
       "      <td>직장 내 괴롭힘 대화</td>\n",
       "      <td>놀러왓냐 하사원 여기\\n아닙니다\\n이것밖에 못햇냐\\n죄송해요\\n월급만 축내네 진짜\\...</td>\n",
       "      <td>증강 데이터</td>\n",
       "    </tr>\n",
       "    <tr>\n",
       "      <th>11829</th>\n",
       "      <td>직장 내 괴롭힘 대화</td>\n",
       "      <td>나씨\\n아닌데 저만 저만 싫습니다. 것도\\n나씨가 유일한 저희 부서\\n아니고 일꾼 ...</td>\n",
       "      <td>증강 데이터</td>\n",
       "    </tr>\n",
       "  </tbody>\n",
       "</table>\n",
       "<p>11830 rows × 3 columns</p>\n",
       "</div>"
      ],
      "text/plain": [
       "             class                                       conversation  \\\n",
       "0            협박 대화  지금 너 스스로를 죽여달라고 애원하는 것인가?\\n 아닙니다. 죄송합니다.\\n 죽을 ...   \n",
       "1            협박 대화  길동경찰서입니다.\\n9시 40분 마트에 폭발물을 설치할거다.\\n네?\\n똑바로 들어 ...   \n",
       "2        기타 괴롭힘 대화  너 되게 귀여운거 알지? 나보다 작은 남자는 첨봤어.\\n그만해. 니들 놀리는거 재미...   \n",
       "3            갈취 대화  어이 거기\\n예??\\n너 말이야 너. 이리 오라고\\n무슨 일.\\n너 옷 좋아보인다?...   \n",
       "4            갈취 대화  저기요 혹시 날이 너무 뜨겁잖아요? 저희 회사에서 이 선크림 파는데 한 번 손등에 ...   \n",
       "...            ...                                                ...   \n",
       "11825  직장 내 괴롭힘 대화  씨\\n네 과장님!\\n연차를 쓸거면 육하원칙에\\n예?\\n언제 몰라요? 어디서 써야할거...   \n",
       "11826  직장 내 괴롭힘 대화  했어? 정희씨 시킨 내가\\n아니요 잠시 일좀\\n무슨일?\\n부탁해서요 기획팀에서 확인...   \n",
       "11827  직장 내 괴롭힘 대화  있어요? 내일에 지연씨 약속\\n없습니다.\\n잘됐네. 연차 나랑 내일\\n때 다녀올 생...   \n",
       "11828  직장 내 괴롭힘 대화  놀러왓냐 하사원 여기\\n아닙니다\\n이것밖에 못햇냐\\n죄송해요\\n월급만 축내네 진짜\\...   \n",
       "11829  직장 내 괴롭힘 대화  나씨\\n아닌데 저만 저만 싫습니다. 것도\\n나씨가 유일한 저희 부서\\n아니고 일꾼 ...   \n",
       "\n",
       "      data_type  \n",
       "0        원본 데이터  \n",
       "1        원본 데이터  \n",
       "2        원본 데이터  \n",
       "3        원본 데이터  \n",
       "4        원본 데이터  \n",
       "...         ...  \n",
       "11825    증강 데이터  \n",
       "11826    증강 데이터  \n",
       "11827    증강 데이터  \n",
       "11828    증강 데이터  \n",
       "11829    증강 데이터  \n",
       "\n",
       "[11830 rows x 3 columns]"
      ]
     },
     "execution_count": 11,
     "metadata": {},
     "output_type": "execute_result"
    }
   ],
   "source": [
    "violent_data"
   ]
  },
  {
   "cell_type": "code",
   "execution_count": 12,
   "id": "10d73748",
   "metadata": {},
   "outputs": [
    {
     "data": {
      "text/html": [
       "<div>\n",
       "<style scoped>\n",
       "    .dataframe tbody tr th:only-of-type {\n",
       "        vertical-align: middle;\n",
       "    }\n",
       "\n",
       "    .dataframe tbody tr th {\n",
       "        vertical-align: top;\n",
       "    }\n",
       "\n",
       "    .dataframe thead th {\n",
       "        text-align: right;\n",
       "    }\n",
       "</style>\n",
       "<table border=\"1\" class=\"dataframe\">\n",
       "  <thead>\n",
       "    <tr style=\"text-align: right;\">\n",
       "      <th></th>\n",
       "      <th>class</th>\n",
       "      <th>conversation</th>\n",
       "    </tr>\n",
       "  </thead>\n",
       "  <tbody>\n",
       "    <tr>\n",
       "      <th>3950</th>\n",
       "      <td>협박 대화</td>\n",
       "      <td>스스로를 너 지금 애원하는 죽여달라고 것인가?\\n아닙니다. 죄송합니다.\\n죽을 거면...</td>\n",
       "    </tr>\n",
       "    <tr>\n",
       "      <th>3951</th>\n",
       "      <td>협박 대화</td>\n",
       "      <td>길동경찰서입니다.\\n설치할거다. 40분 폭발물을 마트에 9시\\n네?\\n똑바로 들어 ...</td>\n",
       "    </tr>\n",
       "    <tr>\n",
       "      <th>3952</th>\n",
       "      <td>기타 괴롭힘 대화</td>\n",
       "      <td>남자는 되게 나보다 알지? 귀여운거 작은 너 첨봤어.\\n놀리는거 니들 재미없어. 그...</td>\n",
       "    </tr>\n",
       "    <tr>\n",
       "      <th>3953</th>\n",
       "      <td>갈취 대화</td>\n",
       "      <td>어이 거기\\n예??\\n너 이리 말이야 너. 오라고\\n무슨 일.\\n옷 좋아보인다? 너...</td>\n",
       "    </tr>\n",
       "    <tr>\n",
       "      <th>3954</th>\n",
       "      <td>갈취 대화</td>\n",
       "      <td>저기요 혹시 날이 너무 뜨겁잖아요? 파는데 회사에서 이 선크림 저희 손등에 번 한 ...</td>\n",
       "    </tr>\n",
       "    <tr>\n",
       "      <th>...</th>\n",
       "      <td>...</td>\n",
       "      <td>...</td>\n",
       "    </tr>\n",
       "    <tr>\n",
       "      <th>11825</th>\n",
       "      <td>직장 내 괴롭힘 대화</td>\n",
       "      <td>씨\\n네 과장님!\\n연차를 쓸거면 육하원칙에\\n예?\\n언제 몰라요? 어디서 써야할거...</td>\n",
       "    </tr>\n",
       "    <tr>\n",
       "      <th>11826</th>\n",
       "      <td>직장 내 괴롭힘 대화</td>\n",
       "      <td>했어? 정희씨 시킨 내가\\n아니요 잠시 일좀\\n무슨일?\\n부탁해서요 기획팀에서 확인...</td>\n",
       "    </tr>\n",
       "    <tr>\n",
       "      <th>11827</th>\n",
       "      <td>직장 내 괴롭힘 대화</td>\n",
       "      <td>있어요? 내일에 지연씨 약속\\n없습니다.\\n잘됐네. 연차 나랑 내일\\n때 다녀올 생...</td>\n",
       "    </tr>\n",
       "    <tr>\n",
       "      <th>11828</th>\n",
       "      <td>직장 내 괴롭힘 대화</td>\n",
       "      <td>놀러왓냐 하사원 여기\\n아닙니다\\n이것밖에 못햇냐\\n죄송해요\\n월급만 축내네 진짜\\...</td>\n",
       "    </tr>\n",
       "    <tr>\n",
       "      <th>11829</th>\n",
       "      <td>직장 내 괴롭힘 대화</td>\n",
       "      <td>나씨\\n아닌데 저만 저만 싫습니다. 것도\\n나씨가 유일한 저희 부서\\n아니고 일꾼 ...</td>\n",
       "    </tr>\n",
       "  </tbody>\n",
       "</table>\n",
       "<p>7880 rows × 2 columns</p>\n",
       "</div>"
      ],
      "text/plain": [
       "             class                                       conversation\n",
       "3950         협박 대화  스스로를 너 지금 애원하는 죽여달라고 것인가?\\n아닙니다. 죄송합니다.\\n죽을 거면...\n",
       "3951         협박 대화  길동경찰서입니다.\\n설치할거다. 40분 폭발물을 마트에 9시\\n네?\\n똑바로 들어 ...\n",
       "3952     기타 괴롭힘 대화  남자는 되게 나보다 알지? 귀여운거 작은 너 첨봤어.\\n놀리는거 니들 재미없어. 그...\n",
       "3953         갈취 대화  어이 거기\\n예??\\n너 이리 말이야 너. 오라고\\n무슨 일.\\n옷 좋아보인다? 너...\n",
       "3954         갈취 대화  저기요 혹시 날이 너무 뜨겁잖아요? 파는데 회사에서 이 선크림 저희 손등에 번 한 ...\n",
       "...            ...                                                ...\n",
       "11825  직장 내 괴롭힘 대화  씨\\n네 과장님!\\n연차를 쓸거면 육하원칙에\\n예?\\n언제 몰라요? 어디서 써야할거...\n",
       "11826  직장 내 괴롭힘 대화  했어? 정희씨 시킨 내가\\n아니요 잠시 일좀\\n무슨일?\\n부탁해서요 기획팀에서 확인...\n",
       "11827  직장 내 괴롭힘 대화  있어요? 내일에 지연씨 약속\\n없습니다.\\n잘됐네. 연차 나랑 내일\\n때 다녀올 생...\n",
       "11828  직장 내 괴롭힘 대화  놀러왓냐 하사원 여기\\n아닙니다\\n이것밖에 못햇냐\\n죄송해요\\n월급만 축내네 진짜\\...\n",
       "11829  직장 내 괴롭힘 대화  나씨\\n아닌데 저만 저만 싫습니다. 것도\\n나씨가 유일한 저희 부서\\n아니고 일꾼 ...\n",
       "\n",
       "[7880 rows x 2 columns]"
      ]
     },
     "execution_count": 12,
     "metadata": {},
     "output_type": "execute_result"
    }
   ],
   "source": [
    "aug_data_a"
   ]
  },
  {
   "cell_type": "code",
   "execution_count": 13,
   "id": "d9630070",
   "metadata": {},
   "outputs": [
    {
     "data": {
      "text/html": [
       "<div>\n",
       "<style scoped>\n",
       "    .dataframe tbody tr th:only-of-type {\n",
       "        vertical-align: middle;\n",
       "    }\n",
       "\n",
       "    .dataframe tbody tr th {\n",
       "        vertical-align: top;\n",
       "    }\n",
       "\n",
       "    .dataframe thead th {\n",
       "        text-align: right;\n",
       "    }\n",
       "</style>\n",
       "<table border=\"1\" class=\"dataframe\">\n",
       "  <thead>\n",
       "    <tr style=\"text-align: right;\">\n",
       "      <th></th>\n",
       "      <th>class</th>\n",
       "      <th>conversation</th>\n",
       "    </tr>\n",
       "  </thead>\n",
       "  <tbody>\n",
       "    <tr>\n",
       "      <th>43848</th>\n",
       "      <td>일반 대화</td>\n",
       "      <td>남편이랑 몇십 년을 살았더니 이제 더 못하겠어. 이혼 결심했는데 한편으론 허탈하고 ...</td>\n",
       "    </tr>\n",
       "    <tr>\n",
       "      <th>33600</th>\n",
       "      <td>일반 대화</td>\n",
       "      <td>너희 온라인 강의로 교육 들어본 거 있어?\\n  나 고등학생 때가 마지막인 거 ...</td>\n",
       "    </tr>\n",
       "    <tr>\n",
       "      <th>42996</th>\n",
       "      <td>일반 대화</td>\n",
       "      <td>이번에 또 임신에 실패했어. 열 번째인데 너무 지쳐.\\n임신이 어렵다 보니 마음이 ...</td>\n",
       "    </tr>\n",
       "    <tr>\n",
       "      <th>32215</th>\n",
       "      <td>일반 대화</td>\n",
       "      <td>학교에서 따돌림을 당하는 딸을 볼 때 마다 속상하고 마음이 아파.\\n딸이 따돌림을 ...</td>\n",
       "    </tr>\n",
       "    <tr>\n",
       "      <th>4162</th>\n",
       "      <td>일반 대화</td>\n",
       "      <td>나 그냥 부모님 뜻대로 대학 가려고.\\n대학진학을 계획하시나 봐요.\\n응. 난 창업...</td>\n",
       "    </tr>\n",
       "    <tr>\n",
       "      <th>...</th>\n",
       "      <td>...</td>\n",
       "      <td>...</td>\n",
       "    </tr>\n",
       "    <tr>\n",
       "      <th>43787</th>\n",
       "      <td>일반 대화</td>\n",
       "      <td>내 학력이 위조되었단 사실이 밝혀지고 내 명예가 바닥으로 떨어졌어.\\n안 좋은 일을...</td>\n",
       "    </tr>\n",
       "    <tr>\n",
       "      <th>54112</th>\n",
       "      <td>일반 대화</td>\n",
       "      <td>우리 어머니한테 옛날에 받은 밍크 코트 있는데 베스트 조끼로 줄일 수 있는 방법이 ...</td>\n",
       "    </tr>\n",
       "    <tr>\n",
       "      <th>21994</th>\n",
       "      <td>일반 대화</td>\n",
       "      <td>벌써 마흔이 넘었는데 노후준비를 안해서 걱정스러워.\\n노후준비를 안하셔서 걱정스럽군...</td>\n",
       "    </tr>\n",
       "    <tr>\n",
       "      <th>331</th>\n",
       "      <td>일반 대화</td>\n",
       "      <td>이번에 실직을 했는데 가족들한테 말하기 힘들어서 말을 안 했는데 아침을 차려줘서 너...</td>\n",
       "    </tr>\n",
       "    <tr>\n",
       "      <th>62309</th>\n",
       "      <td>일반 대화</td>\n",
       "      <td>부모님이 돌아가시고 나니 더 챙기지 못한 게 한스럽고 후회된다.\\n부모님 생각에 많...</td>\n",
       "    </tr>\n",
       "  </tbody>\n",
       "</table>\n",
       "<p>20000 rows × 2 columns</p>\n",
       "</div>"
      ],
      "text/plain": [
       "       class                                       conversation\n",
       "43848  일반 대화  남편이랑 몇십 년을 살았더니 이제 더 못하겠어. 이혼 결심했는데 한편으론 허탈하고 ...\n",
       "33600  일반 대화    너희 온라인 강의로 교육 들어본 거 있어?\\n  나 고등학생 때가 마지막인 거 ...\n",
       "42996  일반 대화  이번에 또 임신에 실패했어. 열 번째인데 너무 지쳐.\\n임신이 어렵다 보니 마음이 ...\n",
       "32215  일반 대화  학교에서 따돌림을 당하는 딸을 볼 때 마다 속상하고 마음이 아파.\\n딸이 따돌림을 ...\n",
       "4162   일반 대화  나 그냥 부모님 뜻대로 대학 가려고.\\n대학진학을 계획하시나 봐요.\\n응. 난 창업...\n",
       "...      ...                                                ...\n",
       "43787  일반 대화  내 학력이 위조되었단 사실이 밝혀지고 내 명예가 바닥으로 떨어졌어.\\n안 좋은 일을...\n",
       "54112  일반 대화  우리 어머니한테 옛날에 받은 밍크 코트 있는데 베스트 조끼로 줄일 수 있는 방법이 ...\n",
       "21994  일반 대화  벌써 마흔이 넘었는데 노후준비를 안해서 걱정스러워.\\n노후준비를 안하셔서 걱정스럽군...\n",
       "331    일반 대화  이번에 실직을 했는데 가족들한테 말하기 힘들어서 말을 안 했는데 아침을 차려줘서 너...\n",
       "62309  일반 대화  부모님이 돌아가시고 나니 더 챙기지 못한 게 한스럽고 후회된다.\\n부모님 생각에 많...\n",
       "\n",
       "[20000 rows x 2 columns]"
      ]
     },
     "execution_count": 13,
     "metadata": {},
     "output_type": "execute_result"
    }
   ],
   "source": [
    "nomal_data"
   ]
  },
  {
   "cell_type": "code",
   "execution_count": 146,
   "id": "991cfc13",
   "metadata": {},
   "outputs": [],
   "source": [
    "train_data = pd.concat([violent_data, aug_data_a, nomal_data])"
   ]
  },
  {
   "cell_type": "code",
   "execution_count": 147,
   "id": "1a9a3ce7",
   "metadata": {},
   "outputs": [],
   "source": [
    "train_data = train_data.sample(frac=1).reset_index(drop=True)"
   ]
  },
  {
   "cell_type": "code",
   "execution_count": 148,
   "id": "7776a7ca",
   "metadata": {},
   "outputs": [],
   "source": [
    "train_data = convert_label(train_data)"
   ]
  },
  {
   "cell_type": "code",
   "execution_count": 149,
   "id": "7f746759",
   "metadata": {},
   "outputs": [],
   "source": [
    "test_data = data_import('divided_test_data.csv')"
   ]
  },
  {
   "cell_type": "code",
   "execution_count": 150,
   "id": "8997a671",
   "metadata": {
    "id": "6393fb3e"
   },
   "outputs": [],
   "source": [
    "train_texts = train_data[\"conversation\"].to_list() # Features (not-tokenized yet)\n",
    "train_labels = train_data[\"class\"].to_list() # Labels"
   ]
  },
  {
   "cell_type": "code",
   "execution_count": 151,
   "id": "823bd789",
   "metadata": {
    "id": "abccad35"
   },
   "outputs": [],
   "source": [
    "train_texts, val_texts, train_labels, val_labels = train_test_split(train_texts, train_labels, test_size=0.2, random_state=0)"
   ]
  },
  {
   "cell_type": "code",
   "execution_count": 154,
   "id": "1e1e3155",
   "metadata": {},
   "outputs": [],
   "source": [
    "train_labels = np.array(train_labels)\n",
    "val_labels = np.array(val_labels)"
   ]
  },
  {
   "cell_type": "markdown",
   "id": "110a4ab9",
   "metadata": {
    "id": "d9574a7b"
   },
   "source": [
    "### 토크나이저 다운로드"
   ]
  },
  {
   "cell_type": "code",
   "execution_count": 78,
   "id": "62ae66d0",
   "metadata": {
    "colab": {
     "base_uri": "https://localhost:8080/",
     "height": 185,
     "referenced_widgets": [
      "d9821036d15e4d208909e64b33b51284",
      "9ed59c23625e4eb7b57315688187094f",
      "6d30e31b46d2405fa72a1e15726340ae",
      "453f379e43574a338d044ae921287b87",
      "c876f97e27c9479dbd2d1353e3792bfa",
      "516f5beb270f4ec48935eb921714f7a7",
      "6b60e2c57dee478aa71dfed57aedcb4d",
      "8ef66e2572f64cfda5ddc5d806c28287",
      "6158c2b4e82a42efa6abc4c8a4716166",
      "97619092ad234cac957e46125265bb16",
      "167f6baa2d3342789a331280d1b16ce8",
      "55680bc1ec7b4fc58642839de4705093",
      "eaee60fd183f4fee90db46157ef32ceb",
      "a4a1df381cdc49a98f2c5bd5e06388f0",
      "e93f183e684b4201aef52273ee247698",
      "83b2276a73684a5ebb95ae5e41221708",
      "c7e20d1c29f646c29d099403ca46abd3",
      "026d1f3d5f9f4f63bd3c6d0f910f6260",
      "38c479e2fad34e56b3401201ff839dd2",
      "fae1fc679b6845008fc7bf0ac84682ba",
      "4f5d5348c3cc4224a1637854adac8f68",
      "aca13e6af6354768a2f81753c3f6024d"
     ]
    },
    "id": "1ed8a7b5",
    "outputId": "2079ab50-bcc4-4326-96f3-c28e6a59924d"
   },
   "outputs": [
    {
     "name": "stderr",
     "output_type": "stream",
     "text": [
      "Special tokens have been added in the vocabulary, make sure the associated word embeddings are fine-tuned or trained.\n"
     ]
    }
   ],
   "source": [
    "tokenizer = AutoTokenizer.from_pretrained('skt/kogpt2-base-v2', bos_token='<s>', eos_token='</s>', pad_token='<pad>')"
   ]
  },
  {
   "cell_type": "code",
   "execution_count": 80,
   "id": "5e710b40",
   "metadata": {},
   "outputs": [],
   "source": [
    "def convert_examples_to_features2(sent_list, max_seq_len, tokenizer):\n",
    "    input_ids = []\n",
    "\n",
    "    for conversation in tqdm(sent_list, total=len(sent_list)):\n",
    "        bos_token = [tokenizer.bos_token]\n",
    "        eos_token = [tokenizer.eos_token]\n",
    "        \n",
    "        sentences = conversation.split(\"\\n\")\n",
    "\n",
    "        tokens = [] \n",
    "\n",
    "        for i, sentence in enumerate(sentences):\n",
    "            sentence_tokens = bos_token + tokenizer.tokenize(sentence) + eos_token\n",
    "            tokens += sentence_tokens\n",
    "        \n",
    "        # 정수 인코딩\n",
    "        input_id = tokenizer.convert_tokens_to_ids(tokens)\n",
    "        # 패딩 추가\n",
    "        input_id = pad_sequences([input_id], maxlen=max_seq_len, value=tokenizer.pad_token_id, padding='post')[0]\n",
    "\n",
    "        # 길이 확인\n",
    "        assert len(input_id) == max_seq_len, f\"Error with input length {len(input_id)} vs {max_seq_len}\"\n",
    "        \n",
    "        # 결과 저장\n",
    "        input_ids.append(input_id)\n",
    "        \n",
    "    input_ids = np.array(input_ids, dtype=int)\n",
    "    \n",
    "    return input_ids"
   ]
  },
  {
   "cell_type": "code",
   "execution_count": 81,
   "id": "b8fa2380",
   "metadata": {},
   "outputs": [
    {
     "name": "stdout",
     "output_type": "stream",
     "text": [
      "문장길이 평균 :  192.78720725258123\n",
      "문장길이 최대 :  874\n",
      "문장길이 표준편차 :  77.41978397948405\n",
      "pad_sequences maxlen :  347\n",
      "전체 문장의 0.9599282296650717%가 maxlen 설정값 이내에 포함됩니다. \n"
     ]
    }
   ],
   "source": [
    "total_data_text = list(train_texts)\n",
    "num_tokens = [len(tokens) for tokens in total_data_text]\n",
    "num_tokens = np.array(num_tokens)\n",
    "print('문장길이 평균 : ', np.mean(num_tokens))\n",
    "print('문장길이 최대 : ', np.max(num_tokens))\n",
    "print('문장길이 표준편차 : ', np.std(num_tokens))\n",
    " \n",
    "max_tokens = np.mean(num_tokens) + 2 * np.std(num_tokens)\n",
    "maxlen = int(max_tokens)\n",
    "print('pad_sequences maxlen : ', maxlen)\n",
    "print(f'전체 문장의 {np.sum(num_tokens < max_tokens) / len(num_tokens)}%가 maxlen 설정값 이내에 포함됩니다. ')"
   ]
  },
  {
   "cell_type": "code",
   "execution_count": 152,
   "id": "cc6a3f01",
   "metadata": {
    "colab": {
     "base_uri": "https://localhost:8080/"
    },
    "id": "2627ad09",
    "outputId": "65f17fcc-7614-47f2-b85b-1587dd1e69f8"
   },
   "outputs": [
    {
     "name": "stderr",
     "output_type": "stream",
     "text": [
      "100%|██████████| 31768/31768 [00:25<00:00, 1231.44it/s]\n"
     ]
    }
   ],
   "source": [
    "max_seq_len = 300\n",
    "\n",
    "# 학습데이터 전처리\n",
    "X_train = convert_examples_to_features2(train_texts, max_seq_len=max_seq_len, tokenizer=tokenizer)"
   ]
  },
  {
   "cell_type": "code",
   "execution_count": 153,
   "id": "d50014ff",
   "metadata": {
    "colab": {
     "base_uri": "https://localhost:8080/"
    },
    "id": "03e95bfe",
    "outputId": "ac458140-0364-436b-e72f-ddda97e347b8"
   },
   "outputs": [
    {
     "name": "stderr",
     "output_type": "stream",
     "text": [
      "100%|██████████| 7942/7942 [00:06<00:00, 1229.53it/s]\n"
     ]
    }
   ],
   "source": [
    "# 검증데이터 전처리\n",
    "\n",
    "X_val = convert_examples_to_features2(val_texts, max_seq_len=max_seq_len, tokenizer=tokenizer)"
   ]
  },
  {
   "cell_type": "code",
   "execution_count": 135,
   "id": "1bf6a42e",
   "metadata": {
    "colab": {
     "base_uri": "https://localhost:8080/",
     "height": 156,
     "referenced_widgets": [
      "0f423dfe8cc340d8bcbd0ef217f531a5",
      "9b2fa2aec3594a9189cc1bfe77a89a5b",
      "1b52fda96be44c4aa88901203b6974fe",
      "bdaf92dcc9094b78bbe8a871e5c575b5",
      "1ead4b226a7c467ea7944454c50c6f61",
      "c1c4140c3a964b56aaa5b203729a152f",
      "9c030a46265845fa9bb69d491e6833f1",
      "39ed0650fddf442ca3d5830d64f51fbd",
      "8ce2c3a45c8e4b0a8d49ff95d50f885f",
      "0ce0acd299ef476ab889480740a6cc65",
      "568564ea26d9487ea7e706c919413611"
     ]
    },
    "id": "d2d81609",
    "outputId": "1f15db69-bead-4f68-e87c-c12039c22fd3",
    "scrolled": true
   },
   "outputs": [
    {
     "name": "stderr",
     "output_type": "stream",
     "text": [
      "Some weights of the PyTorch model were not used when initializing the TF 2.0 model TFGPT2Model: ['transformer.h.6.attn.masked_bias', 'transformer.h.5.attn.masked_bias', 'transformer.h.11.attn.masked_bias', 'transformer.h.0.attn.masked_bias', 'transformer.h.2.attn.masked_bias', 'transformer.h.4.attn.masked_bias', 'transformer.h.3.attn.masked_bias', 'transformer.h.1.attn.masked_bias', 'transformer.h.9.attn.masked_bias', 'transformer.h.8.attn.masked_bias', 'transformer.h.10.attn.masked_bias', 'lm_head.weight', 'transformer.h.7.attn.masked_bias']\n",
      "- This IS expected if you are initializing TFGPT2Model from a PyTorch model trained on another task or with another architecture (e.g. initializing a TFBertForSequenceClassification model from a BertForPreTraining model).\n",
      "- This IS NOT expected if you are initializing TFGPT2Model from a PyTorch model that you expect to be exactly identical (e.g. initializing a TFBertForSequenceClassification model from a BertForSequenceClassification model).\n",
      "All the weights of TFGPT2Model were initialized from the PyTorch model.\n",
      "If your task is similar to the task the model of the checkpoint was trained on, you can already use TFGPT2Model for predictions without further training.\n"
     ]
    }
   ],
   "source": [
    "# GPT 모델 불러오기\n",
    "\n",
    "model = TFGPT2Model.from_pretrained('skt/kogpt2-base-v2', from_pt=True)"
   ]
  },
  {
   "cell_type": "code",
   "execution_count": 136,
   "id": "cfd4784a",
   "metadata": {
    "id": "dde739a5"
   },
   "outputs": [],
   "source": [
    "# GPT 모델 input, output 만들기\n",
    "input_ids_layer = tf.keras.layers.Input(shape=(max_seq_len,), dtype=tf.int32)\n",
    "outputs = model([input_ids_layer])"
   ]
  },
  {
   "cell_type": "code",
   "execution_count": 137,
   "id": "95bc72dc",
   "metadata": {
    "id": "b71e2186"
   },
   "outputs": [],
   "source": [
    "# GPT로 다중 분류 모델 만들기\n",
    "\n",
    "class TFGPT2ForSequenceClassification(tf.keras.Model):\n",
    "    def __init__(self, model_name, num_labels, dropout_rate=0.2):\n",
    "        super(TFGPT2ForSequenceClassification, self).__init__()\n",
    "        self.gpt = TFGPT2Model.from_pretrained(model_name, from_pt=True)\n",
    "        self.dropout = tf.keras.layers.Dropout(dropout_rate, name='dropout')\n",
    "        self.classifier = tf.keras.layers.Dense(num_labels,\n",
    "                                                kernel_initializer=tf.keras.initializers.TruncatedNormal(0.02),\n",
    "                                                activation='softmax',\n",
    "                                                name='classifier')\n",
    "\n",
    "    def call(self, inputs, training=False):\n",
    "        outputs = self.gpt(input_ids=inputs)\n",
    "        cls_token = outputs[0][:, -1]\n",
    "        cls_token = self.dropout(cls_token, training=training)\n",
    "        prediction = self.classifier(cls_token)\n",
    "\n",
    "        return prediction"
   ]
  },
  {
   "cell_type": "code",
   "execution_count": 163,
   "id": "3ec932e7",
   "metadata": {
    "colab": {
     "base_uri": "https://localhost:8080/"
    },
    "id": "2a4904a7",
    "outputId": "38b2446f-9a36-4764-e0d6-1fc6c577c2c0",
    "scrolled": true
   },
   "outputs": [
    {
     "name": "stderr",
     "output_type": "stream",
     "text": [
      "Some weights of the PyTorch model were not used when initializing the TF 2.0 model TFGPT2Model: ['transformer.h.6.attn.masked_bias', 'transformer.h.5.attn.masked_bias', 'transformer.h.11.attn.masked_bias', 'transformer.h.0.attn.masked_bias', 'transformer.h.2.attn.masked_bias', 'transformer.h.4.attn.masked_bias', 'transformer.h.3.attn.masked_bias', 'transformer.h.1.attn.masked_bias', 'transformer.h.9.attn.masked_bias', 'transformer.h.8.attn.masked_bias', 'transformer.h.10.attn.masked_bias', 'lm_head.weight', 'transformer.h.7.attn.masked_bias']\n",
      "- This IS expected if you are initializing TFGPT2Model from a PyTorch model trained on another task or with another architecture (e.g. initializing a TFBertForSequenceClassification model from a BertForPreTraining model).\n",
      "- This IS NOT expected if you are initializing TFGPT2Model from a PyTorch model that you expect to be exactly identical (e.g. initializing a TFBertForSequenceClassification model from a BertForSequenceClassification model).\n",
      "All the weights of TFGPT2Model were initialized from the PyTorch model.\n",
      "If your task is similar to the task the model of the checkpoint was trained on, you can already use TFGPT2Model for predictions without further training.\n"
     ]
    }
   ],
   "source": [
    "# 모델 생성\n",
    "model = TFGPT2ForSequenceClassification(\"skt/kogpt2-base-v2\", num_labels=5)\n",
    "optimizer = tf.keras.optimizers.Adam(learning_rate=5e-5)\n",
    "loss = tf.keras.losses.SparseCategoricalCrossentropy(from_logits=False)\n",
    "model.compile(optimizer=optimizer, loss=loss, metrics=[tf .keras .metrics .SparseCategoricalAccuracy()])"
   ]
  },
  {
   "cell_type": "code",
   "execution_count": 170,
   "id": "59c9e3bd",
   "metadata": {},
   "outputs": [],
   "source": [
    "tf.keras.backend.clear_session()"
   ]
  },
  {
   "cell_type": "code",
   "execution_count": 171,
   "id": "f329eee3",
   "metadata": {},
   "outputs": [],
   "source": [
    "checkpoint = tf.keras.callbacks.ModelCheckpoint(\"kogpt2.keras\", monitor='val_accuracy', verbose=1, save_best_only=True, mode='max', save_weights_only=True)"
   ]
  },
  {
   "cell_type": "code",
   "execution_count": 173,
   "id": "10ec72d0",
   "metadata": {
    "colab": {
     "base_uri": "https://localhost:8080/"
    },
    "id": "850e18e1",
    "outputId": "449b00c6-003f-426d-90cf-8fd7e7a63586"
   },
   "outputs": [
    {
     "name": "stdout",
     "output_type": "stream",
     "text": [
      "Epoch 1/10\n",
      "1986/1986 [==============================] - 2401s 1s/step - loss: 0.1284 - sparse_categorical_accuracy: 0.9583 - val_loss: 0.1569 - val_sparse_categorical_accuracy: 0.9440\n",
      "WARNING:tensorflow:Can save best model only with val_accuracy available, skipping.\n",
      "Epoch 2/10\n",
      "1986/1986 [==============================] - 2397s 1s/step - loss: 0.0533 - sparse_categorical_accuracy: 0.9833 - val_loss: 0.0923 - val_sparse_categorical_accuracy: 0.9710\n",
      "WARNING:tensorflow:Can save best model only with val_accuracy available, skipping.\n",
      "Epoch 3/10\n",
      "1986/1986 [==============================] - 2398s 1s/step - loss: 0.0355 - sparse_categorical_accuracy: 0.9891 - val_loss: 0.0238 - val_sparse_categorical_accuracy: 0.9947\n",
      "WARNING:tensorflow:Can save best model only with val_accuracy available, skipping.\n",
      "Epoch 4/10\n",
      "1986/1986 [==============================] - 2397s 1s/step - loss: 0.0204 - sparse_categorical_accuracy: 0.9935 - val_loss: 0.0204 - val_sparse_categorical_accuracy: 0.9945\n",
      "WARNING:tensorflow:Can save best model only with val_accuracy available, skipping.\n",
      "Epoch 5/10\n",
      "1986/1986 [==============================] - 2396s 1s/step - loss: 0.0142 - sparse_categorical_accuracy: 0.9961 - val_loss: 0.0345 - val_sparse_categorical_accuracy: 0.9938\n",
      "WARNING:tensorflow:Can save best model only with val_accuracy available, skipping.\n",
      "Epoch 6/10\n",
      "1986/1986 [==============================] - 2396s 1s/step - loss: 0.0139 - sparse_categorical_accuracy: 0.9959 - val_loss: 0.0469 - val_sparse_categorical_accuracy: 0.9899\n",
      "WARNING:tensorflow:Can save best model only with val_accuracy available, skipping.\n",
      "Epoch 7/10\n",
      "1986/1986 [==============================] - 2397s 1s/step - loss: 0.0110 - sparse_categorical_accuracy: 0.9974 - val_loss: 0.0291 - val_sparse_categorical_accuracy: 0.9966\n",
      "WARNING:tensorflow:Can save best model only with val_accuracy available, skipping.\n",
      "Epoch 8/10\n",
      "1986/1986 [==============================] - 2398s 1s/step - loss: 0.0086 - sparse_categorical_accuracy: 0.9974 - val_loss: 0.0684 - val_sparse_categorical_accuracy: 0.9874\n",
      "WARNING:tensorflow:Can save best model only with val_accuracy available, skipping.\n",
      "Epoch 9/10\n",
      "1986/1986 [==============================] - 2399s 1s/step - loss: 0.0090 - sparse_categorical_accuracy: 0.9980 - val_loss: 0.0501 - val_sparse_categorical_accuracy: 0.9898\n",
      "WARNING:tensorflow:Can save best model only with val_accuracy available, skipping.\n",
      "Epoch 10/10\n",
      "1986/1986 [==============================] - 2397s 1s/step - loss: 0.0076 - sparse_categorical_accuracy: 0.9977 - val_loss: 0.0221 - val_sparse_categorical_accuracy: 0.9966\n",
      "WARNING:tensorflow:Can save best model only with val_accuracy available, skipping.\n"
     ]
    }
   ],
   "source": [
    "history = model.fit(X_train, train_labels, epochs=10, batch_size=16, validation_data = (X_val, val_labels), callbacks=[checkpoint])"
   ]
  },
  {
   "cell_type": "code",
   "execution_count": 193,
   "id": "0c9c0938",
   "metadata": {},
   "outputs": [
    {
     "data": {
      "text/plain": [
       "<Figure size 432x288 with 0 Axes>"
      ]
     },
     "metadata": {},
     "output_type": "display_data"
    },
    {
     "data": {
      "image/png": "[encoded data removed]",
      "text/plain": [
       "<Figure size 576x216 with 2 Axes>"
      ]
     },
     "metadata": {
      "needs_background": "light"
     },
     "output_type": "display_data"
    }
   ],
   "source": [
    "plt.clf()\n",
    "plt.figure(figsize=(8,3))\n",
    "\n",
    "# 훈련 손실 그래프\n",
    "plt.subplot(121)\n",
    "plt.plot(history.history['loss'])\n",
    "plt.plot(history.history['val_loss'])\n",
    "plt.title('Model Loss')\n",
    "plt.xlabel('Epoch')\n",
    "plt.ylabel('Loss')\n",
    "plt.legend(['train', 'val'], loc='upper right')\n",
    "\n",
    "# 훈련 정확도 그래프\n",
    "plt.subplot(122)\n",
    "plt.plot(history.history['sparse_categorical_accuracy'])\n",
    "plt.plot(history.history['val_sparse_categorical_accuracy'])\n",
    "plt.title('Model Accuracy')\n",
    "plt.xlabel('Epoch')\n",
    "plt.ylabel('Accuracy')\n",
    "plt.legend(['train', 'val'], loc='lower right')\n",
    "plt.tight_layout()\n",
    "plt.show()"
   ]
  },
  {
   "cell_type": "code",
   "execution_count": 174,
   "id": "b62c0de8",
   "metadata": {},
   "outputs": [],
   "source": [
    "model.save_weights('kogpt2.keras')"
   ]
  },
  {
   "cell_type": "code",
   "execution_count": 181,
   "id": "23e2e4fc",
   "metadata": {},
   "outputs": [],
   "source": [
    "test_datas = test_data['Text'].to_list()"
   ]
  },
  {
   "cell_type": "code",
   "execution_count": 183,
   "id": "69911bd2",
   "metadata": {},
   "outputs": [
    {
     "name": "stderr",
     "output_type": "stream",
     "text": [
      "100%|██████████| 500/500 [00:00<00:00, 990.65it/s] \n"
     ]
    }
   ],
   "source": [
    "X_test = convert_examples_to_features2(test_datas, max_seq_len=max_seq_len, tokenizer=tokenizer)"
   ]
  },
  {
   "cell_type": "code",
   "execution_count": 185,
   "id": "6c9c13e9",
   "metadata": {
    "colab": {
     "base_uri": "https://localhost:8080/"
    },
    "id": "AiAonls-nIT7",
    "outputId": "1149b394-c073-4027-b7fb-b87f3ee57b4b",
    "scrolled": true
   },
   "outputs": [],
   "source": [
    "# 예측 수행\n",
    "predictions = model.predict(X_test)\n",
    "\n",
    "# 예측 결과가 클래스 확률일 경우\n",
    "predicted_classes = np.argmax(predictions, axis=1)"
   ]
  },
  {
   "cell_type": "code",
   "execution_count": 186,
   "id": "8813b89d",
   "metadata": {},
   "outputs": [
    {
     "data": {
      "text/plain": [
       "array([1, 2, 2, 2, 3, 0, 0, 3, 4, 1, 0, 3, 2, 2, 2, 0, 0, 3, 0, 3, 0, 3,\n",
       "       3, 1, 1, 2, 3, 3, 2, 4, 1, 0, 3, 1, 3, 3, 3, 0, 0, 1, 0, 3, 2, 1,\n",
       "       3, 2, 3, 3, 3, 0, 1, 3, 1, 2, 2, 3, 3, 3, 3, 3, 1, 3, 4, 3, 2, 0,\n",
       "       3, 3, 3, 0, 0, 2, 3, 2, 0, 3, 3, 1, 2, 4, 3, 0, 3, 0, 0, 0, 1, 3,\n",
       "       1, 2, 0, 2, 0, 3, 3, 2, 4, 2, 0, 2, 0, 1, 3, 2, 3, 2, 2, 3, 3, 0,\n",
       "       3, 0, 0, 3, 3, 1, 3, 2, 2, 4, 4, 3, 1, 1, 1, 1, 2, 4, 1, 3, 3, 3,\n",
       "       3, 3, 0, 0, 3, 0, 3, 1, 3, 3, 1, 3, 2, 0, 0, 0, 0, 3, 1, 3, 0, 1,\n",
       "       2, 3, 0, 2, 3, 3, 0, 3, 4, 0, 2, 3, 2, 3, 3, 1, 0, 2, 2, 1, 3, 3,\n",
       "       0, 2, 3, 0, 2, 3, 1, 3, 3, 1, 0, 0, 1, 0, 0, 3, 3, 2, 1, 3, 3, 4,\n",
       "       0, 2, 2, 0, 3, 3, 0, 3, 2, 1, 2, 2, 4, 3, 3, 2, 1, 4, 3, 3, 1, 0,\n",
       "       1, 2, 3, 4, 0, 4, 4, 0, 1, 0, 2, 0, 3, 0, 1, 3, 3, 1, 1, 3, 3, 3,\n",
       "       3, 2, 3, 1, 2, 3, 2, 0, 1, 3, 0, 2, 0, 1, 4, 2, 1, 2, 4, 2, 1, 3,\n",
       "       4, 3, 3, 4, 3, 3, 0, 3, 0, 2, 3, 2, 2, 3, 2, 1, 1, 0, 3, 2, 4, 2,\n",
       "       0, 2, 1, 3, 1, 1, 3, 3, 2, 3, 0, 3, 1, 0, 4, 3, 0, 2, 1, 1, 3, 3,\n",
       "       3, 2, 0, 1, 3, 3, 2, 3, 1, 3, 3, 0, 2, 0, 0, 1, 1, 1, 2, 4, 2, 3,\n",
       "       3, 0, 0, 3, 1, 3, 3, 1, 4, 3, 0, 2, 3, 0, 3, 2, 3, 1, 0, 0, 3, 3,\n",
       "       1, 3, 1, 2, 3, 3, 2, 4, 3, 3, 1, 3, 2, 3, 1, 2, 3, 1, 1, 2, 0, 3,\n",
       "       2, 3, 1, 3, 1, 1, 2, 0, 2, 2, 3, 1, 3, 0, 0, 3, 1, 0, 1, 3, 1, 3,\n",
       "       3, 4, 1, 3, 3, 3, 2, 2, 3, 3, 3, 3, 2, 1, 3, 3, 0, 2, 2, 4, 0, 4,\n",
       "       1, 3, 0, 0, 3, 3, 3, 1, 1, 2, 2, 0, 3, 3, 1, 0, 3, 3, 0, 3, 3, 2,\n",
       "       3, 0, 2, 1, 1, 2, 0, 2, 2, 3, 2, 0, 2, 3, 2, 0, 2, 2, 1, 1, 0, 4,\n",
       "       0, 2, 2, 3, 3, 2, 4, 0, 2, 1, 0, 3, 0, 2, 1, 4, 4, 2, 4, 3, 1, 3,\n",
       "       1, 1, 3, 3, 4, 3, 3, 4, 0, 1, 1, 2, 2, 1, 0, 0])"
      ]
     },
     "execution_count": 186,
     "metadata": {},
     "output_type": "execute_result"
    }
   ],
   "source": [
    "predicted_classes"
   ]
  },
  {
   "cell_type": "code",
   "execution_count": 188,
   "id": "434419f9",
   "metadata": {},
   "outputs": [],
   "source": [
    "submission_data = data_import('submission.csv')"
   ]
  },
  {
   "cell_type": "code",
   "execution_count": 190,
   "id": "56832a26",
   "metadata": {},
   "outputs": [
    {
     "data": {
      "text/html": [
       "<div>\n",
       "<style scoped>\n",
       "    .dataframe tbody tr th:only-of-type {\n",
       "        vertical-align: middle;\n",
       "    }\n",
       "\n",
       "    .dataframe tbody tr th {\n",
       "        vertical-align: top;\n",
       "    }\n",
       "\n",
       "    .dataframe thead th {\n",
       "        text-align: right;\n",
       "    }\n",
       "</style>\n",
       "<table border=\"1\" class=\"dataframe\">\n",
       "  <thead>\n",
       "    <tr style=\"text-align: right;\">\n",
       "      <th></th>\n",
       "      <th>idx</th>\n",
       "      <th>class</th>\n",
       "    </tr>\n",
       "  </thead>\n",
       "  <tbody>\n",
       "    <tr>\n",
       "      <th>0</th>\n",
       "      <td>t_000</td>\n",
       "      <td>1</td>\n",
       "    </tr>\n",
       "    <tr>\n",
       "      <th>1</th>\n",
       "      <td>t_001</td>\n",
       "      <td>2</td>\n",
       "    </tr>\n",
       "    <tr>\n",
       "      <th>2</th>\n",
       "      <td>t_002</td>\n",
       "      <td>2</td>\n",
       "    </tr>\n",
       "    <tr>\n",
       "      <th>3</th>\n",
       "      <td>t_003</td>\n",
       "      <td>2</td>\n",
       "    </tr>\n",
       "    <tr>\n",
       "      <th>4</th>\n",
       "      <td>t_004</td>\n",
       "      <td>3</td>\n",
       "    </tr>\n",
       "  </tbody>\n",
       "</table>\n",
       "</div>"
      ],
      "text/plain": [
       "     idx  class\n",
       "0  t_000      1\n",
       "1  t_001      2\n",
       "2  t_002      2\n",
       "3  t_003      2\n",
       "4  t_004      3"
      ]
     },
     "execution_count": 190,
     "metadata": {},
     "output_type": "execute_result"
    }
   ],
   "source": [
    "# submission 넣기\n",
    "\n",
    "submission = pd.DataFrame({\"idx\" : submission_data.idx, \"class\" : predicted_classes})\n",
    "submission.to_csv(\"submission1.csv\",index=False, encoding='utf-8-sig')\n",
    "\n",
    "submission.head()"
   ]
  },
  {
   "cell_type": "code",
   "execution_count": null,
   "id": "e0d2c1f9",
   "metadata": {},
   "outputs": [],
   "source": [
    "# 예측 결과를 test 데이터프레임에 추가\n",
    "test_data['predictions'] = predicted_classes\n",
    "test_data.to_csv(\"test.csv\",index=False, encoding='utf-8-sig')\n",
    "\n",
    "\n",
    "# 결과 출력\n",
    "test_data.head()"
   ]
  },
  {
   "cell_type": "code",
   "execution_count": null,
   "id": "75b8b166",
   "metadata": {
    "id": "5nq76VnBCwLE"
   },
   "outputs": [],
   "source": [
    "test_data.sample(10)"
   ]
  },
  {
   "cell_type": "markdown",
   "id": "e1f0fc03",
   "metadata": {},
   "source": [
    "생성 데이터로 다시 해보면 좋을 듯 하다"
   ]
  },
  {
   "cell_type": "code",
   "execution_count": null,
   "id": "d452a971",
   "metadata": {},
   "outputs": [],
   "source": []
  }
 ],
 "metadata": {
  "colab": {
   "provenance": []
  },
  "kernelspec": {
   "display_name": "Python 3 (ipykernel)",
   "language": "python",
   "name": "python3"
  },
  "language_info": {
   "codemirror_mode": {
    "name": "ipython",
    "version": 3
   },
   "file_extension": ".py",
   "mimetype": "text/x-python",
   "name": "python",
   "nbconvert_exporter": "python",
   "pygments_lexer": "ipython3",
   "version": "3.9.7"
  },
  "widgets": {
   "application/vnd.jupyter.widget-state+json": {
    "026d1f3d5f9f4f63bd3c6d0f910f6260": {
     "model_module": "@jupyter-widgets/controls",
     "model_module_version": "1.5.0",
     "model_name": "DescriptionStyleModel",
     "state": {
      "_model_module": "@jupyter-widgets/controls",
      "_model_module_version": "1.5.0",
      "_model_name": "DescriptionStyleModel",
      "_view_count": null,
      "_view_module": "@jupyter-widgets/base",
      "_view_module_version": "1.2.0",
      "_view_name": "StyleView",
      "description_width": ""
     }
    },
    "0ce0acd299ef476ab889480740a6cc65": {
     "model_module": "@jupyter-widgets/base",
     "model_module_version": "1.2.0",
     "model_name": "LayoutModel",
     "state": {
      "_model_module": "@jupyter-widgets/base",
      "_model_module_version": "1.2.0",
      "_model_name": "LayoutModel",
      "_view_count": null,
      "_view_module": "@jupyter-widgets/base",
      "_view_module_version": "1.2.0",
      "_view_name": "LayoutView",
      "align_content": null,
      "align_items": null,
      "align_self": null,
      "border": null,
      "bottom": null,
      "display": null,
      "flex": null,
      "flex_flow": null,
      "grid_area": null,
      "grid_auto_columns": null,
      "grid_auto_flow": null,
      "grid_auto_rows": null,
      "grid_column": null,
      "grid_gap": null,
      "grid_row": null,
      "grid_template_areas": null,
      "grid_template_columns": null,
      "grid_template_rows": null,
      "height": null,
      "justify_content": null,
      "justify_items": null,
      "left": null,
      "margin": null,
      "max_height": null,
      "max_width": null,
      "min_height": null,
      "min_width": null,
      "object_fit": null,
      "object_position": null,
      "order": null,
      "overflow": null,
      "overflow_x": null,
      "overflow_y": null,
      "padding": null,
      "right": null,
      "top": null,
      "visibility": null,
      "width": null
     }
    },
    "0f423dfe8cc340d8bcbd0ef217f531a5": {
     "model_module": "@jupyter-widgets/controls",
     "model_module_version": "1.5.0",
     "model_name": "HBoxModel",
     "state": {
      "_dom_classes": [],
      "_model_module": "@jupyter-widgets/controls",
      "_model_module_version": "1.5.0",
      "_model_name": "HBoxModel",
      "_view_count": null,
      "_view_module": "@jupyter-widgets/controls",
      "_view_module_version": "1.5.0",
      "_view_name": "HBoxView",
      "box_style": "",
      "children": [
       "IPY_MODEL_9b2fa2aec3594a9189cc1bfe77a89a5b",
       "IPY_MODEL_1b52fda96be44c4aa88901203b6974fe",
       "IPY_MODEL_bdaf92dcc9094b78bbe8a871e5c575b5"
      ],
      "layout": "IPY_MODEL_1ead4b226a7c467ea7944454c50c6f61"
     }
    },
    "167f6baa2d3342789a331280d1b16ce8": {
     "model_module": "@jupyter-widgets/controls",
     "model_module_version": "1.5.0",
     "model_name": "DescriptionStyleModel",
     "state": {
      "_model_module": "@jupyter-widgets/controls",
      "_model_module_version": "1.5.0",
      "_model_name": "DescriptionStyleModel",
      "_view_count": null,
      "_view_module": "@jupyter-widgets/base",
      "_view_module_version": "1.2.0",
      "_view_name": "StyleView",
      "description_width": ""
     }
    },
    "1b52fda96be44c4aa88901203b6974fe": {
     "model_module": "@jupyter-widgets/controls",
     "model_module_version": "1.5.0",
     "model_name": "FloatProgressModel",
     "state": {
      "_dom_classes": [],
      "_model_module": "@jupyter-widgets/controls",
      "_model_module_version": "1.5.0",
      "_model_name": "FloatProgressModel",
      "_view_count": null,
      "_view_module": "@jupyter-widgets/controls",
      "_view_module_version": "1.5.0",
      "_view_name": "ProgressView",
      "bar_style": "success",
      "description": "",
      "description_tooltip": null,
      "layout": "IPY_MODEL_39ed0650fddf442ca3d5830d64f51fbd",
      "max": 513302779,
      "min": 0,
      "orientation": "horizontal",
      "style": "IPY_MODEL_8ce2c3a45c8e4b0a8d49ff95d50f885f",
      "value": 513302779
     }
    },
    "1ead4b226a7c467ea7944454c50c6f61": {
     "model_module": "@jupyter-widgets/base",
     "model_module_version": "1.2.0",
     "model_name": "LayoutModel",
     "state": {
      "_model_module": "@jupyter-widgets/base",
      "_model_module_version": "1.2.0",
      "_model_name": "LayoutModel",
      "_view_count": null,
      "_view_module": "@jupyter-widgets/base",
      "_view_module_version": "1.2.0",
      "_view_name": "LayoutView",
      "align_content": null,
      "align_items": null,
      "align_self": null,
      "border": null,
      "bottom": null,
      "display": null,
      "flex": null,
      "flex_flow": null,
      "grid_area": null,
      "grid_auto_columns": null,
      "grid_auto_flow": null,
      "grid_auto_rows": null,
      "grid_column": null,
      "grid_gap": null,
      "grid_row": null,
      "grid_template_areas": null,
      "grid_template_columns": null,
      "grid_template_rows": null,
      "height": null,
      "justify_content": null,
      "justify_items": null,
      "left": null,
      "margin": null,
      "max_height": null,
      "max_width": null,
      "min_height": null,
      "min_width": null,
      "object_fit": null,
      "object_position": null,
      "order": null,
      "overflow": null,
      "overflow_x": null,
      "overflow_y": null,
      "padding": null,
      "right": null,
      "top": null,
      "visibility": null,
      "width": null
     }
    },
    "38c479e2fad34e56b3401201ff839dd2": {
     "model_module": "@jupyter-widgets/base",
     "model_module_version": "1.2.0",
     "model_name": "LayoutModel",
     "state": {
      "_model_module": "@jupyter-widgets/base",
      "_model_module_version": "1.2.0",
      "_model_name": "LayoutModel",
      "_view_count": null,
      "_view_module": "@jupyter-widgets/base",
      "_view_module_version": "1.2.0",
      "_view_name": "LayoutView",
      "align_content": null,
      "align_items": null,
      "align_self": null,
      "border": null,
      "bottom": null,
      "display": null,
      "flex": null,
      "flex_flow": null,
      "grid_area": null,
      "grid_auto_columns": null,
      "grid_auto_flow": null,
      "grid_auto_rows": null,
      "grid_column": null,
      "grid_gap": null,
      "grid_row": null,
      "grid_template_areas": null,
      "grid_template_columns": null,
      "grid_template_rows": null,
      "height": null,
      "justify_content": null,
      "justify_items": null,
      "left": null,
      "margin": null,
      "max_height": null,
      "max_width": null,
      "min_height": null,
      "min_width": null,
      "object_fit": null,
      "object_position": null,
      "order": null,
      "overflow": null,
      "overflow_x": null,
      "overflow_y": null,
      "padding": null,
      "right": null,
      "top": null,
      "visibility": null,
      "width": null
     }
    },
    "39ed0650fddf442ca3d5830d64f51fbd": {
     "model_module": "@jupyter-widgets/base",
     "model_module_version": "1.2.0",
     "model_name": "LayoutModel",
     "state": {
      "_model_module": "@jupyter-widgets/base",
      "_model_module_version": "1.2.0",
      "_model_name": "LayoutModel",
      "_view_count": null,
      "_view_module": "@jupyter-widgets/base",
      "_view_module_version": "1.2.0",
      "_view_name": "LayoutView",
      "align_content": null,
      "align_items": null,
      "align_self": null,
      "border": null,
      "bottom": null,
      "display": null,
      "flex": null,
      "flex_flow": null,
      "grid_area": null,
      "grid_auto_columns": null,
      "grid_auto_flow": null,
      "grid_auto_rows": null,
      "grid_column": null,
      "grid_gap": null,
      "grid_row": null,
      "grid_template_areas": null,
      "grid_template_columns": null,
      "grid_template_rows": null,
      "height": null,
      "justify_content": null,
      "justify_items": null,
      "left": null,
      "margin": null,
      "max_height": null,
      "max_width": null,
      "min_height": null,
      "min_width": null,
      "object_fit": null,
      "object_position": null,
      "order": null,
      "overflow": null,
      "overflow_x": null,
      "overflow_y": null,
      "padding": null,
      "right": null,
      "top": null,
      "visibility": null,
      "width": null
     }
    },
    "453f379e43574a338d044ae921287b87": {
     "model_module": "@jupyter-widgets/controls",
     "model_module_version": "1.5.0",
     "model_name": "HTMLModel",
     "state": {
      "_dom_classes": [],
      "_model_module": "@jupyter-widgets/controls",
      "_model_module_version": "1.5.0",
      "_model_name": "HTMLModel",
      "_view_count": null,
      "_view_module": "@jupyter-widgets/controls",
      "_view_module_version": "1.5.0",
      "_view_name": "HTMLView",
      "description": "",
      "description_tooltip": null,
      "layout": "IPY_MODEL_97619092ad234cac957e46125265bb16",
      "placeholder": "​",
      "style": "IPY_MODEL_167f6baa2d3342789a331280d1b16ce8",
      "value": " 1.00k/1.00k [00:00&lt;00:00, 57.1kB/s]"
     }
    },
    "4f5d5348c3cc4224a1637854adac8f68": {
     "model_module": "@jupyter-widgets/base",
     "model_module_version": "1.2.0",
     "model_name": "LayoutModel",
     "state": {
      "_model_module": "@jupyter-widgets/base",
      "_model_module_version": "1.2.0",
      "_model_name": "LayoutModel",
      "_view_count": null,
      "_view_module": "@jupyter-widgets/base",
      "_view_module_version": "1.2.0",
      "_view_name": "LayoutView",
      "align_content": null,
      "align_items": null,
      "align_self": null,
      "border": null,
      "bottom": null,
      "display": null,
      "flex": null,
      "flex_flow": null,
      "grid_area": null,
      "grid_auto_columns": null,
      "grid_auto_flow": null,
      "grid_auto_rows": null,
      "grid_column": null,
      "grid_gap": null,
      "grid_row": null,
      "grid_template_areas": null,
      "grid_template_columns": null,
      "grid_template_rows": null,
      "height": null,
      "justify_content": null,
      "justify_items": null,
      "left": null,
      "margin": null,
      "max_height": null,
      "max_width": null,
      "min_height": null,
      "min_width": null,
      "object_fit": null,
      "object_position": null,
      "order": null,
      "overflow": null,
      "overflow_x": null,
      "overflow_y": null,
      "padding": null,
      "right": null,
      "top": null,
      "visibility": null,
      "width": null
     }
    },
    "516f5beb270f4ec48935eb921714f7a7": {
     "model_module": "@jupyter-widgets/base",
     "model_module_version": "1.2.0",
     "model_name": "LayoutModel",
     "state": {
      "_model_module": "@jupyter-widgets/base",
      "_model_module_version": "1.2.0",
      "_model_name": "LayoutModel",
      "_view_count": null,
      "_view_module": "@jupyter-widgets/base",
      "_view_module_version": "1.2.0",
      "_view_name": "LayoutView",
      "align_content": null,
      "align_items": null,
      "align_self": null,
      "border": null,
      "bottom": null,
      "display": null,
      "flex": null,
      "flex_flow": null,
      "grid_area": null,
      "grid_auto_columns": null,
      "grid_auto_flow": null,
      "grid_auto_rows": null,
      "grid_column": null,
      "grid_gap": null,
      "grid_row": null,
      "grid_template_areas": null,
      "grid_template_columns": null,
      "grid_template_rows": null,
      "height": null,
      "justify_content": null,
      "justify_items": null,
      "left": null,
      "margin": null,
      "max_height": null,
      "max_width": null,
      "min_height": null,
      "min_width": null,
      "object_fit": null,
      "object_position": null,
      "order": null,
      "overflow": null,
      "overflow_x": null,
      "overflow_y": null,
      "padding": null,
      "right": null,
      "top": null,
      "visibility": null,
      "width": null
     }
    },
    "55680bc1ec7b4fc58642839de4705093": {
     "model_module": "@jupyter-widgets/controls",
     "model_module_version": "1.5.0",
     "model_name": "HBoxModel",
     "state": {
      "_dom_classes": [],
      "_model_module": "@jupyter-widgets/controls",
      "_model_module_version": "1.5.0",
      "_model_name": "HBoxModel",
      "_view_count": null,
      "_view_module": "@jupyter-widgets/controls",
      "_view_module_version": "1.5.0",
      "_view_name": "HBoxView",
      "box_style": "",
      "children": [
       "IPY_MODEL_eaee60fd183f4fee90db46157ef32ceb",
       "IPY_MODEL_a4a1df381cdc49a98f2c5bd5e06388f0",
       "IPY_MODEL_e93f183e684b4201aef52273ee247698"
      ],
      "layout": "IPY_MODEL_83b2276a73684a5ebb95ae5e41221708"
     }
    },
    "568564ea26d9487ea7e706c919413611": {
     "model_module": "@jupyter-widgets/controls",
     "model_module_version": "1.5.0",
     "model_name": "DescriptionStyleModel",
     "state": {
      "_model_module": "@jupyter-widgets/controls",
      "_model_module_version": "1.5.0",
      "_model_name": "DescriptionStyleModel",
      "_view_count": null,
      "_view_module": "@jupyter-widgets/base",
      "_view_module_version": "1.2.0",
      "_view_name": "StyleView",
      "description_width": ""
     }
    },
    "6158c2b4e82a42efa6abc4c8a4716166": {
     "model_module": "@jupyter-widgets/controls",
     "model_module_version": "1.5.0",
     "model_name": "ProgressStyleModel",
     "state": {
      "_model_module": "@jupyter-widgets/controls",
      "_model_module_version": "1.5.0",
      "_model_name": "ProgressStyleModel",
      "_view_count": null,
      "_view_module": "@jupyter-widgets/base",
      "_view_module_version": "1.2.0",
      "_view_name": "StyleView",
      "bar_color": null,
      "description_width": ""
     }
    },
    "6b60e2c57dee478aa71dfed57aedcb4d": {
     "model_module": "@jupyter-widgets/controls",
     "model_module_version": "1.5.0",
     "model_name": "DescriptionStyleModel",
     "state": {
      "_model_module": "@jupyter-widgets/controls",
      "_model_module_version": "1.5.0",
      "_model_name": "DescriptionStyleModel",
      "_view_count": null,
      "_view_module": "@jupyter-widgets/base",
      "_view_module_version": "1.2.0",
      "_view_name": "StyleView",
      "description_width": ""
     }
    },
    "6d30e31b46d2405fa72a1e15726340ae": {
     "model_module": "@jupyter-widgets/controls",
     "model_module_version": "1.5.0",
     "model_name": "FloatProgressModel",
     "state": {
      "_dom_classes": [],
      "_model_module": "@jupyter-widgets/controls",
      "_model_module_version": "1.5.0",
      "_model_name": "FloatProgressModel",
      "_view_count": null,
      "_view_module": "@jupyter-widgets/controls",
      "_view_module_version": "1.5.0",
      "_view_name": "ProgressView",
      "bar_style": "success",
      "description": "",
      "description_tooltip": null,
      "layout": "IPY_MODEL_8ef66e2572f64cfda5ddc5d806c28287",
      "max": 1000,
      "min": 0,
      "orientation": "horizontal",
      "style": "IPY_MODEL_6158c2b4e82a42efa6abc4c8a4716166",
      "value": 1000
     }
    },
    "83b2276a73684a5ebb95ae5e41221708": {
     "model_module": "@jupyter-widgets/base",
     "model_module_version": "1.2.0",
     "model_name": "LayoutModel",
     "state": {
      "_model_module": "@jupyter-widgets/base",
      "_model_module_version": "1.2.0",
      "_model_name": "LayoutModel",
      "_view_count": null,
      "_view_module": "@jupyter-widgets/base",
      "_view_module_version": "1.2.0",
      "_view_name": "LayoutView",
      "align_content": null,
      "align_items": null,
      "align_self": null,
      "border": null,
      "bottom": null,
      "display": null,
      "flex": null,
      "flex_flow": null,
      "grid_area": null,
      "grid_auto_columns": null,
      "grid_auto_flow": null,
      "grid_auto_rows": null,
      "grid_column": null,
      "grid_gap": null,
      "grid_row": null,
      "grid_template_areas": null,
      "grid_template_columns": null,
      "grid_template_rows": null,
      "height": null,
      "justify_content": null,
      "justify_items": null,
      "left": null,
      "margin": null,
      "max_height": null,
      "max_width": null,
      "min_height": null,
      "min_width": null,
      "object_fit": null,
      "object_position": null,
      "order": null,
      "overflow": null,
      "overflow_x": null,
      "overflow_y": null,
      "padding": null,
      "right": null,
      "top": null,
      "visibility": null,
      "width": null
     }
    },
    "8ce2c3a45c8e4b0a8d49ff95d50f885f": {
     "model_module": "@jupyter-widgets/controls",
     "model_module_version": "1.5.0",
     "model_name": "ProgressStyleModel",
     "state": {
      "_model_module": "@jupyter-widgets/controls",
      "_model_module_version": "1.5.0",
      "_model_name": "ProgressStyleModel",
      "_view_count": null,
      "_view_module": "@jupyter-widgets/base",
      "_view_module_version": "1.2.0",
      "_view_name": "StyleView",
      "bar_color": null,
      "description_width": ""
     }
    },
    "8ef66e2572f64cfda5ddc5d806c28287": {
     "model_module": "@jupyter-widgets/base",
     "model_module_version": "1.2.0",
     "model_name": "LayoutModel",
     "state": {
      "_model_module": "@jupyter-widgets/base",
      "_model_module_version": "1.2.0",
      "_model_name": "LayoutModel",
      "_view_count": null,
      "_view_module": "@jupyter-widgets/base",
      "_view_module_version": "1.2.0",
      "_view_name": "LayoutView",
      "align_content": null,
      "align_items": null,
      "align_self": null,
      "border": null,
      "bottom": null,
      "display": null,
      "flex": null,
      "flex_flow": null,
      "grid_area": null,
      "grid_auto_columns": null,
      "grid_auto_flow": null,
      "grid_auto_rows": null,
      "grid_column": null,
      "grid_gap": null,
      "grid_row": null,
      "grid_template_areas": null,
      "grid_template_columns": null,
      "grid_template_rows": null,
      "height": null,
      "justify_content": null,
      "justify_items": null,
      "left": null,
      "margin": null,
      "max_height": null,
      "max_width": null,
      "min_height": null,
      "min_width": null,
      "object_fit": null,
      "object_position": null,
      "order": null,
      "overflow": null,
      "overflow_x": null,
      "overflow_y": null,
      "padding": null,
      "right": null,
      "top": null,
      "visibility": null,
      "width": null
     }
    },
    "97619092ad234cac957e46125265bb16": {
     "model_module": "@jupyter-widgets/base",
     "model_module_version": "1.2.0",
     "model_name": "LayoutModel",
     "state": {
      "_model_module": "@jupyter-widgets/base",
      "_model_module_version": "1.2.0",
      "_model_name": "LayoutModel",
      "_view_count": null,
      "_view_module": "@jupyter-widgets/base",
      "_view_module_version": "1.2.0",
      "_view_name": "LayoutView",
      "align_content": null,
      "align_items": null,
      "align_self": null,
      "border": null,
      "bottom": null,
      "display": null,
      "flex": null,
      "flex_flow": null,
      "grid_area": null,
      "grid_auto_columns": null,
      "grid_auto_flow": null,
      "grid_auto_rows": null,
      "grid_column": null,
      "grid_gap": null,
      "grid_row": null,
      "grid_template_areas": null,
      "grid_template_columns": null,
      "grid_template_rows": null,
      "height": null,
      "justify_content": null,
      "justify_items": null,
      "left": null,
      "margin": null,
      "max_height": null,
      "max_width": null,
      "min_height": null,
      "min_width": null,
      "object_fit": null,
      "object_position": null,
      "order": null,
      "overflow": null,
      "overflow_x": null,
      "overflow_y": null,
      "padding": null,
      "right": null,
      "top": null,
      "visibility": null,
      "width": null
     }
    },
    "9b2fa2aec3594a9189cc1bfe77a89a5b": {
     "model_module": "@jupyter-widgets/controls",
     "model_module_version": "1.5.0",
     "model_name": "HTMLModel",
     "state": {
      "_dom_classes": [],
      "_model_module": "@jupyter-widgets/controls",
      "_model_module_version": "1.5.0",
      "_model_name": "HTMLModel",
      "_view_count": null,
      "_view_module": "@jupyter-widgets/controls",
      "_view_module_version": "1.5.0",
      "_view_name": "HTMLView",
      "description": "",
      "description_tooltip": null,
      "layout": "IPY_MODEL_c1c4140c3a964b56aaa5b203729a152f",
      "placeholder": "​",
      "style": "IPY_MODEL_9c030a46265845fa9bb69d491e6833f1",
      "value": "pytorch_model.bin: 100%"
     }
    },
    "9c030a46265845fa9bb69d491e6833f1": {
     "model_module": "@jupyter-widgets/controls",
     "model_module_version": "1.5.0",
     "model_name": "DescriptionStyleModel",
     "state": {
      "_model_module": "@jupyter-widgets/controls",
      "_model_module_version": "1.5.0",
      "_model_name": "DescriptionStyleModel",
      "_view_count": null,
      "_view_module": "@jupyter-widgets/base",
      "_view_module_version": "1.2.0",
      "_view_name": "StyleView",
      "description_width": ""
     }
    },
    "9ed59c23625e4eb7b57315688187094f": {
     "model_module": "@jupyter-widgets/controls",
     "model_module_version": "1.5.0",
     "model_name": "HTMLModel",
     "state": {
      "_dom_classes": [],
      "_model_module": "@jupyter-widgets/controls",
      "_model_module_version": "1.5.0",
      "_model_name": "HTMLModel",
      "_view_count": null,
      "_view_module": "@jupyter-widgets/controls",
      "_view_module_version": "1.5.0",
      "_view_name": "HTMLView",
      "description": "",
      "description_tooltip": null,
      "layout": "IPY_MODEL_516f5beb270f4ec48935eb921714f7a7",
      "placeholder": "​",
      "style": "IPY_MODEL_6b60e2c57dee478aa71dfed57aedcb4d",
      "value": "config.json: 100%"
     }
    },
    "a4a1df381cdc49a98f2c5bd5e06388f0": {
     "model_module": "@jupyter-widgets/controls",
     "model_module_version": "1.5.0",
     "model_name": "FloatProgressModel",
     "state": {
      "_dom_classes": [],
      "_model_module": "@jupyter-widgets/controls",
      "_model_module_version": "1.5.0",
      "_model_name": "FloatProgressModel",
      "_view_count": null,
      "_view_module": "@jupyter-widgets/controls",
      "_view_module_version": "1.5.0",
      "_view_name": "ProgressView",
      "bar_style": "success",
      "description": "",
      "description_tooltip": null,
      "layout": "IPY_MODEL_38c479e2fad34e56b3401201ff839dd2",
      "max": 2825034,
      "min": 0,
      "orientation": "horizontal",
      "style": "IPY_MODEL_fae1fc679b6845008fc7bf0ac84682ba",
      "value": 2825034
     }
    },
    "aca13e6af6354768a2f81753c3f6024d": {
     "model_module": "@jupyter-widgets/controls",
     "model_module_version": "1.5.0",
     "model_name": "DescriptionStyleModel",
     "state": {
      "_model_module": "@jupyter-widgets/controls",
      "_model_module_version": "1.5.0",
      "_model_name": "DescriptionStyleModel",
      "_view_count": null,
      "_view_module": "@jupyter-widgets/base",
      "_view_module_version": "1.2.0",
      "_view_name": "StyleView",
      "description_width": ""
     }
    },
    "bdaf92dcc9094b78bbe8a871e5c575b5": {
     "model_module": "@jupyter-widgets/controls",
     "model_module_version": "1.5.0",
     "model_name": "HTMLModel",
     "state": {
      "_dom_classes": [],
      "_model_module": "@jupyter-widgets/controls",
      "_model_module_version": "1.5.0",
      "_model_name": "HTMLModel",
      "_view_count": null,
      "_view_module": "@jupyter-widgets/controls",
      "_view_module_version": "1.5.0",
      "_view_name": "HTMLView",
      "description": "",
      "description_tooltip": null,
      "layout": "IPY_MODEL_0ce0acd299ef476ab889480740a6cc65",
      "placeholder": "​",
      "style": "IPY_MODEL_568564ea26d9487ea7e706c919413611",
      "value": " 513M/513M [00:07&lt;00:00, 82.1MB/s]"
     }
    },
    "c1c4140c3a964b56aaa5b203729a152f": {
     "model_module": "@jupyter-widgets/base",
     "model_module_version": "1.2.0",
     "model_name": "LayoutModel",
     "state": {
      "_model_module": "@jupyter-widgets/base",
      "_model_module_version": "1.2.0",
      "_model_name": "LayoutModel",
      "_view_count": null,
      "_view_module": "@jupyter-widgets/base",
      "_view_module_version": "1.2.0",
      "_view_name": "LayoutView",
      "align_content": null,
      "align_items": null,
      "align_self": null,
      "border": null,
      "bottom": null,
      "display": null,
      "flex": null,
      "flex_flow": null,
      "grid_area": null,
      "grid_auto_columns": null,
      "grid_auto_flow": null,
      "grid_auto_rows": null,
      "grid_column": null,
      "grid_gap": null,
      "grid_row": null,
      "grid_template_areas": null,
      "grid_template_columns": null,
      "grid_template_rows": null,
      "height": null,
      "justify_content": null,
      "justify_items": null,
      "left": null,
      "margin": null,
      "max_height": null,
      "max_width": null,
      "min_height": null,
      "min_width": null,
      "object_fit": null,
      "object_position": null,
      "order": null,
      "overflow": null,
      "overflow_x": null,
      "overflow_y": null,
      "padding": null,
      "right": null,
      "top": null,
      "visibility": null,
      "width": null
     }
    },
    "c7e20d1c29f646c29d099403ca46abd3": {
     "model_module": "@jupyter-widgets/base",
     "model_module_version": "1.2.0",
     "model_name": "LayoutModel",
     "state": {
      "_model_module": "@jupyter-widgets/base",
      "_model_module_version": "1.2.0",
      "_model_name": "LayoutModel",
      "_view_count": null,
      "_view_module": "@jupyter-widgets/base",
      "_view_module_version": "1.2.0",
      "_view_name": "LayoutView",
      "align_content": null,
      "align_items": null,
      "align_self": null,
      "border": null,
      "bottom": null,
      "display": null,
      "flex": null,
      "flex_flow": null,
      "grid_area": null,
      "grid_auto_columns": null,
      "grid_auto_flow": null,
      "grid_auto_rows": null,
      "grid_column": null,
      "grid_gap": null,
      "grid_row": null,
      "grid_template_areas": null,
      "grid_template_columns": null,
      "grid_template_rows": null,
      "height": null,
      "justify_content": null,
      "justify_items": null,
      "left": null,
      "margin": null,
      "max_height": null,
      "max_width": null,
      "min_height": null,
      "min_width": null,
      "object_fit": null,
      "object_position": null,
      "order": null,
      "overflow": null,
      "overflow_x": null,
      "overflow_y": null,
      "padding": null,
      "right": null,
      "top": null,
      "visibility": null,
      "width": null
     }
    },
    "c876f97e27c9479dbd2d1353e3792bfa": {
     "model_module": "@jupyter-widgets/base",
     "model_module_version": "1.2.0",
     "model_name": "LayoutModel",
     "state": {
      "_model_module": "@jupyter-widgets/base",
      "_model_module_version": "1.2.0",
      "_model_name": "LayoutModel",
      "_view_count": null,
      "_view_module": "@jupyter-widgets/base",
      "_view_module_version": "1.2.0",
      "_view_name": "LayoutView",
      "align_content": null,
      "align_items": null,
      "align_self": null,
      "border": null,
      "bottom": null,
      "display": null,
      "flex": null,
      "flex_flow": null,
      "grid_area": null,
      "grid_auto_columns": null,
      "grid_auto_flow": null,
      "grid_auto_rows": null,
      "grid_column": null,
      "grid_gap": null,
      "grid_row": null,
      "grid_template_areas": null,
      "grid_template_columns": null,
      "grid_template_rows": null,
      "height": null,
      "justify_content": null,
      "justify_items": null,
      "left": null,
      "margin": null,
      "max_height": null,
      "max_width": null,
      "min_height": null,
      "min_width": null,
      "object_fit": null,
      "object_position": null,
      "order": null,
      "overflow": null,
      "overflow_x": null,
      "overflow_y": null,
      "padding": null,
      "right": null,
      "top": null,
      "visibility": null,
      "width": null
     }
    },
    "d9821036d15e4d208909e64b33b51284": {
     "model_module": "@jupyter-widgets/controls",
     "model_module_version": "1.5.0",
     "model_name": "HBoxModel",
     "state": {
      "_dom_classes": [],
      "_model_module": "@jupyter-widgets/controls",
      "_model_module_version": "1.5.0",
      "_model_name": "HBoxModel",
      "_view_count": null,
      "_view_module": "@jupyter-widgets/controls",
      "_view_module_version": "1.5.0",
      "_view_name": "HBoxView",
      "box_style": "",
      "children": [
       "IPY_MODEL_9ed59c23625e4eb7b57315688187094f",
       "IPY_MODEL_6d30e31b46d2405fa72a1e15726340ae",
       "IPY_MODEL_453f379e43574a338d044ae921287b87"
      ],
      "layout": "IPY_MODEL_c876f97e27c9479dbd2d1353e3792bfa"
     }
    },
    "e93f183e684b4201aef52273ee247698": {
     "model_module": "@jupyter-widgets/controls",
     "model_module_version": "1.5.0",
     "model_name": "HTMLModel",
     "state": {
      "_dom_classes": [],
      "_model_module": "@jupyter-widgets/controls",
      "_model_module_version": "1.5.0",
      "_model_name": "HTMLModel",
      "_view_count": null,
      "_view_module": "@jupyter-widgets/controls",
      "_view_module_version": "1.5.0",
      "_view_name": "HTMLView",
      "description": "",
      "description_tooltip": null,
      "layout": "IPY_MODEL_4f5d5348c3cc4224a1637854adac8f68",
      "placeholder": "​",
      "style": "IPY_MODEL_aca13e6af6354768a2f81753c3f6024d",
      "value": " 2.83M/2.83M [00:00&lt;00:00, 14.3MB/s]"
     }
    },
    "eaee60fd183f4fee90db46157ef32ceb": {
     "model_module": "@jupyter-widgets/controls",
     "model_module_version": "1.5.0",
     "model_name": "HTMLModel",
     "state": {
      "_dom_classes": [],
      "_model_module": "@jupyter-widgets/controls",
      "_model_module_version": "1.5.0",
      "_model_name": "HTMLModel",
      "_view_count": null,
      "_view_module": "@jupyter-widgets/controls",
      "_view_module_version": "1.5.0",
      "_view_name": "HTMLView",
      "description": "",
      "description_tooltip": null,
      "layout": "IPY_MODEL_c7e20d1c29f646c29d099403ca46abd3",
      "placeholder": "​",
      "style": "IPY_MODEL_026d1f3d5f9f4f63bd3c6d0f910f6260",
      "value": "tokenizer.json: 100%"
     }
    },
    "fae1fc679b6845008fc7bf0ac84682ba": {
     "model_module": "@jupyter-widgets/controls",
     "model_module_version": "1.5.0",
     "model_name": "ProgressStyleModel",
     "state": {
      "_model_module": "@jupyter-widgets/controls",
      "_model_module_version": "1.5.0",
      "_model_name": "ProgressStyleModel",
      "_view_count": null,
      "_view_module": "@jupyter-widgets/base",
      "_view_module_version": "1.2.0",
      "_view_name": "StyleView",
      "bar_color": null,
      "description_width": ""
     }
    }
   }
  }
 },
 "nbformat": 4,
 "nbformat_minor": 5
}
