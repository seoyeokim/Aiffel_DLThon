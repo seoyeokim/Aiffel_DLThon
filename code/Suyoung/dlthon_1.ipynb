{
 "cells": [
  {
   "cell_type": "code",
   "execution_count": 1,
   "metadata": {},
   "outputs": [],
   "source": [
    "import os\n",
    "import re\n",
    "import json\n",
    "import random\n",
    "import numpy as np\n",
    "import pandas as pd\n",
    "import tensorflow as tf\n",
    "from bs4 import BeautifulSoup\n",
    "import matplotlib.pyplot as plt\n",
    "from sklearn.preprocessing import LabelEncoder\n",
    "from transformers import AutoTokenizer, TFAutoModel\n",
    "import warnings"
   ]
  },
  {
   "cell_type": "code",
   "execution_count": 2,
   "metadata": {},
   "outputs": [],
   "source": [
    "def data_import(data_name):\n",
    "    data_path = os.getenv('HOME')+'/aiffel/project_data/dlthon/'+data_name\n",
    "    imported_data = pd.read_csv(data_path)\n",
    "    return imported_data\n",
    "\n",
    "def cleaning_sentence(sentence):\n",
    "        sentence = sentence.lower()\n",
    "        sentence = re.sub(r\"([?.!,])\", r\" \\1 \", sentence)\n",
    "        sentence = re.sub(r'\\([^)]*\\)', '', sentence)\n",
    "        sentence = re.sub(r'[\" \"]+', \" \", sentence)\n",
    "        sentence = re.sub(\"[^가-힣a-zA-Z0-9\\.\\?\\!,]+\", \" \", sentence)\n",
    "        sentence = re.sub(r'[\\n\\r]+', ' ', sentence)\n",
    "        sentence = sentence.strip()\n",
    "        return sentence\n",
    "\n",
    "def preprocess_sentence(data_list):\n",
    "    retrun_list = []\n",
    "    for sentence_frame in data_list:\n",
    "         befor_df = {}\n",
    "         conv_data = []\n",
    "         class_data = []\n",
    "         class_name = sentence_frame['class'][0]\n",
    "         for sentence in sentence_frame['conversation']:\n",
    "             cleaned_sentence = cleaning_sentence(sentence)\n",
    "             conv_data.append(cleaned_sentence)\n",
    "             class_data.append(class_name)\n",
    "         return_df = pd.DataFrame({'class' : class_data, 'conversation': conv_data})\n",
    "         retrun_list.append(return_df)\n",
    "    return retrun_list\n",
    "\n",
    "def random_deletion(text, prob=0.2):\n",
    "    words = text.split()\n",
    "    if len(words) == 1:\n",
    "        return text\n",
    "    return ' '.join([word for word in words if random.random() > prob])\n",
    "\n",
    "def random_swap(text, n=1):\n",
    "    words = text.split()\n",
    "    for _ in range(n):\n",
    "        idx1, idx2 = random.sample(range(len(words)), 2)\n",
    "        words[idx1], words[idx2] = words[idx2], words[idx1]\n",
    "    return ' '.join(words)\n",
    "\n",
    "def data_aug(data_list, prob, n):\n",
    "    len_data = []\n",
    "\n",
    "    for data in data_list:\n",
    "        len_data.append(len(data))\n",
    "\n",
    "    max_len_of = max(len_data)\n",
    "\n",
    "    return_data = []\n",
    "\n",
    "    for data_set in data_list:\n",
    "        if len(data_set) != max_len_of:\n",
    "            conver_data = []\n",
    "            class_Data = []\n",
    "            return_df = {}\n",
    "            aug_len = max_len_of - len(data_set)\n",
    "            class_name = data_set['class'][0]\n",
    "            for i in range(aug_len): class_Data.append(class_name)\n",
    "            for i in range(aug_len):\n",
    "                choice_num = random.random()\n",
    "                random_seq = data_set['conversation'].sample(1).iloc[0]\n",
    "                if choice_num >= 0.5:\n",
    "                    output_seq = random_deletion(random_seq, prob)\n",
    "                    conver_data.append(output_seq)\n",
    "                else:\n",
    "                    output_seq = random_swap(random_seq, n)\n",
    "                    conver_data.append(output_seq)\n",
    "                    \n",
    "            retrun_df = pd.DataFrame({'class':class_Data, 'conversation':conver_data})\n",
    "        else:\n",
    "            retrun_df = 0\n",
    "\n",
    "        return_data.append(retrun_df)\n",
    "\n",
    "    final_list = []\n",
    "\n",
    "    for auged_data, real_data in zip(return_data, data_list):\n",
    "        if isinstance(auged_data, pd.DataFrame):\n",
    "            real_data = pd.concat([real_data, auged_data])\n",
    "            real_data.reset_index(drop=True, inplace=True)\n",
    "            final_list.append(real_data)\n",
    "        else:\n",
    "            final_list.append(real_data)\n",
    "    \n",
    "    return final_list"
   ]
  },
  {
   "cell_type": "code",
   "execution_count": 3,
   "metadata": {},
   "outputs": [],
   "source": [
    "def cal_len(train, test, rate):\n",
    "    con_data = np.concatenate((train, test), axis = 0)\n",
    "    seg_len = []\n",
    "    spl_len = []\n",
    "    for i in con_data:\n",
    "        single_seg_len = len(i)\n",
    "        seg_len.append(single_seg_len)\n",
    "    for i in con_data:\n",
    "        single_spl_len = len(i.split())\n",
    "        spl_len.append(single_spl_len)\n",
    "    print('spl len is : ', spl_len[int(len(spl_len)*rate)])\n",
    "    print('seg len is : ', seg_len[int(len(seg_len)*rate)])"
   ]
  },
  {
   "cell_type": "code",
   "execution_count": 4,
   "metadata": {},
   "outputs": [],
   "source": [
    "train_data = data_import('train.csv')\n",
    "nomal_data = data_import('nomal_data.csv')"
   ]
  },
  {
   "cell_type": "code",
   "execution_count": 5,
   "metadata": {},
   "outputs": [],
   "source": [
    "train_data = train_data.drop(train_data.columns[0], axis=1)\n",
    "threat_data = train_data[train_data['class'] == '협박 대화']\n",
    "extort_data = train_data[train_data['class'] == '갈취 대화']\n",
    "co_bully_data = train_data[train_data['class'] == '직장 내 괴롭힘 대화']\n",
    "bully_data = train_data[train_data['class'] == '기타 괴롭힘 대화']\n",
    "\n",
    "threat_data.reset_index(drop=True, inplace=True)\n",
    "extort_data.reset_index(drop=True, inplace=True)\n",
    "co_bully_data.reset_index(drop=True, inplace=True)\n",
    "bully_data.reset_index(drop=True, inplace=True)\n",
    "\n",
    "k = []\n",
    "for i in range(nomal_data.shape[0]): k.append('일반 대화')\n",
    "nomal_data['class'] = k\n",
    "nomal_data = nomal_data.rename(columns={'0':'conversation'})\n",
    "nomal_data = nomal_data[['class', 'conversation']]\n",
    "nomal_data = nomal_data.sample(2000)\n",
    "nomal_data.reset_index(drop=True, inplace=True)"
   ]
  },
  {
   "cell_type": "code",
   "execution_count": 6,
   "metadata": {},
   "outputs": [],
   "source": [
    "data_list = [nomal_data, threat_data, extort_data, co_bully_data, bully_data]\n",
    "auged_data_set = data_aug(data_list, 0.2, 2)"
   ]
  },
  {
   "cell_type": "code",
   "execution_count": 7,
   "metadata": {},
   "outputs": [],
   "source": [
    "preprocessed_data_set = preprocess_sentence(auged_data_set)"
   ]
  },
  {
   "cell_type": "code",
   "execution_count": 8,
   "metadata": {},
   "outputs": [],
   "source": [
    "data_set = pd.concat(preprocessed_data_set)"
   ]
  },
  {
   "cell_type": "code",
   "execution_count": 9,
   "metadata": {},
   "outputs": [
    {
     "data": {
      "text/html": [
       "<div>\n",
       "<style scoped>\n",
       "    .dataframe tbody tr th:only-of-type {\n",
       "        vertical-align: middle;\n",
       "    }\n",
       "\n",
       "    .dataframe tbody tr th {\n",
       "        vertical-align: top;\n",
       "    }\n",
       "\n",
       "    .dataframe thead th {\n",
       "        text-align: right;\n",
       "    }\n",
       "</style>\n",
       "<table border=\"1\" class=\"dataframe\">\n",
       "  <thead>\n",
       "    <tr style=\"text-align: right;\">\n",
       "      <th></th>\n",
       "      <th>class</th>\n",
       "      <th>conversation</th>\n",
       "    </tr>\n",
       "  </thead>\n",
       "  <tbody>\n",
       "    <tr>\n",
       "      <th>0</th>\n",
       "      <td>직장 내 괴롭힘 대화</td>\n",
       "      <td>저 이번에 휴가 갔다와도 쉬다가 오고 쉬고싶어 ? 그건 아닌데 . 다른 직원들은 이...</td>\n",
       "    </tr>\n",
       "    <tr>\n",
       "      <th>1</th>\n",
       "      <td>협박 대화</td>\n",
       "      <td>저기요 할아버지 여기 버스 안이기도 한데 환기도 잘 안되니까 마스크 좀 써주세요 ....</td>\n",
       "    </tr>\n",
       "    <tr>\n",
       "      <th>2</th>\n",
       "      <td>협박 대화</td>\n",
       "      <td>밤에 그만 좀 쿵쿵거려요 저번에도 말씀드렸잖아요 네 ? 저희 아이는 밤에 조용히 잠...</td>\n",
       "    </tr>\n",
       "    <tr>\n",
       "      <th>3</th>\n",
       "      <td>기타 괴롭힘 대화</td>\n",
       "      <td>쟤 약간 고릴라 닮지 않았어 ? 풉 그러게 우가우가 야 ! 고릴라 고릴라 흉내좀 내...</td>\n",
       "    </tr>\n",
       "    <tr>\n",
       "      <th>4</th>\n",
       "      <td>직장 내 괴롭힘 대화</td>\n",
       "      <td>박 대리 맨날 지각 하냐 ? 죄송합니다 . 하지만 1분 늦었어요 1분은 시간 아니야...</td>\n",
       "    </tr>\n",
       "    <tr>\n",
       "      <th>...</th>\n",
       "      <td>...</td>\n",
       "      <td>...</td>\n",
       "    </tr>\n",
       "    <tr>\n",
       "      <th>9995</th>\n",
       "      <td>일반 대화</td>\n",
       "      <td>이건 무슨 오일이에요 ? 어디에다 바르는 거죠 ? 코코넛오일이구요 , 바디나 페이스...</td>\n",
       "    </tr>\n",
       "    <tr>\n",
       "      <th>9996</th>\n",
       "      <td>일반 대화</td>\n",
       "      <td>네 , 그 다음으로 어떤 케이크가 잘나가요 ? 그 다음으로 지금 다 초코케이크라 블...</td>\n",
       "    </tr>\n",
       "    <tr>\n",
       "      <th>9997</th>\n",
       "      <td>협박 대화</td>\n",
       "      <td>다 죽여버릴꺼야 ! ! ! 가스통 이거 터트리고 다 같이 죽는거야 ! ! ! 선생님...</td>\n",
       "    </tr>\n",
       "    <tr>\n",
       "      <th>9998</th>\n",
       "      <td>직장 내 괴롭힘 대화</td>\n",
       "      <td>주 등산 ! 안 가도 되니까 불참자 편히 말해줘요 . 저 . 과장님 저 이번에 . ...</td>\n",
       "    </tr>\n",
       "    <tr>\n",
       "      <th>9999</th>\n",
       "      <td>기타 괴롭힘 대화</td>\n",
       "      <td>야 너 00오빠랑 어제 가는거 봤다 ? 그게 뭐 어쨌다고 그 오빠 다전남친이야 나랑...</td>\n",
       "    </tr>\n",
       "  </tbody>\n",
       "</table>\n",
       "<p>10000 rows × 2 columns</p>\n",
       "</div>"
      ],
      "text/plain": [
       "            class                                       conversation\n",
       "0     직장 내 괴롭힘 대화  저 이번에 휴가 갔다와도 쉬다가 오고 쉬고싶어 ? 그건 아닌데 . 다른 직원들은 이...\n",
       "1           협박 대화  저기요 할아버지 여기 버스 안이기도 한데 환기도 잘 안되니까 마스크 좀 써주세요 ....\n",
       "2           협박 대화  밤에 그만 좀 쿵쿵거려요 저번에도 말씀드렸잖아요 네 ? 저희 아이는 밤에 조용히 잠...\n",
       "3       기타 괴롭힘 대화  쟤 약간 고릴라 닮지 않았어 ? 풉 그러게 우가우가 야 ! 고릴라 고릴라 흉내좀 내...\n",
       "4     직장 내 괴롭힘 대화  박 대리 맨날 지각 하냐 ? 죄송합니다 . 하지만 1분 늦었어요 1분은 시간 아니야...\n",
       "...           ...                                                ...\n",
       "9995        일반 대화  이건 무슨 오일이에요 ? 어디에다 바르는 거죠 ? 코코넛오일이구요 , 바디나 페이스...\n",
       "9996        일반 대화  네 , 그 다음으로 어떤 케이크가 잘나가요 ? 그 다음으로 지금 다 초코케이크라 블...\n",
       "9997        협박 대화  다 죽여버릴꺼야 ! ! ! 가스통 이거 터트리고 다 같이 죽는거야 ! ! ! 선생님...\n",
       "9998  직장 내 괴롭힘 대화  주 등산 ! 안 가도 되니까 불참자 편히 말해줘요 . 저 . 과장님 저 이번에 . ...\n",
       "9999    기타 괴롭힘 대화  야 너 00오빠랑 어제 가는거 봤다 ? 그게 뭐 어쨌다고 그 오빠 다전남친이야 나랑...\n",
       "\n",
       "[10000 rows x 2 columns]"
      ]
     },
     "execution_count": 9,
     "metadata": {},
     "output_type": "execute_result"
    }
   ],
   "source": [
    "for i in range(10):\n",
    "    data_set = data_set.sample(frac=1)\n",
    "    data_set.reset_index(drop=True, inplace=True)\n",
    "\n",
    "data_set"
   ]
  },
  {
   "cell_type": "code",
   "execution_count": 10,
   "metadata": {},
   "outputs": [
    {
     "data": {
      "text/html": [
       "<div>\n",
       "<style scoped>\n",
       "    .dataframe tbody tr th:only-of-type {\n",
       "        vertical-align: middle;\n",
       "    }\n",
       "\n",
       "    .dataframe tbody tr th {\n",
       "        vertical-align: top;\n",
       "    }\n",
       "\n",
       "    .dataframe thead th {\n",
       "        text-align: right;\n",
       "    }\n",
       "</style>\n",
       "<table border=\"1\" class=\"dataframe\">\n",
       "  <thead>\n",
       "    <tr style=\"text-align: right;\">\n",
       "      <th></th>\n",
       "      <th>class</th>\n",
       "      <th>conversation</th>\n",
       "    </tr>\n",
       "  </thead>\n",
       "  <tbody>\n",
       "    <tr>\n",
       "      <th>0</th>\n",
       "      <td>3</td>\n",
       "      <td>저 이번에 휴가 갔다와도 쉬다가 오고 쉬고싶어 ? 그건 아닌데 . 다른 직원들은 이...</td>\n",
       "    </tr>\n",
       "    <tr>\n",
       "      <th>1</th>\n",
       "      <td>4</td>\n",
       "      <td>저기요 할아버지 여기 버스 안이기도 한데 환기도 잘 안되니까 마스크 좀 써주세요 ....</td>\n",
       "    </tr>\n",
       "    <tr>\n",
       "      <th>2</th>\n",
       "      <td>4</td>\n",
       "      <td>밤에 그만 좀 쿵쿵거려요 저번에도 말씀드렸잖아요 네 ? 저희 아이는 밤에 조용히 잠...</td>\n",
       "    </tr>\n",
       "    <tr>\n",
       "      <th>3</th>\n",
       "      <td>1</td>\n",
       "      <td>쟤 약간 고릴라 닮지 않았어 ? 풉 그러게 우가우가 야 ! 고릴라 고릴라 흉내좀 내...</td>\n",
       "    </tr>\n",
       "    <tr>\n",
       "      <th>4</th>\n",
       "      <td>3</td>\n",
       "      <td>박 대리 맨날 지각 하냐 ? 죄송합니다 . 하지만 1분 늦었어요 1분은 시간 아니야...</td>\n",
       "    </tr>\n",
       "    <tr>\n",
       "      <th>...</th>\n",
       "      <td>...</td>\n",
       "      <td>...</td>\n",
       "    </tr>\n",
       "    <tr>\n",
       "      <th>9995</th>\n",
       "      <td>2</td>\n",
       "      <td>이건 무슨 오일이에요 ? 어디에다 바르는 거죠 ? 코코넛오일이구요 , 바디나 페이스...</td>\n",
       "    </tr>\n",
       "    <tr>\n",
       "      <th>9996</th>\n",
       "      <td>2</td>\n",
       "      <td>네 , 그 다음으로 어떤 케이크가 잘나가요 ? 그 다음으로 지금 다 초코케이크라 블...</td>\n",
       "    </tr>\n",
       "    <tr>\n",
       "      <th>9997</th>\n",
       "      <td>4</td>\n",
       "      <td>다 죽여버릴꺼야 ! ! ! 가스통 이거 터트리고 다 같이 죽는거야 ! ! ! 선생님...</td>\n",
       "    </tr>\n",
       "    <tr>\n",
       "      <th>9998</th>\n",
       "      <td>3</td>\n",
       "      <td>주 등산 ! 안 가도 되니까 불참자 편히 말해줘요 . 저 . 과장님 저 이번에 . ...</td>\n",
       "    </tr>\n",
       "    <tr>\n",
       "      <th>9999</th>\n",
       "      <td>1</td>\n",
       "      <td>야 너 00오빠랑 어제 가는거 봤다 ? 그게 뭐 어쨌다고 그 오빠 다전남친이야 나랑...</td>\n",
       "    </tr>\n",
       "  </tbody>\n",
       "</table>\n",
       "<p>10000 rows × 2 columns</p>\n",
       "</div>"
      ],
      "text/plain": [
       "      class                                       conversation\n",
       "0         3  저 이번에 휴가 갔다와도 쉬다가 오고 쉬고싶어 ? 그건 아닌데 . 다른 직원들은 이...\n",
       "1         4  저기요 할아버지 여기 버스 안이기도 한데 환기도 잘 안되니까 마스크 좀 써주세요 ....\n",
       "2         4  밤에 그만 좀 쿵쿵거려요 저번에도 말씀드렸잖아요 네 ? 저희 아이는 밤에 조용히 잠...\n",
       "3         1  쟤 약간 고릴라 닮지 않았어 ? 풉 그러게 우가우가 야 ! 고릴라 고릴라 흉내좀 내...\n",
       "4         3  박 대리 맨날 지각 하냐 ? 죄송합니다 . 하지만 1분 늦었어요 1분은 시간 아니야...\n",
       "...     ...                                                ...\n",
       "9995      2  이건 무슨 오일이에요 ? 어디에다 바르는 거죠 ? 코코넛오일이구요 , 바디나 페이스...\n",
       "9996      2  네 , 그 다음으로 어떤 케이크가 잘나가요 ? 그 다음으로 지금 다 초코케이크라 블...\n",
       "9997      4  다 죽여버릴꺼야 ! ! ! 가스통 이거 터트리고 다 같이 죽는거야 ! ! ! 선생님...\n",
       "9998      3  주 등산 ! 안 가도 되니까 불참자 편히 말해줘요 . 저 . 과장님 저 이번에 . ...\n",
       "9999      1  야 너 00오빠랑 어제 가는거 봤다 ? 그게 뭐 어쨌다고 그 오빠 다전남친이야 나랑...\n",
       "\n",
       "[10000 rows x 2 columns]"
      ]
     },
     "execution_count": 10,
     "metadata": {},
     "output_type": "execute_result"
    }
   ],
   "source": [
    "convert = LabelEncoder()\n",
    "data_set['class'] = convert.fit_transform(data_set['class'])\n",
    "\n",
    "data_set"
   ]
  },
  {
   "cell_type": "code",
   "execution_count": 11,
   "metadata": {},
   "outputs": [
    {
     "data": {
      "text/plain": [
       "array(['갈취 대화', '기타 괴롭힘 대화', '일반 대화', '직장 내 괴롭힘 대화', '협박 대화'],\n",
       "      dtype=object)"
      ]
     },
     "execution_count": 11,
     "metadata": {},
     "output_type": "execute_result"
    }
   ],
   "source": [
    "convert.classes_"
   ]
  },
  {
   "cell_type": "code",
   "execution_count": 12,
   "metadata": {},
   "outputs": [],
   "source": [
    "train_data = np.array(data_set['conversation'][:int(0.8*len(data_set))], dtype = str)\n",
    "train_label = np.array(data_set['class'][:int(0.8*len(data_set))], dtype = 'int32')\n",
    "test_data = np.array(data_set['conversation'][int(0.8*len(data_set)):], dtype = str)\n",
    "test_label = np.array(data_set['class'][int(0.8*len(data_set)):], dtype = 'int32')"
   ]
  },
  {
   "cell_type": "code",
   "execution_count": 13,
   "metadata": {},
   "outputs": [
    {
     "name": "stdout",
     "output_type": "stream",
     "text": [
      "spl len is :  145\n",
      "seg len is :  460\n"
     ]
    }
   ],
   "source": [
    "cal_len(train_data, test_data, 0.8)"
   ]
  },
  {
   "cell_type": "code",
   "execution_count": 14,
   "metadata": {},
   "outputs": [
    {
     "name": "stderr",
     "output_type": "stream",
     "text": [
      "All model checkpoint layers were used when initializing TFBertModel.\n",
      "\n",
      "All the layers of TFBertModel were initialized from the model checkpoint at sentence-transformers/paraphrase-multilingual-MiniLM-L12-v2.\n",
      "If your task is similar to the task the model of the checkpoint was trained on, you can already use TFBertModel for predictions without further training.\n"
     ]
    }
   ],
   "source": [
    "bert_model = TFAutoModel.from_pretrained('sentence-transformers/paraphrase-multilingual-MiniLM-L12-v2', output_hidden_states=True)\n",
    "tokenizer = AutoTokenizer.from_pretrained('sentence-transformers/paraphrase-multilingual-MiniLM-L12-v2')"
   ]
  },
  {
   "cell_type": "code",
   "execution_count": 15,
   "metadata": {},
   "outputs": [],
   "source": [
    "def bert_encode(datas, sent_max_length):\n",
    "    input_ids = []\n",
    "    attention_masks = []\n",
    "    \n",
    "    for sent in datas:\n",
    "        encoded = tokenizer.encode_plus(sent,\n",
    "                                        add_special_tokens = True,\n",
    "                                        max_length = sent_max_length,\n",
    "                                        padding='max_length',\n",
    "                                        truncation = True,\n",
    "                                        return_attention_mask=True)\n",
    "        input_ids.append(encoded['input_ids'])\n",
    "        attention_masks.append(encoded['attention_mask'])\n",
    "    return np.array(input_ids), np.array(attention_masks)"
   ]
  },
  {
   "cell_type": "code",
   "execution_count": 16,
   "metadata": {},
   "outputs": [],
   "source": [
    "train_input_ids, train_attention_mask = bert_encode(train_data, 200)"
   ]
  },
  {
   "cell_type": "code",
   "execution_count": 17,
   "metadata": {},
   "outputs": [
    {
     "data": {
      "text/plain": [
       "array([[     0,  13913, 165880, ...,      1,      1,      1],\n",
       "       [     0,  13913,   1503, ...,   8048,  15313,      2],\n",
       "       [     0,  76799,    480, ...,      1,      1,      1],\n",
       "       ...,\n",
       "       [     0,  52338,   6685, ...,      1,      1,      1],\n",
       "       [     0,  52367,   1504, ...,   4253,      6,      2],\n",
       "       [     0,   7592, 123642, ...,   1190,   4253,      2]])"
      ]
     },
     "execution_count": 17,
     "metadata": {},
     "output_type": "execute_result"
    }
   ],
   "source": [
    "train_input_ids"
   ]
  },
  {
   "cell_type": "code",
   "execution_count": 18,
   "metadata": {},
   "outputs": [
    {
     "data": {
      "text/plain": [
       "array([3, 4, 4, ..., 1, 1, 4], dtype=int32)"
      ]
     },
     "execution_count": 18,
     "metadata": {},
     "output_type": "execute_result"
    }
   ],
   "source": [
    "train_label"
   ]
  },
  {
   "cell_type": "code",
   "execution_count": 19,
   "metadata": {},
   "outputs": [],
   "source": [
    "from tensorflow.keras.optimizers import Adam"
   ]
  },
  {
   "cell_type": "code",
   "execution_count": 20,
   "metadata": {},
   "outputs": [],
   "source": [
    "def create_model(bert_model):\n",
    "    input_ids = tf.keras.Input(shape=(200,), dtype=tf.int32)\n",
    "    attention_mask = tf.keras.Input(shape=(200,), dtype=tf.int32)\n",
    "    \n",
    "    output = bert_model([input_ids, attention_mask])\n",
    "    output = output.last_hidden_state[:,0,:]\n",
    "    output = tf.keras.layers.Dense(32, activation='relu')(output)\n",
    "    output = tf.keras.layers.Dropout(0.2)(output)\n",
    "    output = tf.keras.layers.Dense(5, activation='softmax')(output)\n",
    "    \n",
    "    model = tf.keras.Model(inputs = [input_ids, attention_mask], outputs = output)\n",
    "    model.compile(Adam(learning_rate=0.0001),loss='sparse_categorical_crossentropy', metrics=['accuracy'])\n",
    "    \n",
    "    return model"
   ]
  },
  {
   "cell_type": "code",
   "execution_count": 21,
   "metadata": {},
   "outputs": [
    {
     "name": "stdout",
     "output_type": "stream",
     "text": [
      "Model: \"model\"\n",
      "__________________________________________________________________________________________________\n",
      "Layer (type)                    Output Shape         Param #     Connected to                     \n",
      "==================================================================================================\n",
      "input_1 (InputLayer)            [(None, 200)]        0                                            \n",
      "__________________________________________________________________________________________________\n",
      "input_2 (InputLayer)            [(None, 200)]        0                                            \n",
      "__________________________________________________________________________________________________\n",
      "tf_bert_model (TFBertModel)     TFBaseModelOutputWit 117653760   input_1[0][0]                    \n",
      "                                                                 input_2[0][0]                    \n",
      "__________________________________________________________________________________________________\n",
      "tf.__operators__.getitem (Slici (None, 384)          0           tf_bert_model[0][13]             \n",
      "__________________________________________________________________________________________________\n",
      "dense (Dense)                   (None, 32)           12320       tf.__operators__.getitem[0][0]   \n",
      "__________________________________________________________________________________________________\n",
      "dropout_37 (Dropout)            (None, 32)           0           dense[0][0]                      \n",
      "__________________________________________________________________________________________________\n",
      "dense_1 (Dense)                 (None, 5)            165         dropout_37[0][0]                 \n",
      "==================================================================================================\n",
      "Total params: 117,666,245\n",
      "Trainable params: 117,666,245\n",
      "Non-trainable params: 0\n",
      "__________________________________________________________________________________________________\n"
     ]
    }
   ],
   "source": [
    "use_bert_model = create_model(bert_model)\n",
    "use_bert_model.summary()"
   ]
  },
  {
   "cell_type": "code",
   "execution_count": 22,
   "metadata": {},
   "outputs": [],
   "source": [
    "tf.keras.backend.clear_session()"
   ]
  },
  {
   "cell_type": "code",
   "execution_count": 23,
   "metadata": {
    "scrolled": false
   },
   "outputs": [
    {
     "name": "stdout",
     "output_type": "stream",
     "text": [
      "Epoch 1/10\n",
      "WARNING:tensorflow:Gradients do not exist for variables ['tf_bert_model/bert/pooler/dense/kernel:0', 'tf_bert_model/bert/pooler/dense/bias:0'] when minimizing the loss.\n",
      "WARNING:tensorflow:Gradients do not exist for variables ['tf_bert_model/bert/pooler/dense/kernel:0', 'tf_bert_model/bert/pooler/dense/bias:0'] when minimizing the loss.\n",
      "400/400 [==============================] - 137s 322ms/step - loss: 0.5099 - accuracy: 0.8333 - val_loss: 0.3561 - val_accuracy: 0.8844\n",
      "Epoch 2/10\n",
      "400/400 [==============================] - 129s 322ms/step - loss: 0.2575 - accuracy: 0.9209 - val_loss: 0.3831 - val_accuracy: 0.8800\n",
      "Epoch 3/10\n",
      "400/400 [==============================] - 129s 322ms/step - loss: 0.1932 - accuracy: 0.9420 - val_loss: 0.3329 - val_accuracy: 0.9050\n",
      "Epoch 4/10\n",
      "400/400 [==============================] - 129s 324ms/step - loss: 0.1292 - accuracy: 0.9600 - val_loss: 0.3420 - val_accuracy: 0.9187\n",
      "Epoch 5/10\n",
      "400/400 [==============================] - 141s 352ms/step - loss: 0.0804 - accuracy: 0.9753 - val_loss: 0.3866 - val_accuracy: 0.9112\n",
      "Epoch 6/10\n",
      "400/400 [==============================] - 129s 322ms/step - loss: 0.0772 - accuracy: 0.9789 - val_loss: 0.3567 - val_accuracy: 0.9150\n",
      "Epoch 7/10\n",
      "400/400 [==============================] - 129s 322ms/step - loss: 0.0616 - accuracy: 0.9820 - val_loss: 0.3821 - val_accuracy: 0.9156\n",
      "Epoch 8/10\n",
      "400/400 [==============================] - 129s 322ms/step - loss: 0.0575 - accuracy: 0.9855 - val_loss: 0.3826 - val_accuracy: 0.9150\n",
      "Epoch 9/10\n",
      "400/400 [==============================] - 129s 322ms/step - loss: 0.0528 - accuracy: 0.9861 - val_loss: 0.3308 - val_accuracy: 0.9337\n",
      "Epoch 10/10\n",
      "400/400 [==============================] - 129s 322ms/step - loss: 0.0614 - accuracy: 0.9828 - val_loss: 0.3280 - val_accuracy: 0.9281\n"
     ]
    }
   ],
   "source": [
    "history = use_bert_model.fit([train_input_ids, train_attention_mask], train_label, validation_split=0.2, epochs = 10, batch_size=16)"
   ]
  },
  {
   "cell_type": "code",
   "execution_count": 24,
   "metadata": {},
   "outputs": [],
   "source": [
    "test_input_ids, test_attention_mask = bert_encode(test_data, 200)"
   ]
  },
  {
   "cell_type": "code",
   "execution_count": 31,
   "metadata": {},
   "outputs": [
    {
     "data": {
      "text/plain": [
       "(8000, 200)"
      ]
     },
     "execution_count": 31,
     "metadata": {},
     "output_type": "execute_result"
    }
   ],
   "source": [
    "train_input_ids.shape"
   ]
  },
  {
   "cell_type": "code",
   "execution_count": 30,
   "metadata": {},
   "outputs": [
    {
     "data": {
      "text/plain": [
       "(2000, 200)"
      ]
     },
     "execution_count": 30,
     "metadata": {},
     "output_type": "execute_result"
    }
   ],
   "source": [
    "test_input_ids.shape"
   ]
  },
  {
   "cell_type": "code",
   "execution_count": 32,
   "metadata": {},
   "outputs": [
    {
     "name": "stdout",
     "output_type": "stream",
     "text": [
      "63/63 [==============================] - 11s 174ms/step - loss: 0.2998 - accuracy: 0.9370\n"
     ]
    },
    {
     "data": {
      "text/plain": [
       "[0.2998300790786743, 0.9369999766349792]"
      ]
     },
     "execution_count": 32,
     "metadata": {},
     "output_type": "execute_result"
    }
   ],
   "source": [
    "use_bert_model.evaluate([test_input_ids, test_attention_mask], test_label)"
   ]
  },
  {
   "cell_type": "code",
   "execution_count": 33,
   "metadata": {},
   "outputs": [],
   "source": [
    "final_data = data_import('test.csv')"
   ]
  },
  {
   "cell_type": "code",
   "execution_count": 36,
   "metadata": {},
   "outputs": [],
   "source": [
    "final_data = np.array(final_data['text'], dtype = str)"
   ]
  },
  {
   "cell_type": "code",
   "execution_count": 38,
   "metadata": {},
   "outputs": [
    {
     "data": {
      "text/plain": [
       "(500,)"
      ]
     },
     "execution_count": 38,
     "metadata": {},
     "output_type": "execute_result"
    }
   ],
   "source": [
    "final_data.shape"
   ]
  },
  {
   "cell_type": "code",
   "execution_count": 39,
   "metadata": {},
   "outputs": [],
   "source": [
    "final_input_ids, final_attention_mask = bert_encode(final_data, 200)"
   ]
  },
  {
   "cell_type": "code",
   "execution_count": 40,
   "metadata": {},
   "outputs": [
    {
     "data": {
      "text/plain": [
       "(500, 200)"
      ]
     },
     "execution_count": 40,
     "metadata": {},
     "output_type": "execute_result"
    }
   ],
   "source": [
    "final_input_ids.shape"
   ]
  },
  {
   "cell_type": "code",
   "execution_count": 41,
   "metadata": {},
   "outputs": [],
   "source": [
    "predictions  = use_bert_model.predict([final_input_ids, final_attention_mask])"
   ]
  },
  {
   "cell_type": "code",
   "execution_count": 42,
   "metadata": {},
   "outputs": [],
   "source": [
    "predicted_classes = np.argmax(predictions, axis=1)"
   ]
  },
  {
   "cell_type": "code",
   "execution_count": 43,
   "metadata": {},
   "outputs": [
    {
     "data": {
      "text/plain": [
       "array([0, 3, 3, 1, 3, 4, 4, 0, 3, 0, 4, 1, 3, 3, 3, 1, 4, 1, 4, 1, 4, 1,\n",
       "       1, 0, 0, 3, 1, 1, 3, 1, 0, 4, 1, 0, 4, 1, 1, 4, 4, 0, 4, 0, 3, 0,\n",
       "       1, 3, 4, 1, 1, 4, 0, 1, 0, 3, 3, 1, 1, 1, 1, 1, 0, 1, 4, 1, 3, 4,\n",
       "       1, 1, 2, 0, 1, 3, 1, 3, 4, 3, 3, 0, 3, 1, 1, 4, 2, 4, 1, 3, 4, 1,\n",
       "       0, 3, 1, 3, 4, 1, 1, 3, 1, 3, 4, 3, 0, 0, 1, 4, 3, 3, 3, 1, 1, 4,\n",
       "       1, 4, 4, 3, 0, 0, 1, 3, 1, 0, 1, 1, 0, 0, 4, 0, 3, 0, 0, 1, 1, 1,\n",
       "       3, 1, 4, 4, 1, 4, 1, 1, 1, 1, 0, 1, 3, 4, 4, 4, 4, 0, 4, 1, 2, 2,\n",
       "       1, 1, 4, 3, 1, 1, 4, 1, 3, 4, 1, 1, 3, 1, 1, 1, 4, 3, 3, 1, 1, 1,\n",
       "       3, 3, 0, 1, 3, 1, 0, 3, 4, 1, 1, 4, 0, 1, 4, 1, 0, 3, 0, 4, 1, 0,\n",
       "       1, 1, 3, 1, 1, 3, 4, 1, 3, 1, 3, 3, 4, 0, 1, 3, 0, 1, 1, 1, 4, 4,\n",
       "       0, 3, 3, 1, 4, 1, 0, 4, 0, 1, 3, 4, 1, 1, 0, 1, 1, 0, 4, 1, 1, 1,\n",
       "       1, 3, 1, 0, 3, 1, 3, 1, 4, 3, 4, 3, 3, 0, 1, 3, 0, 3, 0, 4, 4, 1,\n",
       "       3, 1, 1, 4, 1, 1, 0, 1, 4, 3, 0, 3, 3, 1, 3, 3, 0, 4, 1, 3, 3, 3,\n",
       "       0, 3, 4, 1, 0, 0, 1, 1, 3, 1, 1, 1, 0, 4, 3, 1, 4, 3, 0, 0, 1, 1,\n",
       "       1, 3, 4, 0, 1, 1, 3, 1, 4, 1, 1, 0, 3, 4, 4, 0, 0, 0, 0, 1, 3, 1,\n",
       "       0, 4, 4, 1, 0, 4, 1, 0, 1, 1, 3, 3, 4, 4, 0, 3, 1, 0, 4, 4, 4, 3,\n",
       "       0, 1, 0, 3, 1, 1, 1, 0, 1, 1, 0, 1, 3, 1, 0, 3, 4, 1, 3, 3, 4, 3,\n",
       "       3, 1, 0, 1, 0, 4, 3, 4, 3, 4, 1, 1, 1, 4, 4, 1, 0, 4, 1, 3, 0, 1,\n",
       "       4, 1, 0, 1, 1, 1, 3, 3, 1, 1, 1, 1, 3, 0, 4, 1, 1, 3, 3, 4, 0, 0,\n",
       "       0, 4, 0, 4, 1, 1, 1, 0, 4, 3, 3, 4, 1, 1, 0, 4, 0, 1, 4, 1, 0, 3,\n",
       "       1, 4, 3, 1, 0, 3, 4, 3, 3, 1, 0, 1, 3, 1, 3, 4, 3, 3, 0, 4, 4, 0,\n",
       "       0, 3, 3, 1, 1, 3, 1, 4, 3, 0, 4, 1, 3, 3, 0, 1, 1, 3, 2, 1, 0, 4,\n",
       "       0, 1, 1, 3, 0, 1, 1, 2, 4, 0, 0, 3, 3, 0, 4, 4])"
      ]
     },
     "execution_count": 43,
     "metadata": {},
     "output_type": "execute_result"
    }
   ],
   "source": [
    "predicted_classes"
   ]
  },
  {
   "cell_type": "code",
   "execution_count": 44,
   "metadata": {},
   "outputs": [],
   "source": [
    "predicted_classes_df = pd.DataFrame(predicted_classes)"
   ]
  },
  {
   "cell_type": "code",
   "execution_count": 45,
   "metadata": {},
   "outputs": [
    {
     "data": {
      "text/html": [
       "<div>\n",
       "<style scoped>\n",
       "    .dataframe tbody tr th:only-of-type {\n",
       "        vertical-align: middle;\n",
       "    }\n",
       "\n",
       "    .dataframe tbody tr th {\n",
       "        vertical-align: top;\n",
       "    }\n",
       "\n",
       "    .dataframe thead th {\n",
       "        text-align: right;\n",
       "    }\n",
       "</style>\n",
       "<table border=\"1\" class=\"dataframe\">\n",
       "  <thead>\n",
       "    <tr style=\"text-align: right;\">\n",
       "      <th></th>\n",
       "      <th>0</th>\n",
       "    </tr>\n",
       "  </thead>\n",
       "  <tbody>\n",
       "    <tr>\n",
       "      <th>0</th>\n",
       "      <td>0</td>\n",
       "    </tr>\n",
       "    <tr>\n",
       "      <th>1</th>\n",
       "      <td>3</td>\n",
       "    </tr>\n",
       "    <tr>\n",
       "      <th>2</th>\n",
       "      <td>3</td>\n",
       "    </tr>\n",
       "    <tr>\n",
       "      <th>3</th>\n",
       "      <td>1</td>\n",
       "    </tr>\n",
       "    <tr>\n",
       "      <th>4</th>\n",
       "      <td>3</td>\n",
       "    </tr>\n",
       "    <tr>\n",
       "      <th>...</th>\n",
       "      <td>...</td>\n",
       "    </tr>\n",
       "    <tr>\n",
       "      <th>495</th>\n",
       "      <td>3</td>\n",
       "    </tr>\n",
       "    <tr>\n",
       "      <th>496</th>\n",
       "      <td>3</td>\n",
       "    </tr>\n",
       "    <tr>\n",
       "      <th>497</th>\n",
       "      <td>0</td>\n",
       "    </tr>\n",
       "    <tr>\n",
       "      <th>498</th>\n",
       "      <td>4</td>\n",
       "    </tr>\n",
       "    <tr>\n",
       "      <th>499</th>\n",
       "      <td>4</td>\n",
       "    </tr>\n",
       "  </tbody>\n",
       "</table>\n",
       "<p>500 rows × 1 columns</p>\n",
       "</div>"
      ],
      "text/plain": [
       "     0\n",
       "0    0\n",
       "1    3\n",
       "2    3\n",
       "3    1\n",
       "4    3\n",
       "..  ..\n",
       "495  3\n",
       "496  3\n",
       "497  0\n",
       "498  4\n",
       "499  4\n",
       "\n",
       "[500 rows x 1 columns]"
      ]
     },
     "execution_count": 45,
     "metadata": {},
     "output_type": "execute_result"
    }
   ],
   "source": [
    "predicted_classes_df"
   ]
  },
  {
   "cell_type": "code",
   "execution_count": 47,
   "metadata": {},
   "outputs": [
    {
     "data": {
      "text/html": [
       "<div>\n",
       "<style scoped>\n",
       "    .dataframe tbody tr th:only-of-type {\n",
       "        vertical-align: middle;\n",
       "    }\n",
       "\n",
       "    .dataframe tbody tr th {\n",
       "        vertical-align: top;\n",
       "    }\n",
       "\n",
       "    .dataframe thead th {\n",
       "        text-align: right;\n",
       "    }\n",
       "</style>\n",
       "<table border=\"1\" class=\"dataframe\">\n",
       "  <thead>\n",
       "    <tr style=\"text-align: right;\">\n",
       "      <th></th>\n",
       "      <th>0</th>\n",
       "      <th>encoded_label</th>\n",
       "    </tr>\n",
       "  </thead>\n",
       "  <tbody>\n",
       "    <tr>\n",
       "      <th>0</th>\n",
       "      <td>0</td>\n",
       "      <td>갈취 대화</td>\n",
       "    </tr>\n",
       "    <tr>\n",
       "      <th>1</th>\n",
       "      <td>3</td>\n",
       "      <td>직장 내 괴롭힘 대화</td>\n",
       "    </tr>\n",
       "    <tr>\n",
       "      <th>2</th>\n",
       "      <td>3</td>\n",
       "      <td>직장 내 괴롭힘 대화</td>\n",
       "    </tr>\n",
       "    <tr>\n",
       "      <th>3</th>\n",
       "      <td>1</td>\n",
       "      <td>기타 괴롭힘 대화</td>\n",
       "    </tr>\n",
       "    <tr>\n",
       "      <th>4</th>\n",
       "      <td>3</td>\n",
       "      <td>직장 내 괴롭힘 대화</td>\n",
       "    </tr>\n",
       "  </tbody>\n",
       "</table>\n",
       "</div>"
      ],
      "text/plain": [
       "   0 encoded_label\n",
       "0  0         갈취 대화\n",
       "1  3   직장 내 괴롭힘 대화\n",
       "2  3   직장 내 괴롭힘 대화\n",
       "3  1     기타 괴롭힘 대화\n",
       "4  3   직장 내 괴롭힘 대화"
      ]
     },
     "execution_count": 47,
     "metadata": {},
     "output_type": "execute_result"
    }
   ],
   "source": [
    "label_map = {0: '갈취 대화', 1: '기타 괴롭힘 대화', 2: '일반 대화', 3: '직장 내 괴롭힘 대화', 4: '협박 대화'}\n",
    "\n",
    "predicted_classes_df['encoded_label'] = predicted_classes_df[0].map(label_map)\n",
    "\n",
    "predicted_classes_df.head()"
   ]
  },
  {
   "cell_type": "code",
   "execution_count": 49,
   "metadata": {},
   "outputs": [
    {
     "data": {
      "text/plain": [
       "(500, 2)"
      ]
     },
     "execution_count": 49,
     "metadata": {},
     "output_type": "execute_result"
    }
   ],
   "source": [
    "predicted_classes_df.shape"
   ]
  },
  {
   "cell_type": "code",
   "execution_count": 50,
   "metadata": {},
   "outputs": [],
   "source": [
    "sub_data = data_import('submission.csv')"
   ]
  },
  {
   "cell_type": "code",
   "execution_count": 51,
   "metadata": {},
   "outputs": [
    {
     "data": {
      "text/plain": [
       "(500, 2)"
      ]
     },
     "execution_count": 51,
     "metadata": {},
     "output_type": "execute_result"
    }
   ],
   "source": [
    "sub_data.shape"
   ]
  },
  {
   "cell_type": "code",
   "execution_count": 53,
   "metadata": {},
   "outputs": [
    {
     "data": {
      "text/html": [
       "<div>\n",
       "<style scoped>\n",
       "    .dataframe tbody tr th:only-of-type {\n",
       "        vertical-align: middle;\n",
       "    }\n",
       "\n",
       "    .dataframe tbody tr th {\n",
       "        vertical-align: top;\n",
       "    }\n",
       "\n",
       "    .dataframe thead th {\n",
       "        text-align: right;\n",
       "    }\n",
       "</style>\n",
       "<table border=\"1\" class=\"dataframe\">\n",
       "  <thead>\n",
       "    <tr style=\"text-align: right;\">\n",
       "      <th></th>\n",
       "      <th>file_name</th>\n",
       "      <th>class</th>\n",
       "    </tr>\n",
       "  </thead>\n",
       "  <tbody>\n",
       "    <tr>\n",
       "      <th>0</th>\n",
       "      <td>t_000</td>\n",
       "      <td>NaN</td>\n",
       "    </tr>\n",
       "    <tr>\n",
       "      <th>1</th>\n",
       "      <td>t_001</td>\n",
       "      <td>NaN</td>\n",
       "    </tr>\n",
       "    <tr>\n",
       "      <th>2</th>\n",
       "      <td>t_002</td>\n",
       "      <td>NaN</td>\n",
       "    </tr>\n",
       "    <tr>\n",
       "      <th>3</th>\n",
       "      <td>t_003</td>\n",
       "      <td>NaN</td>\n",
       "    </tr>\n",
       "    <tr>\n",
       "      <th>4</th>\n",
       "      <td>t_004</td>\n",
       "      <td>NaN</td>\n",
       "    </tr>\n",
       "  </tbody>\n",
       "</table>\n",
       "</div>"
      ],
      "text/plain": [
       "  file_name  class\n",
       "0     t_000    NaN\n",
       "1     t_001    NaN\n",
       "2     t_002    NaN\n",
       "3     t_003    NaN\n",
       "4     t_004    NaN"
      ]
     },
     "execution_count": 53,
     "metadata": {},
     "output_type": "execute_result"
    }
   ],
   "source": [
    "sub_data.head()"
   ]
  },
  {
   "cell_type": "code",
   "execution_count": 54,
   "metadata": {},
   "outputs": [],
   "source": [
    "id_col = sub_data['file_name']"
   ]
  },
  {
   "cell_type": "code",
   "execution_count": 56,
   "metadata": {
    "scrolled": true
   },
   "outputs": [
    {
     "data": {
      "text/plain": [
       "0      t_000\n",
       "1      t_001\n",
       "2      t_002\n",
       "3      t_003\n",
       "4      t_004\n",
       "       ...  \n",
       "495    t_495\n",
       "496    t_496\n",
       "497    t_497\n",
       "498    t_498\n",
       "499    t_499\n",
       "Name: file_name, Length: 500, dtype: object"
      ]
     },
     "execution_count": 56,
     "metadata": {},
     "output_type": "execute_result"
    }
   ],
   "source": [
    "id_col"
   ]
  },
  {
   "cell_type": "code",
   "execution_count": 57,
   "metadata": {},
   "outputs": [
    {
     "data": {
      "text/html": [
       "<div>\n",
       "<style scoped>\n",
       "    .dataframe tbody tr th:only-of-type {\n",
       "        vertical-align: middle;\n",
       "    }\n",
       "\n",
       "    .dataframe tbody tr th {\n",
       "        vertical-align: top;\n",
       "    }\n",
       "\n",
       "    .dataframe thead th {\n",
       "        text-align: right;\n",
       "    }\n",
       "</style>\n",
       "<table border=\"1\" class=\"dataframe\">\n",
       "  <thead>\n",
       "    <tr style=\"text-align: right;\">\n",
       "      <th></th>\n",
       "      <th>0</th>\n",
       "      <th>encoded_label</th>\n",
       "      <th>class</th>\n",
       "    </tr>\n",
       "  </thead>\n",
       "  <tbody>\n",
       "    <tr>\n",
       "      <th>0</th>\n",
       "      <td>0</td>\n",
       "      <td>갈취 대화</td>\n",
       "      <td>1</td>\n",
       "    </tr>\n",
       "    <tr>\n",
       "      <th>1</th>\n",
       "      <td>3</td>\n",
       "      <td>직장 내 괴롭힘 대화</td>\n",
       "      <td>2</td>\n",
       "    </tr>\n",
       "    <tr>\n",
       "      <th>2</th>\n",
       "      <td>3</td>\n",
       "      <td>직장 내 괴롭힘 대화</td>\n",
       "      <td>2</td>\n",
       "    </tr>\n",
       "    <tr>\n",
       "      <th>3</th>\n",
       "      <td>1</td>\n",
       "      <td>기타 괴롭힘 대화</td>\n",
       "      <td>3</td>\n",
       "    </tr>\n",
       "    <tr>\n",
       "      <th>4</th>\n",
       "      <td>3</td>\n",
       "      <td>직장 내 괴롭힘 대화</td>\n",
       "      <td>2</td>\n",
       "    </tr>\n",
       "  </tbody>\n",
       "</table>\n",
       "</div>"
      ],
      "text/plain": [
       "   0 encoded_label  class\n",
       "0  0         갈취 대화      1\n",
       "1  3   직장 내 괴롭힘 대화      2\n",
       "2  3   직장 내 괴롭힘 대화      2\n",
       "3  1     기타 괴롭힘 대화      3\n",
       "4  3   직장 내 괴롭힘 대화      2"
      ]
     },
     "execution_count": 57,
     "metadata": {},
     "output_type": "execute_result"
    }
   ],
   "source": [
    "label_map_for_sub = {'협박 대화': 0, '갈취 대화': 1, '직장 내 괴롭힘 대화': 2, '기타 괴롭힘 대화': 3, '일반 대화': 4}\n",
    "\n",
    "predicted_classes_df['class'] = predicted_classes_df['encoded_label'].map(label_map_for_sub)\n",
    "\n",
    "predicted_classes_df.head()"
   ]
  },
  {
   "cell_type": "code",
   "execution_count": 58,
   "metadata": {},
   "outputs": [],
   "source": [
    "classis = predicted_classes_df['class']"
   ]
  },
  {
   "cell_type": "code",
   "execution_count": 61,
   "metadata": {},
   "outputs": [],
   "source": [
    "id_col = list(id_col)\n",
    "classis = list(classis)"
   ]
  },
  {
   "cell_type": "code",
   "execution_count": 63,
   "metadata": {},
   "outputs": [],
   "source": [
    "sub_dict = {\"idx\" : id_col, \"class\" : classis}"
   ]
  },
  {
   "cell_type": "code",
   "execution_count": 65,
   "metadata": {},
   "outputs": [],
   "source": [
    "submission = pd.DataFrame(sub_dict)"
   ]
  },
  {
   "cell_type": "code",
   "execution_count": 66,
   "metadata": {},
   "outputs": [
    {
     "data": {
      "text/html": [
       "<div>\n",
       "<style scoped>\n",
       "    .dataframe tbody tr th:only-of-type {\n",
       "        vertical-align: middle;\n",
       "    }\n",
       "\n",
       "    .dataframe tbody tr th {\n",
       "        vertical-align: top;\n",
       "    }\n",
       "\n",
       "    .dataframe thead th {\n",
       "        text-align: right;\n",
       "    }\n",
       "</style>\n",
       "<table border=\"1\" class=\"dataframe\">\n",
       "  <thead>\n",
       "    <tr style=\"text-align: right;\">\n",
       "      <th></th>\n",
       "      <th>idx</th>\n",
       "      <th>class</th>\n",
       "    </tr>\n",
       "  </thead>\n",
       "  <tbody>\n",
       "    <tr>\n",
       "      <th>0</th>\n",
       "      <td>t_000</td>\n",
       "      <td>1</td>\n",
       "    </tr>\n",
       "    <tr>\n",
       "      <th>1</th>\n",
       "      <td>t_001</td>\n",
       "      <td>2</td>\n",
       "    </tr>\n",
       "    <tr>\n",
       "      <th>2</th>\n",
       "      <td>t_002</td>\n",
       "      <td>2</td>\n",
       "    </tr>\n",
       "    <tr>\n",
       "      <th>3</th>\n",
       "      <td>t_003</td>\n",
       "      <td>3</td>\n",
       "    </tr>\n",
       "    <tr>\n",
       "      <th>4</th>\n",
       "      <td>t_004</td>\n",
       "      <td>2</td>\n",
       "    </tr>\n",
       "  </tbody>\n",
       "</table>\n",
       "</div>"
      ],
      "text/plain": [
       "     idx  class\n",
       "0  t_000      1\n",
       "1  t_001      2\n",
       "2  t_002      2\n",
       "3  t_003      3\n",
       "4  t_004      2"
      ]
     },
     "execution_count": 66,
     "metadata": {},
     "output_type": "execute_result"
    }
   ],
   "source": [
    "submission.head()"
   ]
  },
  {
   "cell_type": "code",
   "execution_count": 67,
   "metadata": {},
   "outputs": [],
   "source": [
    "submission.to_csv(os.getenv('HOME')+\"/aiffel/project_data/dlthon/submission.csv\", index=False)"
   ]
  }
 ],
 "metadata": {
  "kernelspec": {
   "display_name": "Python 3 (ipykernel)",
   "language": "python",
   "name": "python3"
  },
  "language_info": {
   "codemirror_mode": {
    "name": "ipython",
    "version": 3
   },
   "file_extension": ".py",
   "mimetype": "text/x-python",
   "name": "python",
   "nbconvert_exporter": "python",
   "pygments_lexer": "ipython3",
   "version": "3.9.7"
  }
 },
 "nbformat": 4,
 "nbformat_minor": 2
}
