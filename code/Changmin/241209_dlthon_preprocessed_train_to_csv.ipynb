{
 "cells": [
  {
   "cell_type": "markdown",
   "id": "1407478b",
   "metadata": {},
   "source": [
    "## 기존 데이터 로드"
   ]
  },
  {
   "cell_type": "code",
   "execution_count": 1,
   "id": "6a63f668",
   "metadata": {},
   "outputs": [],
   "source": [
    "import pandas as pd"
   ]
  },
  {
   "cell_type": "code",
   "execution_count": 2,
   "id": "22e8a854",
   "metadata": {},
   "outputs": [],
   "source": [
    "train_file_path = '../aiffel/train.csv'\n",
    "test_file_path = '../aiffel/test.csv'\n",
    "\n",
    "train_df = pd.read_csv(train_file_path)\n",
    "test_df = pd.read_csv(test_file_path)"
   ]
  },
  {
   "cell_type": "code",
   "execution_count": 3,
   "id": "8460fedc",
   "metadata": {},
   "outputs": [
    {
     "name": "stdout",
     "output_type": "stream",
     "text": [
      "train_df 전체 샘플 수 : 3950\n",
      "test_df 전체 샘플 수 : 500\n"
     ]
    }
   ],
   "source": [
    "print('train_df 전체 샘플 수 :', len(train_df))\n",
    "print('test_df 전체 샘플 수 :', len(test_df))"
   ]
  },
  {
   "cell_type": "code",
   "execution_count": 4,
   "id": "89db110c",
   "metadata": {},
   "outputs": [
    {
     "data": {
      "text/html": [
       "<div>\n",
       "<style scoped>\n",
       "    .dataframe tbody tr th:only-of-type {\n",
       "        vertical-align: middle;\n",
       "    }\n",
       "\n",
       "    .dataframe tbody tr th {\n",
       "        vertical-align: top;\n",
       "    }\n",
       "\n",
       "    .dataframe thead th {\n",
       "        text-align: right;\n",
       "    }\n",
       "</style>\n",
       "<table border=\"1\" class=\"dataframe\">\n",
       "  <thead>\n",
       "    <tr style=\"text-align: right;\">\n",
       "      <th></th>\n",
       "      <th>idx</th>\n",
       "      <th>class</th>\n",
       "      <th>conversation</th>\n",
       "    </tr>\n",
       "  </thead>\n",
       "  <tbody>\n",
       "    <tr>\n",
       "      <th>0</th>\n",
       "      <td>0</td>\n",
       "      <td>협박 대화</td>\n",
       "      <td>지금 너 스스로를 죽여달라고 애원하는 것인가?\\n 아닙니다. 죄송합니다.\\n 죽을 ...</td>\n",
       "    </tr>\n",
       "    <tr>\n",
       "      <th>1</th>\n",
       "      <td>1</td>\n",
       "      <td>협박 대화</td>\n",
       "      <td>길동경찰서입니다.\\n9시 40분 마트에 폭발물을 설치할거다.\\n네?\\n똑바로 들어 ...</td>\n",
       "    </tr>\n",
       "    <tr>\n",
       "      <th>2</th>\n",
       "      <td>2</td>\n",
       "      <td>기타 괴롭힘 대화</td>\n",
       "      <td>너 되게 귀여운거 알지? 나보다 작은 남자는 첨봤어.\\n그만해. 니들 놀리는거 재미...</td>\n",
       "    </tr>\n",
       "    <tr>\n",
       "      <th>3</th>\n",
       "      <td>3</td>\n",
       "      <td>갈취 대화</td>\n",
       "      <td>어이 거기\\n예??\\n너 말이야 너. 이리 오라고\\n무슨 일.\\n너 옷 좋아보인다?...</td>\n",
       "    </tr>\n",
       "    <tr>\n",
       "      <th>4</th>\n",
       "      <td>4</td>\n",
       "      <td>갈취 대화</td>\n",
       "      <td>저기요 혹시 날이 너무 뜨겁잖아요? 저희 회사에서 이 선크림 파는데 한 번 손등에 ...</td>\n",
       "    </tr>\n",
       "  </tbody>\n",
       "</table>\n",
       "</div>"
      ],
      "text/plain": [
       "   idx      class                                       conversation\n",
       "0    0      협박 대화  지금 너 스스로를 죽여달라고 애원하는 것인가?\\n 아닙니다. 죄송합니다.\\n 죽을 ...\n",
       "1    1      협박 대화  길동경찰서입니다.\\n9시 40분 마트에 폭발물을 설치할거다.\\n네?\\n똑바로 들어 ...\n",
       "2    2  기타 괴롭힘 대화  너 되게 귀여운거 알지? 나보다 작은 남자는 첨봤어.\\n그만해. 니들 놀리는거 재미...\n",
       "3    3      갈취 대화  어이 거기\\n예??\\n너 말이야 너. 이리 오라고\\n무슨 일.\\n너 옷 좋아보인다?...\n",
       "4    4      갈취 대화  저기요 혹시 날이 너무 뜨겁잖아요? 저희 회사에서 이 선크림 파는데 한 번 손등에 ..."
      ]
     },
     "execution_count": 4,
     "metadata": {},
     "output_type": "execute_result"
    }
   ],
   "source": [
    "train_df.head()"
   ]
  },
  {
   "cell_type": "code",
   "execution_count": 5,
   "id": "5dde9780",
   "metadata": {},
   "outputs": [
    {
     "data": {
      "text/html": [
       "<div>\n",
       "<style scoped>\n",
       "    .dataframe tbody tr th:only-of-type {\n",
       "        vertical-align: middle;\n",
       "    }\n",
       "\n",
       "    .dataframe tbody tr th {\n",
       "        vertical-align: top;\n",
       "    }\n",
       "\n",
       "    .dataframe thead th {\n",
       "        text-align: right;\n",
       "    }\n",
       "</style>\n",
       "<table border=\"1\" class=\"dataframe\">\n",
       "  <thead>\n",
       "    <tr style=\"text-align: right;\">\n",
       "      <th></th>\n",
       "      <th>idx</th>\n",
       "      <th>text</th>\n",
       "    </tr>\n",
       "  </thead>\n",
       "  <tbody>\n",
       "    <tr>\n",
       "      <th>0</th>\n",
       "      <td>t_000</td>\n",
       "      <td>아가씨 담배한갑주소 네 4500원입니다 어 네 지갑어디갔지 에이 버스에서 잃어버렸나...</td>\n",
       "    </tr>\n",
       "    <tr>\n",
       "      <th>1</th>\n",
       "      <td>t_001</td>\n",
       "      <td>우리팀에서 다른팀으로 갈 사람 없나? 그럼 영지씨가 가는건 어때?  네? 제가요? ...</td>\n",
       "    </tr>\n",
       "    <tr>\n",
       "      <th>2</th>\n",
       "      <td>t_002</td>\n",
       "      <td>너 오늘 그게 뭐야 네 제가 뭘 잘못했나요.? 제대로 좀 하지 네 똑바로 좀 하지 ...</td>\n",
       "    </tr>\n",
       "    <tr>\n",
       "      <th>3</th>\n",
       "      <td>t_003</td>\n",
       "      <td>이거 들어바 와 이 노래 진짜 좋다 그치 요즘 이 것만 들어 진짜 너무 좋다 내가 ...</td>\n",
       "    </tr>\n",
       "    <tr>\n",
       "      <th>4</th>\n",
       "      <td>t_004</td>\n",
       "      <td>아무튼 앞으로 니가 내 와이파이야. .응 와이파이 온. 켰어. 반말? 주인님이라고도...</td>\n",
       "    </tr>\n",
       "  </tbody>\n",
       "</table>\n",
       "</div>"
      ],
      "text/plain": [
       "     idx                                               text\n",
       "0  t_000  아가씨 담배한갑주소 네 4500원입니다 어 네 지갑어디갔지 에이 버스에서 잃어버렸나...\n",
       "1  t_001  우리팀에서 다른팀으로 갈 사람 없나? 그럼 영지씨가 가는건 어때?  네? 제가요? ...\n",
       "2  t_002  너 오늘 그게 뭐야 네 제가 뭘 잘못했나요.? 제대로 좀 하지 네 똑바로 좀 하지 ...\n",
       "3  t_003  이거 들어바 와 이 노래 진짜 좋다 그치 요즘 이 것만 들어 진짜 너무 좋다 내가 ...\n",
       "4  t_004  아무튼 앞으로 니가 내 와이파이야. .응 와이파이 온. 켰어. 반말? 주인님이라고도..."
      ]
     },
     "execution_count": 5,
     "metadata": {},
     "output_type": "execute_result"
    }
   ],
   "source": [
    "test_df.head()"
   ]
  },
  {
   "cell_type": "markdown",
   "id": "e3e3fc77",
   "metadata": {},
   "source": [
    "## 텍스트 전처리"
   ]
  },
  {
   "cell_type": "code",
   "execution_count": 6,
   "id": "3808bafb",
   "metadata": {},
   "outputs": [],
   "source": [
    "from glob import glob"
   ]
  },
  {
   "cell_type": "code",
   "execution_count": 7,
   "id": "3ee1a4e4",
   "metadata": {},
   "outputs": [],
   "source": [
    "# AIHUB에서 수집한 데이터 로드\n",
    "def load_collected_data(file_path):\n",
    "    df = pd.read_csv(file_path)\n",
    "    \n",
    "    df['class'] = \"일반 대화\"\n",
    "    \n",
    "    # 대화를 몇 번 주고 받았는지 확인\n",
    "    df[\"turn_num\"] = df[\"conversation\"].apply(lambda x : len(x.split(\"\\n\")))\n",
    "    \n",
    "    \n",
    "    # 너무 긴 대화는 삭제\n",
    "    df = df[(df[\"turn_num\"] >= 4) & (df[\"turn_num\"] <= 15)][[\"class\", \"conversation\"]]\n",
    "    print(len(df))\n",
    "    \n",
    "    return df"
   ]
  },
  {
   "cell_type": "code",
   "execution_count": 8,
   "id": "e1dddc84",
   "metadata": {},
   "outputs": [],
   "source": [
    "# 결측치 제거\n",
    "def remove_nan(x):\n",
    "    # 결측치나 빈 문자열이 있으면 None을 반환 (삭제 효과)\n",
    "    if pd.isna(x) or x == '':\n",
    "        return None  # None을 반환하면 해당 값이 삭제됨\n",
    "    return x"
   ]
  },
  {
   "cell_type": "code",
   "execution_count": 27,
   "id": "cbb2f358",
   "metadata": {},
   "outputs": [],
   "source": [
    "# 특수문자, 공백 제거\n",
    "def remove_punctuation(x):\n",
    "  x = re.sub(\"[^ㄱ-ㅎ가-힣]+\", \" \", x)\n",
    "  x = re.sub(\"[ ]+\", \" \", x)\n",
    "  x = x.strip()\n",
    "  return x"
   ]
  },
  {
   "cell_type": "code",
   "execution_count": 9,
   "id": "fd757037",
   "metadata": {},
   "outputs": [],
   "source": [
    "# 라벨 정수 인코딩\n",
    "def label_encoder(x):\n",
    "    label_map = {'협박 대화': 0, '갈취 대화': 1, '직장 내 괴롭힘 대화': 2, '기타 괴롭힘 대화': 3, '일반 대화': 4}\n",
    "    x['encoded_label'] = x['class'].map(label_map)\n",
    "    print(x['encoded_label'].unique())\n",
    "    \n",
    "    return x"
   ]
  },
  {
   "cell_type": "markdown",
   "id": "607d55af",
   "metadata": {},
   "source": [
    "## 함수 적용"
   ]
  },
  {
   "cell_type": "code",
   "execution_count": 10,
   "id": "41f10cce",
   "metadata": {},
   "outputs": [
    {
     "name": "stdout",
     "output_type": "stream",
     "text": [
      "58271\n",
      "4256\n",
      "570\n",
      "593\n"
     ]
    }
   ],
   "source": [
    "# 수집한 일반 대화 클래스 데이터셋 로드 \n",
    "file_path_1 = '../aiffel/emotion_dialogue.csv' # AIHUB 감성 대화\n",
    "file_path_2 = '../aiffel/korean_dialogue.csv' # AIHUB 한국어 대화\n",
    "file_path_3 = '../aiffel/instagram.csv' # 인스타그램 대화\n",
    "file_path_4 = '../aiffel/band.csv' # 밴드 대화\n",
    "\n",
    "normal_train_df_1 = load_collected_data(file_path_1)\n",
    "normal_train_df_2 = load_collected_data(file_path_2)\n",
    "normal_train_df_3 = load_collected_data(file_path_3)\n",
    "normal_train_df_4 = load_collected_data(file_path_4)"
   ]
  },
  {
   "cell_type": "code",
   "execution_count": 28,
   "id": "9c224a57",
   "metadata": {},
   "outputs": [
    {
     "name": "stdout",
     "output_type": "stream",
     "text": [
      "(67640, 3)\n",
      "              idx  conversation\n",
      "class                          \n",
      "갈취 대화         981           981\n",
      "기타 괴롭힘 대화    1094          1094\n",
      "일반 대화           0         63690\n",
      "직장 내 괴롭힘 대화   979           979\n",
      "협박 대화         896           896\n"
     ]
    },
    {
     "data": {
      "text/html": [
       "<div>\n",
       "<style scoped>\n",
       "    .dataframe tbody tr th:only-of-type {\n",
       "        vertical-align: middle;\n",
       "    }\n",
       "\n",
       "    .dataframe tbody tr th {\n",
       "        vertical-align: top;\n",
       "    }\n",
       "\n",
       "    .dataframe thead th {\n",
       "        text-align: right;\n",
       "    }\n",
       "</style>\n",
       "<table border=\"1\" class=\"dataframe\">\n",
       "  <thead>\n",
       "    <tr style=\"text-align: right;\">\n",
       "      <th></th>\n",
       "      <th>idx</th>\n",
       "      <th>class</th>\n",
       "      <th>conversation</th>\n",
       "    </tr>\n",
       "  </thead>\n",
       "  <tbody>\n",
       "    <tr>\n",
       "      <th>0</th>\n",
       "      <td>0.0</td>\n",
       "      <td>협박 대화</td>\n",
       "      <td>지금 너 스스로를 죽여달라고 애원하는 것인가?\\n 아닙니다. 죄송합니다.\\n 죽을 ...</td>\n",
       "    </tr>\n",
       "    <tr>\n",
       "      <th>1</th>\n",
       "      <td>1.0</td>\n",
       "      <td>협박 대화</td>\n",
       "      <td>길동경찰서입니다.\\n9시 40분 마트에 폭발물을 설치할거다.\\n네?\\n똑바로 들어 ...</td>\n",
       "    </tr>\n",
       "    <tr>\n",
       "      <th>2</th>\n",
       "      <td>2.0</td>\n",
       "      <td>기타 괴롭힘 대화</td>\n",
       "      <td>너 되게 귀여운거 알지? 나보다 작은 남자는 첨봤어.\\n그만해. 니들 놀리는거 재미...</td>\n",
       "    </tr>\n",
       "    <tr>\n",
       "      <th>3</th>\n",
       "      <td>3.0</td>\n",
       "      <td>갈취 대화</td>\n",
       "      <td>어이 거기\\n예??\\n너 말이야 너. 이리 오라고\\n무슨 일.\\n너 옷 좋아보인다?...</td>\n",
       "    </tr>\n",
       "    <tr>\n",
       "      <th>4</th>\n",
       "      <td>4.0</td>\n",
       "      <td>갈취 대화</td>\n",
       "      <td>저기요 혹시 날이 너무 뜨겁잖아요? 저희 회사에서 이 선크림 파는데 한 번 손등에 ...</td>\n",
       "    </tr>\n",
       "  </tbody>\n",
       "</table>\n",
       "</div>"
      ],
      "text/plain": [
       "   idx      class                                       conversation\n",
       "0  0.0      협박 대화  지금 너 스스로를 죽여달라고 애원하는 것인가?\\n 아닙니다. 죄송합니다.\\n 죽을 ...\n",
       "1  1.0      협박 대화  길동경찰서입니다.\\n9시 40분 마트에 폭발물을 설치할거다.\\n네?\\n똑바로 들어 ...\n",
       "2  2.0  기타 괴롭힘 대화  너 되게 귀여운거 알지? 나보다 작은 남자는 첨봤어.\\n그만해. 니들 놀리는거 재미...\n",
       "3  3.0      갈취 대화  어이 거기\\n예??\\n너 말이야 너. 이리 오라고\\n무슨 일.\\n너 옷 좋아보인다?...\n",
       "4  4.0      갈취 대화  저기요 혹시 날이 너무 뜨겁잖아요? 저희 회사에서 이 선크림 파는데 한 번 손등에 ..."
      ]
     },
     "execution_count": 28,
     "metadata": {},
     "output_type": "execute_result"
    }
   ],
   "source": [
    "# 훈련 데이터 모두 합치고 확인\n",
    "train = pd.concat([train_df, normal_train_df_1, normal_train_df_2, normal_train_df_3, normal_train_df_4], axis = 0)\n",
    "print(train.shape)\n",
    "print(train.groupby(\"class\").count())\n",
    "train.head()"
   ]
  },
  {
   "cell_type": "code",
   "execution_count": 29,
   "id": "8939cb1e",
   "metadata": {
    "scrolled": false
   },
   "outputs": [
    {
     "name": "stdout",
     "output_type": "stream",
     "text": [
      "[0 3 1 2 4]\n"
     ]
    },
    {
     "data": {
      "text/html": [
       "<div>\n",
       "<style scoped>\n",
       "    .dataframe tbody tr th:only-of-type {\n",
       "        vertical-align: middle;\n",
       "    }\n",
       "\n",
       "    .dataframe tbody tr th {\n",
       "        vertical-align: top;\n",
       "    }\n",
       "\n",
       "    .dataframe thead th {\n",
       "        text-align: right;\n",
       "    }\n",
       "</style>\n",
       "<table border=\"1\" class=\"dataframe\">\n",
       "  <thead>\n",
       "    <tr style=\"text-align: right;\">\n",
       "      <th></th>\n",
       "      <th>idx</th>\n",
       "      <th>class</th>\n",
       "      <th>conversation</th>\n",
       "      <th>encoded_label</th>\n",
       "    </tr>\n",
       "  </thead>\n",
       "  <tbody>\n",
       "    <tr>\n",
       "      <th>0</th>\n",
       "      <td>0.0</td>\n",
       "      <td>협박 대화</td>\n",
       "      <td>지금 너 스스로를 죽여달라고 애원하는 것인가?\\n 아닙니다. 죄송합니다.\\n 죽을 ...</td>\n",
       "      <td>0</td>\n",
       "    </tr>\n",
       "    <tr>\n",
       "      <th>1</th>\n",
       "      <td>1.0</td>\n",
       "      <td>협박 대화</td>\n",
       "      <td>길동경찰서입니다.\\n9시 40분 마트에 폭발물을 설치할거다.\\n네?\\n똑바로 들어 ...</td>\n",
       "      <td>0</td>\n",
       "    </tr>\n",
       "    <tr>\n",
       "      <th>2</th>\n",
       "      <td>2.0</td>\n",
       "      <td>기타 괴롭힘 대화</td>\n",
       "      <td>너 되게 귀여운거 알지? 나보다 작은 남자는 첨봤어.\\n그만해. 니들 놀리는거 재미...</td>\n",
       "      <td>3</td>\n",
       "    </tr>\n",
       "    <tr>\n",
       "      <th>3</th>\n",
       "      <td>3.0</td>\n",
       "      <td>갈취 대화</td>\n",
       "      <td>어이 거기\\n예??\\n너 말이야 너. 이리 오라고\\n무슨 일.\\n너 옷 좋아보인다?...</td>\n",
       "      <td>1</td>\n",
       "    </tr>\n",
       "    <tr>\n",
       "      <th>4</th>\n",
       "      <td>4.0</td>\n",
       "      <td>갈취 대화</td>\n",
       "      <td>저기요 혹시 날이 너무 뜨겁잖아요? 저희 회사에서 이 선크림 파는데 한 번 손등에 ...</td>\n",
       "      <td>1</td>\n",
       "    </tr>\n",
       "  </tbody>\n",
       "</table>\n",
       "</div>"
      ],
      "text/plain": [
       "   idx      class                                       conversation  \\\n",
       "0  0.0      협박 대화  지금 너 스스로를 죽여달라고 애원하는 것인가?\\n 아닙니다. 죄송합니다.\\n 죽을 ...   \n",
       "1  1.0      협박 대화  길동경찰서입니다.\\n9시 40분 마트에 폭발물을 설치할거다.\\n네?\\n똑바로 들어 ...   \n",
       "2  2.0  기타 괴롭힘 대화  너 되게 귀여운거 알지? 나보다 작은 남자는 첨봤어.\\n그만해. 니들 놀리는거 재미...   \n",
       "3  3.0      갈취 대화  어이 거기\\n예??\\n너 말이야 너. 이리 오라고\\n무슨 일.\\n너 옷 좋아보인다?...   \n",
       "4  4.0      갈취 대화  저기요 혹시 날이 너무 뜨겁잖아요? 저희 회사에서 이 선크림 파는데 한 번 손등에 ...   \n",
       "\n",
       "   encoded_label  \n",
       "0              0  \n",
       "1              0  \n",
       "2              3  \n",
       "3              1  \n",
       "4              1  "
      ]
     },
     "execution_count": 29,
     "metadata": {},
     "output_type": "execute_result"
    }
   ],
   "source": [
    "# 정수 라벨링\n",
    "label_map = {'협박 대화': 0, '갈취 대화': 1, '직장 내 괴롭힘 대화': 2, '기타 괴롭힘 대화': 3, '일반 대화': 4}\n",
    "train['encoded_label'] = train['class'].map(label_map)\n",
    "print(train['encoded_label'].unique())\n",
    "\n",
    "train.head()"
   ]
  },
  {
   "cell_type": "code",
   "execution_count": 20,
   "id": "02b9fb7a",
   "metadata": {},
   "outputs": [],
   "source": [
    "from tqdm import tqdm\n",
    "import re"
   ]
  },
  {
   "cell_type": "markdown",
   "id": "85fe188f",
   "metadata": {},
   "source": [
    "---\n",
    "## 구분자 제거 (preprocessed_train.csv)"
   ]
  },
  {
   "cell_type": "code",
   "execution_count": 30,
   "id": "1dbe2c07",
   "metadata": {
    "scrolled": false
   },
   "outputs": [
    {
     "name": "stdout",
     "output_type": "stream",
     "text": [
      "(67640, 3)\n",
      "             conversation  encoded_label\n",
      "class                                   \n",
      "갈취 대화                 981            981\n",
      "기타 괴롭힘 대화            1094           1094\n",
      "일반 대화               63690          63690\n",
      "직장 내 괴롭힘 대화           979            979\n",
      "협박 대화                 896            896\n"
     ]
    },
    {
     "data": {
      "text/html": [
       "<div>\n",
       "<style scoped>\n",
       "    .dataframe tbody tr th:only-of-type {\n",
       "        vertical-align: middle;\n",
       "    }\n",
       "\n",
       "    .dataframe tbody tr th {\n",
       "        vertical-align: top;\n",
       "    }\n",
       "\n",
       "    .dataframe thead th {\n",
       "        text-align: right;\n",
       "    }\n",
       "</style>\n",
       "<table border=\"1\" class=\"dataframe\">\n",
       "  <thead>\n",
       "    <tr style=\"text-align: right;\">\n",
       "      <th></th>\n",
       "      <th>class</th>\n",
       "      <th>conversation</th>\n",
       "      <th>encoded_label</th>\n",
       "    </tr>\n",
       "  </thead>\n",
       "  <tbody>\n",
       "    <tr>\n",
       "      <th>0</th>\n",
       "      <td>일반 대화</td>\n",
       "      <td>모임만 가면 여행을 갔다고 자랑하는 친구 때문에 짜증이 나 친구 때문에 짜증이 나셨...</td>\n",
       "      <td>4</td>\n",
       "    </tr>\n",
       "    <tr>\n",
       "      <th>1</th>\n",
       "      <td>일반 대화</td>\n",
       "      <td>직장 동료 중에 명예퇴직 당한 사람이 있어 안타까운 이야기네요 마음이 어떠세요 나도...</td>\n",
       "      <td>4</td>\n",
       "    </tr>\n",
       "    <tr>\n",
       "      <th>2</th>\n",
       "      <td>일반 대화</td>\n",
       "      <td>건강 검진을 했는데 수치를 어떻게 해석해야 하는 건지 모르겠어 건강 검진 결과의 수...</td>\n",
       "      <td>4</td>\n",
       "    </tr>\n",
       "    <tr>\n",
       "      <th>3</th>\n",
       "      <td>일반 대화</td>\n",
       "      <td>아내가 아이들 결혼자금으로 모아두었던 노후 자금을 쓰자고 해서 당혹스러워 갑자기 아...</td>\n",
       "      <td>4</td>\n",
       "    </tr>\n",
       "    <tr>\n",
       "      <th>4</th>\n",
       "      <td>일반 대화</td>\n",
       "      <td>친구가 몸 좋은 나를 부러워해서 자꾸 많이 먹이려고 헤서 화가 나 시기가 많은 친구...</td>\n",
       "      <td>4</td>\n",
       "    </tr>\n",
       "  </tbody>\n",
       "</table>\n",
       "</div>"
      ],
      "text/plain": [
       "   class                                       conversation  encoded_label\n",
       "0  일반 대화  모임만 가면 여행을 갔다고 자랑하는 친구 때문에 짜증이 나 친구 때문에 짜증이 나셨...              4\n",
       "1  일반 대화  직장 동료 중에 명예퇴직 당한 사람이 있어 안타까운 이야기네요 마음이 어떠세요 나도...              4\n",
       "2  일반 대화  건강 검진을 했는데 수치를 어떻게 해석해야 하는 건지 모르겠어 건강 검진 결과의 수...              4\n",
       "3  일반 대화  아내가 아이들 결혼자금으로 모아두었던 노후 자금을 쓰자고 해서 당혹스러워 갑자기 아...              4\n",
       "4  일반 대화  친구가 몸 좋은 나를 부러워해서 자꾸 많이 먹이려고 헤서 화가 나 시기가 많은 친구...              4"
      ]
     },
     "execution_count": 30,
     "metadata": {},
     "output_type": "execute_result"
    }
   ],
   "source": [
    "# 앞서 정의한 함수를 데이터셋에 적용 후 확인\n",
    "train[\"conversation\"] = train[\"conversation\"].apply(remove_nan)\n",
    "train[\"conversation\"] = train[\"conversation\"].apply(lambda x : remove_punctuation(x))\n",
    "\n",
    "train = train.sample(frac=1)\n",
    "train = train.reset_index(drop=True)\n",
    "train.drop(columns=['idx'], inplace=True)\n",
    "\n",
    "print(train.shape)\n",
    "print(train.groupby(\"class\").count())\n",
    "\n",
    "train.head()"
   ]
  },
  {
   "cell_type": "code",
   "execution_count": 31,
   "id": "2d87d38c",
   "metadata": {},
   "outputs": [
    {
     "data": {
      "text/html": [
       "<div>\n",
       "<style scoped>\n",
       "    .dataframe tbody tr th:only-of-type {\n",
       "        vertical-align: middle;\n",
       "    }\n",
       "\n",
       "    .dataframe tbody tr th {\n",
       "        vertical-align: top;\n",
       "    }\n",
       "\n",
       "    .dataframe thead th {\n",
       "        text-align: right;\n",
       "    }\n",
       "</style>\n",
       "<table border=\"1\" class=\"dataframe\">\n",
       "  <thead>\n",
       "    <tr style=\"text-align: right;\">\n",
       "      <th></th>\n",
       "      <th>conversation</th>\n",
       "      <th>encoded_label</th>\n",
       "    </tr>\n",
       "  </thead>\n",
       "  <tbody>\n",
       "    <tr>\n",
       "      <th>0</th>\n",
       "      <td>모임만 가면 여행을 갔다고 자랑하는 친구 때문에 짜증이 나 친구 때문에 짜증이 나셨...</td>\n",
       "      <td>4</td>\n",
       "    </tr>\n",
       "    <tr>\n",
       "      <th>1</th>\n",
       "      <td>직장 동료 중에 명예퇴직 당한 사람이 있어 안타까운 이야기네요 마음이 어떠세요 나도...</td>\n",
       "      <td>4</td>\n",
       "    </tr>\n",
       "    <tr>\n",
       "      <th>2</th>\n",
       "      <td>건강 검진을 했는데 수치를 어떻게 해석해야 하는 건지 모르겠어 건강 검진 결과의 수...</td>\n",
       "      <td>4</td>\n",
       "    </tr>\n",
       "    <tr>\n",
       "      <th>3</th>\n",
       "      <td>아내가 아이들 결혼자금으로 모아두었던 노후 자금을 쓰자고 해서 당혹스러워 갑자기 아...</td>\n",
       "      <td>4</td>\n",
       "    </tr>\n",
       "    <tr>\n",
       "      <th>4</th>\n",
       "      <td>친구가 몸 좋은 나를 부러워해서 자꾸 많이 먹이려고 헤서 화가 나 시기가 많은 친구...</td>\n",
       "      <td>4</td>\n",
       "    </tr>\n",
       "  </tbody>\n",
       "</table>\n",
       "</div>"
      ],
      "text/plain": [
       "                                        conversation  encoded_label\n",
       "0  모임만 가면 여행을 갔다고 자랑하는 친구 때문에 짜증이 나 친구 때문에 짜증이 나셨...              4\n",
       "1  직장 동료 중에 명예퇴직 당한 사람이 있어 안타까운 이야기네요 마음이 어떠세요 나도...              4\n",
       "2  건강 검진을 했는데 수치를 어떻게 해석해야 하는 건지 모르겠어 건강 검진 결과의 수...              4\n",
       "3  아내가 아이들 결혼자금으로 모아두었던 노후 자금을 쓰자고 해서 당혹스러워 갑자기 아...              4\n",
       "4  친구가 몸 좋은 나를 부러워해서 자꾸 많이 먹이려고 헤서 화가 나 시기가 많은 친구...              4"
      ]
     },
     "execution_count": 31,
     "metadata": {},
     "output_type": "execute_result"
    }
   ],
   "source": [
    "# 원 라벨 컬럼은 drop\n",
    "train.drop(columns=['class'], inplace=True)\n",
    "\n",
    "train.head()"
   ]
  },
  {
   "cell_type": "code",
   "execution_count": 32,
   "id": "99c9f6fb",
   "metadata": {},
   "outputs": [
    {
     "data": {
      "text/html": [
       "<div>\n",
       "<style scoped>\n",
       "    .dataframe tbody tr th:only-of-type {\n",
       "        vertical-align: middle;\n",
       "    }\n",
       "\n",
       "    .dataframe tbody tr th {\n",
       "        vertical-align: top;\n",
       "    }\n",
       "\n",
       "    .dataframe thead th {\n",
       "        text-align: right;\n",
       "    }\n",
       "</style>\n",
       "<table border=\"1\" class=\"dataframe\">\n",
       "  <thead>\n",
       "    <tr style=\"text-align: right;\">\n",
       "      <th></th>\n",
       "      <th>conversation</th>\n",
       "      <th>class</th>\n",
       "    </tr>\n",
       "  </thead>\n",
       "  <tbody>\n",
       "    <tr>\n",
       "      <th>0</th>\n",
       "      <td>모임만 가면 여행을 갔다고 자랑하는 친구 때문에 짜증이 나 친구 때문에 짜증이 나셨...</td>\n",
       "      <td>4</td>\n",
       "    </tr>\n",
       "    <tr>\n",
       "      <th>1</th>\n",
       "      <td>직장 동료 중에 명예퇴직 당한 사람이 있어 안타까운 이야기네요 마음이 어떠세요 나도...</td>\n",
       "      <td>4</td>\n",
       "    </tr>\n",
       "    <tr>\n",
       "      <th>2</th>\n",
       "      <td>건강 검진을 했는데 수치를 어떻게 해석해야 하는 건지 모르겠어 건강 검진 결과의 수...</td>\n",
       "      <td>4</td>\n",
       "    </tr>\n",
       "    <tr>\n",
       "      <th>3</th>\n",
       "      <td>아내가 아이들 결혼자금으로 모아두었던 노후 자금을 쓰자고 해서 당혹스러워 갑자기 아...</td>\n",
       "      <td>4</td>\n",
       "    </tr>\n",
       "    <tr>\n",
       "      <th>4</th>\n",
       "      <td>친구가 몸 좋은 나를 부러워해서 자꾸 많이 먹이려고 헤서 화가 나 시기가 많은 친구...</td>\n",
       "      <td>4</td>\n",
       "    </tr>\n",
       "  </tbody>\n",
       "</table>\n",
       "</div>"
      ],
      "text/plain": [
       "                                        conversation  class\n",
       "0  모임만 가면 여행을 갔다고 자랑하는 친구 때문에 짜증이 나 친구 때문에 짜증이 나셨...      4\n",
       "1  직장 동료 중에 명예퇴직 당한 사람이 있어 안타까운 이야기네요 마음이 어떠세요 나도...      4\n",
       "2  건강 검진을 했는데 수치를 어떻게 해석해야 하는 건지 모르겠어 건강 검진 결과의 수...      4\n",
       "3  아내가 아이들 결혼자금으로 모아두었던 노후 자금을 쓰자고 해서 당혹스러워 갑자기 아...      4\n",
       "4  친구가 몸 좋은 나를 부러워해서 자꾸 많이 먹이려고 헤서 화가 나 시기가 많은 친구...      4"
      ]
     },
     "execution_count": 32,
     "metadata": {},
     "output_type": "execute_result"
    }
   ],
   "source": [
    "# 정수 인코딩 컬럼은 class로 rename\n",
    "train.rename(columns={'encoded_label': 'class'}, inplace=True)\n",
    "\n",
    "train.head()"
   ]
  },
  {
   "cell_type": "code",
   "execution_count": 33,
   "id": "b37a1f37",
   "metadata": {},
   "outputs": [
    {
     "name": "stdout",
     "output_type": "stream",
     "text": [
      "       conversation\n",
      "class              \n",
      "0               896\n",
      "1               981\n",
      "2               979\n",
      "3              1094\n",
      "4             63690\n"
     ]
    }
   ],
   "source": [
    "print(train.groupby(\"class\").count())"
   ]
  },
  {
   "cell_type": "code",
   "execution_count": 34,
   "id": "171a7599",
   "metadata": {},
   "outputs": [],
   "source": [
    "train.to_csv(\"../aiffel/preprocessed_train.csv\")"
   ]
  },
  {
   "cell_type": "markdown",
   "id": "b2333a41",
   "metadata": {},
   "source": [
    "---\n",
    "## 구분자 포함 (preprocessed_train_raw.csv)"
   ]
  },
  {
   "cell_type": "code",
   "execution_count": 22,
   "id": "53cf3c35",
   "metadata": {},
   "outputs": [
    {
     "name": "stdout",
     "output_type": "stream",
     "text": [
      "(67640, 3)\n",
      "             conversation  encoded_label\n",
      "class                                   \n",
      "갈취 대화                 981            981\n",
      "기타 괴롭힘 대화            1094           1094\n",
      "일반 대화               63690          63690\n",
      "직장 내 괴롭힘 대화           979            979\n",
      "협박 대화                 896            896\n"
     ]
    },
    {
     "data": {
      "text/html": [
       "<div>\n",
       "<style scoped>\n",
       "    .dataframe tbody tr th:only-of-type {\n",
       "        vertical-align: middle;\n",
       "    }\n",
       "\n",
       "    .dataframe tbody tr th {\n",
       "        vertical-align: top;\n",
       "    }\n",
       "\n",
       "    .dataframe thead th {\n",
       "        text-align: right;\n",
       "    }\n",
       "</style>\n",
       "<table border=\"1\" class=\"dataframe\">\n",
       "  <thead>\n",
       "    <tr style=\"text-align: right;\">\n",
       "      <th></th>\n",
       "      <th>class</th>\n",
       "      <th>conversation</th>\n",
       "      <th>encoded_label</th>\n",
       "    </tr>\n",
       "  </thead>\n",
       "  <tbody>\n",
       "    <tr>\n",
       "      <th>0</th>\n",
       "      <td>일반 대화</td>\n",
       "      <td>아이가 아빠 생일이라고 그림을 그려줬어.\\n좋으시겠어요. 자녀분이 그림을 잘 그리나...</td>\n",
       "      <td>4</td>\n",
       "    </tr>\n",
       "    <tr>\n",
       "      <th>1</th>\n",
       "      <td>갈취 대화</td>\n",
       "      <td>야 안녕\\n .어 안녕.\\n 나 오늘 택시비가 없는데 혹시 빌려줄 수 있어 ??\\n...</td>\n",
       "      <td>1</td>\n",
       "    </tr>\n",
       "    <tr>\n",
       "      <th>2</th>\n",
       "      <td>일반 대화</td>\n",
       "      <td>친구들이 내 결혼식장에 오면 우리 부부를 보여주는 게 용기가 나질 않아.\\n친구들에...</td>\n",
       "      <td>4</td>\n",
       "    </tr>\n",
       "    <tr>\n",
       "      <th>3</th>\n",
       "      <td>일반 대화</td>\n",
       "      <td>아들이 이번에 고등학교 졸업했어.\\n이번에 졸업을 하셨다니 졸업 축하 드려요.\\n근...</td>\n",
       "      <td>4</td>\n",
       "    </tr>\n",
       "    <tr>\n",
       "      <th>4</th>\n",
       "      <td>일반 대화</td>\n",
       "      <td>나를 괴롭히던 친구들이 전학을 갔고 안 좋은 사건들을 선생님이 해결해 주어서 기뻐....</td>\n",
       "      <td>4</td>\n",
       "    </tr>\n",
       "  </tbody>\n",
       "</table>\n",
       "</div>"
      ],
      "text/plain": [
       "   class                                       conversation  encoded_label\n",
       "0  일반 대화  아이가 아빠 생일이라고 그림을 그려줬어.\\n좋으시겠어요. 자녀분이 그림을 잘 그리나...              4\n",
       "1  갈취 대화  야 안녕\\n .어 안녕.\\n 나 오늘 택시비가 없는데 혹시 빌려줄 수 있어 ??\\n...              1\n",
       "2  일반 대화  친구들이 내 결혼식장에 오면 우리 부부를 보여주는 게 용기가 나질 않아.\\n친구들에...              4\n",
       "3  일반 대화  아들이 이번에 고등학교 졸업했어.\\n이번에 졸업을 하셨다니 졸업 축하 드려요.\\n근...              4\n",
       "4  일반 대화  나를 괴롭히던 친구들이 전학을 갔고 안 좋은 사건들을 선생님이 해결해 주어서 기뻐....              4"
      ]
     },
     "execution_count": 22,
     "metadata": {},
     "output_type": "execute_result"
    }
   ],
   "source": [
    "train[\"conversation\"] = train[\"conversation\"].apply(remove_nan)\n",
    "\n",
    "train = train.sample(frac=1)\n",
    "train = train.reset_index(drop=True)\n",
    "train.drop(columns=['idx'], inplace=True)\n",
    "\n",
    "print(train.shape)\n",
    "print(train.groupby(\"class\").count())\n",
    "\n",
    "train.head()"
   ]
  },
  {
   "cell_type": "code",
   "execution_count": 23,
   "id": "d47cc799",
   "metadata": {},
   "outputs": [
    {
     "data": {
      "text/html": [
       "<div>\n",
       "<style scoped>\n",
       "    .dataframe tbody tr th:only-of-type {\n",
       "        vertical-align: middle;\n",
       "    }\n",
       "\n",
       "    .dataframe tbody tr th {\n",
       "        vertical-align: top;\n",
       "    }\n",
       "\n",
       "    .dataframe thead th {\n",
       "        text-align: right;\n",
       "    }\n",
       "</style>\n",
       "<table border=\"1\" class=\"dataframe\">\n",
       "  <thead>\n",
       "    <tr style=\"text-align: right;\">\n",
       "      <th></th>\n",
       "      <th>conversation</th>\n",
       "      <th>encoded_label</th>\n",
       "    </tr>\n",
       "  </thead>\n",
       "  <tbody>\n",
       "    <tr>\n",
       "      <th>0</th>\n",
       "      <td>아이가 아빠 생일이라고 그림을 그려줬어.\\n좋으시겠어요. 자녀분이 그림을 잘 그리나...</td>\n",
       "      <td>4</td>\n",
       "    </tr>\n",
       "    <tr>\n",
       "      <th>1</th>\n",
       "      <td>야 안녕\\n .어 안녕.\\n 나 오늘 택시비가 없는데 혹시 빌려줄 수 있어 ??\\n...</td>\n",
       "      <td>1</td>\n",
       "    </tr>\n",
       "    <tr>\n",
       "      <th>2</th>\n",
       "      <td>친구들이 내 결혼식장에 오면 우리 부부를 보여주는 게 용기가 나질 않아.\\n친구들에...</td>\n",
       "      <td>4</td>\n",
       "    </tr>\n",
       "    <tr>\n",
       "      <th>3</th>\n",
       "      <td>아들이 이번에 고등학교 졸업했어.\\n이번에 졸업을 하셨다니 졸업 축하 드려요.\\n근...</td>\n",
       "      <td>4</td>\n",
       "    </tr>\n",
       "    <tr>\n",
       "      <th>4</th>\n",
       "      <td>나를 괴롭히던 친구들이 전학을 갔고 안 좋은 사건들을 선생님이 해결해 주어서 기뻐....</td>\n",
       "      <td>4</td>\n",
       "    </tr>\n",
       "  </tbody>\n",
       "</table>\n",
       "</div>"
      ],
      "text/plain": [
       "                                        conversation  encoded_label\n",
       "0  아이가 아빠 생일이라고 그림을 그려줬어.\\n좋으시겠어요. 자녀분이 그림을 잘 그리나...              4\n",
       "1  야 안녕\\n .어 안녕.\\n 나 오늘 택시비가 없는데 혹시 빌려줄 수 있어 ??\\n...              1\n",
       "2  친구들이 내 결혼식장에 오면 우리 부부를 보여주는 게 용기가 나질 않아.\\n친구들에...              4\n",
       "3  아들이 이번에 고등학교 졸업했어.\\n이번에 졸업을 하셨다니 졸업 축하 드려요.\\n근...              4\n",
       "4  나를 괴롭히던 친구들이 전학을 갔고 안 좋은 사건들을 선생님이 해결해 주어서 기뻐....              4"
      ]
     },
     "execution_count": 23,
     "metadata": {},
     "output_type": "execute_result"
    }
   ],
   "source": [
    "# 원 라벨 컬럼은 drop\n",
    "train.drop(columns=['class'], inplace=True)\n",
    "\n",
    "train.head()"
   ]
  },
  {
   "cell_type": "code",
   "execution_count": 24,
   "id": "a5eb78bf",
   "metadata": {},
   "outputs": [
    {
     "data": {
      "text/html": [
       "<div>\n",
       "<style scoped>\n",
       "    .dataframe tbody tr th:only-of-type {\n",
       "        vertical-align: middle;\n",
       "    }\n",
       "\n",
       "    .dataframe tbody tr th {\n",
       "        vertical-align: top;\n",
       "    }\n",
       "\n",
       "    .dataframe thead th {\n",
       "        text-align: right;\n",
       "    }\n",
       "</style>\n",
       "<table border=\"1\" class=\"dataframe\">\n",
       "  <thead>\n",
       "    <tr style=\"text-align: right;\">\n",
       "      <th></th>\n",
       "      <th>conversation</th>\n",
       "      <th>class</th>\n",
       "    </tr>\n",
       "  </thead>\n",
       "  <tbody>\n",
       "    <tr>\n",
       "      <th>0</th>\n",
       "      <td>아이가 아빠 생일이라고 그림을 그려줬어.\\n좋으시겠어요. 자녀분이 그림을 잘 그리나...</td>\n",
       "      <td>4</td>\n",
       "    </tr>\n",
       "    <tr>\n",
       "      <th>1</th>\n",
       "      <td>야 안녕\\n .어 안녕.\\n 나 오늘 택시비가 없는데 혹시 빌려줄 수 있어 ??\\n...</td>\n",
       "      <td>1</td>\n",
       "    </tr>\n",
       "    <tr>\n",
       "      <th>2</th>\n",
       "      <td>친구들이 내 결혼식장에 오면 우리 부부를 보여주는 게 용기가 나질 않아.\\n친구들에...</td>\n",
       "      <td>4</td>\n",
       "    </tr>\n",
       "    <tr>\n",
       "      <th>3</th>\n",
       "      <td>아들이 이번에 고등학교 졸업했어.\\n이번에 졸업을 하셨다니 졸업 축하 드려요.\\n근...</td>\n",
       "      <td>4</td>\n",
       "    </tr>\n",
       "    <tr>\n",
       "      <th>4</th>\n",
       "      <td>나를 괴롭히던 친구들이 전학을 갔고 안 좋은 사건들을 선생님이 해결해 주어서 기뻐....</td>\n",
       "      <td>4</td>\n",
       "    </tr>\n",
       "  </tbody>\n",
       "</table>\n",
       "</div>"
      ],
      "text/plain": [
       "                                        conversation  class\n",
       "0  아이가 아빠 생일이라고 그림을 그려줬어.\\n좋으시겠어요. 자녀분이 그림을 잘 그리나...      4\n",
       "1  야 안녕\\n .어 안녕.\\n 나 오늘 택시비가 없는데 혹시 빌려줄 수 있어 ??\\n...      1\n",
       "2  친구들이 내 결혼식장에 오면 우리 부부를 보여주는 게 용기가 나질 않아.\\n친구들에...      4\n",
       "3  아들이 이번에 고등학교 졸업했어.\\n이번에 졸업을 하셨다니 졸업 축하 드려요.\\n근...      4\n",
       "4  나를 괴롭히던 친구들이 전학을 갔고 안 좋은 사건들을 선생님이 해결해 주어서 기뻐....      4"
      ]
     },
     "execution_count": 24,
     "metadata": {},
     "output_type": "execute_result"
    }
   ],
   "source": [
    "# 정수 인코딩 컬럼은 class로 rename\n",
    "train.rename(columns={'encoded_label': 'class'}, inplace=True)\n",
    "\n",
    "train.head()"
   ]
  },
  {
   "cell_type": "code",
   "execution_count": 25,
   "id": "020ac7de",
   "metadata": {},
   "outputs": [
    {
     "name": "stdout",
     "output_type": "stream",
     "text": [
      "       conversation\n",
      "class              \n",
      "0               896\n",
      "1               981\n",
      "2               979\n",
      "3              1094\n",
      "4             63690\n"
     ]
    }
   ],
   "source": [
    "print(train.groupby(\"class\").count())"
   ]
  },
  {
   "cell_type": "code",
   "execution_count": 26,
   "id": "250f24ad",
   "metadata": {},
   "outputs": [],
   "source": [
    "train.to_csv(\"../aiffel/preprocessed_train_raw.csv\")"
   ]
  },
  {
   "cell_type": "code",
   "execution_count": null,
   "id": "1d0e921d",
   "metadata": {},
   "outputs": [],
   "source": []
  }
 ],
 "metadata": {
  "kernelspec": {
   "display_name": "Python 3 (ipykernel)",
   "language": "python",
   "name": "python3"
  },
  "language_info": {
   "codemirror_mode": {
    "name": "ipython",
    "version": 3
   },
   "file_extension": ".py",
   "mimetype": "text/x-python",
   "name": "python",
   "nbconvert_exporter": "python",
   "pygments_lexer": "ipython3",
   "version": "3.9.7"
  }
 },
 "nbformat": 4,
 "nbformat_minor": 5
}
